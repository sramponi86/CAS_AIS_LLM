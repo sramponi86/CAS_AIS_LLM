{
  "cells": [
    {
      "cell_type": "markdown",
      "metadata": {
        "id": "view-in-github",
        "colab_type": "text"
      },
      "source": [
        "<a href=\"https://colab.research.google.com/github/sramponi86/CAS_AIS_LLM/blob/main/CAS_project3_legal_judgement_prediction_4clust.ipynb\" target=\"_parent\"><img src=\"https://colab.research.google.com/assets/colab-badge.svg\" alt=\"Open In Colab\"/></a>"
      ]
    },
    {
      "cell_type": "markdown",
      "metadata": {
        "id": "Uyvzr0-vMgdU"
      },
      "source": [
        "# Legal judgement prediction\n",
        "\n",
        "For this project, we will use the **ECHR dataset**, a collection of 11.5K court cases extracted from the public database of the European Court of Human Rights and further annotated by human experts (more info [here](https://www.aclweb.org/anthology/P19-1424/)). You will develop NLP models that, given the facts of a case, predict whether a human rights article or protocol has been violated. We call such problems *binary classification*.\n",
        "\n",
        "We will start from simple logistic regression classifiers that use bag-of-words representations of a court case as features, then move to bidirectional LSTM classifiers with frozen and adaptive embeddings, and conclude with pre-trained and fine-tuned Transformer language models.\n",
        "\n",
        "For those who want to go above and beyond, or simply exercise their NLP classification skills further, it is possible to work on a non-mandatory project extension. Here, you will build models that predict a court case's \"importance score\". This is a value from 1 to 4 that allows legal practitioners to identify pivotal cases. You will address this as a *multi-class classification* problem. But more on this later!\n",
        "\n",
        "All of the binary classification tasks, which are mandatory, are based on notions and code that you have been exposed to through lectures and/or tutorials."
      ]
    },
    {
      "cell_type": "markdown",
      "metadata": {
        "id": "qiqpAWNoM-Yu"
      },
      "source": [
        "## Preliminary data analysis"
      ]
    },
    {
      "cell_type": "markdown",
      "metadata": {
        "id": "6OLV5DnUOCtC"
      },
      "source": [
        "Let's begin by loading the dataset. The ECHR dataset is open-source and can be downloaded from [this web page](https://archive.org/details/ECHR-ACL2019), but we are going to load a cleaner version of it, which has been pre-processed for this course.\n",
        "\n",
        "For that, we will need the `datasets` library installed."
      ]
    },
    {
      "cell_type": "code",
      "execution_count": 1,
      "metadata": {
        "id": "8djOck8sAtoL",
        "colab": {
          "base_uri": "https://localhost:8080/"
        },
        "outputId": "51df2264-eeaf-42d0-def4-88d8e6a7421b"
      },
      "outputs": [
        {
          "output_type": "stream",
          "name": "stdout",
          "text": [
            "Collecting datasets\n",
            "  Downloading datasets-2.18.0-py3-none-any.whl (510 kB)\n",
            "\u001b[2K     \u001b[90m━━━━━━━━━━━━━━━━━━━━━━━━━━━━━━━━━━━━━━━━\u001b[0m \u001b[32m510.5/510.5 kB\u001b[0m \u001b[31m6.4 MB/s\u001b[0m eta \u001b[36m0:00:00\u001b[0m\n",
            "\u001b[?25hRequirement already satisfied: filelock in /usr/local/lib/python3.10/dist-packages (from datasets) (3.13.3)\n",
            "Requirement already satisfied: numpy>=1.17 in /usr/local/lib/python3.10/dist-packages (from datasets) (1.25.2)\n",
            "Requirement already satisfied: pyarrow>=12.0.0 in /usr/local/lib/python3.10/dist-packages (from datasets) (14.0.2)\n",
            "Requirement already satisfied: pyarrow-hotfix in /usr/local/lib/python3.10/dist-packages (from datasets) (0.6)\n",
            "Collecting dill<0.3.9,>=0.3.0 (from datasets)\n",
            "  Downloading dill-0.3.8-py3-none-any.whl (116 kB)\n",
            "\u001b[2K     \u001b[90m━━━━━━━━━━━━━━━━━━━━━━━━━━━━━━━━━━━━━━━━\u001b[0m \u001b[32m116.3/116.3 kB\u001b[0m \u001b[31m6.8 MB/s\u001b[0m eta \u001b[36m0:00:00\u001b[0m\n",
            "\u001b[?25hRequirement already satisfied: pandas in /usr/local/lib/python3.10/dist-packages (from datasets) (1.5.3)\n",
            "Requirement already satisfied: requests>=2.19.0 in /usr/local/lib/python3.10/dist-packages (from datasets) (2.31.0)\n",
            "Requirement already satisfied: tqdm>=4.62.1 in /usr/local/lib/python3.10/dist-packages (from datasets) (4.66.2)\n",
            "Collecting xxhash (from datasets)\n",
            "  Downloading xxhash-3.4.1-cp310-cp310-manylinux_2_17_x86_64.manylinux2014_x86_64.whl (194 kB)\n",
            "\u001b[2K     \u001b[90m━━━━━━━━━━━━━━━━━━━━━━━━━━━━━━━━━━━━━━━━\u001b[0m \u001b[32m194.1/194.1 kB\u001b[0m \u001b[31m7.4 MB/s\u001b[0m eta \u001b[36m0:00:00\u001b[0m\n",
            "\u001b[?25hCollecting multiprocess (from datasets)\n",
            "  Downloading multiprocess-0.70.16-py310-none-any.whl (134 kB)\n",
            "\u001b[2K     \u001b[90m━━━━━━━━━━━━━━━━━━━━━━━━━━━━━━━━━━━━━━━━\u001b[0m \u001b[32m134.8/134.8 kB\u001b[0m \u001b[31m7.5 MB/s\u001b[0m eta \u001b[36m0:00:00\u001b[0m\n",
            "\u001b[?25hRequirement already satisfied: fsspec[http]<=2024.2.0,>=2023.1.0 in /usr/local/lib/python3.10/dist-packages (from datasets) (2023.6.0)\n",
            "Requirement already satisfied: aiohttp in /usr/local/lib/python3.10/dist-packages (from datasets) (3.9.3)\n",
            "Requirement already satisfied: huggingface-hub>=0.19.4 in /usr/local/lib/python3.10/dist-packages (from datasets) (0.20.3)\n",
            "Requirement already satisfied: packaging in /usr/local/lib/python3.10/dist-packages (from datasets) (24.0)\n",
            "Requirement already satisfied: pyyaml>=5.1 in /usr/local/lib/python3.10/dist-packages (from datasets) (6.0.1)\n",
            "Requirement already satisfied: aiosignal>=1.1.2 in /usr/local/lib/python3.10/dist-packages (from aiohttp->datasets) (1.3.1)\n",
            "Requirement already satisfied: attrs>=17.3.0 in /usr/local/lib/python3.10/dist-packages (from aiohttp->datasets) (23.2.0)\n",
            "Requirement already satisfied: frozenlist>=1.1.1 in /usr/local/lib/python3.10/dist-packages (from aiohttp->datasets) (1.4.1)\n",
            "Requirement already satisfied: multidict<7.0,>=4.5 in /usr/local/lib/python3.10/dist-packages (from aiohttp->datasets) (6.0.5)\n",
            "Requirement already satisfied: yarl<2.0,>=1.0 in /usr/local/lib/python3.10/dist-packages (from aiohttp->datasets) (1.9.4)\n",
            "Requirement already satisfied: async-timeout<5.0,>=4.0 in /usr/local/lib/python3.10/dist-packages (from aiohttp->datasets) (4.0.3)\n",
            "Requirement already satisfied: typing-extensions>=3.7.4.3 in /usr/local/lib/python3.10/dist-packages (from huggingface-hub>=0.19.4->datasets) (4.10.0)\n",
            "Requirement already satisfied: charset-normalizer<4,>=2 in /usr/local/lib/python3.10/dist-packages (from requests>=2.19.0->datasets) (3.3.2)\n",
            "Requirement already satisfied: idna<4,>=2.5 in /usr/local/lib/python3.10/dist-packages (from requests>=2.19.0->datasets) (3.6)\n",
            "Requirement already satisfied: urllib3<3,>=1.21.1 in /usr/local/lib/python3.10/dist-packages (from requests>=2.19.0->datasets) (2.0.7)\n",
            "Requirement already satisfied: certifi>=2017.4.17 in /usr/local/lib/python3.10/dist-packages (from requests>=2.19.0->datasets) (2024.2.2)\n",
            "Requirement already satisfied: python-dateutil>=2.8.1 in /usr/local/lib/python3.10/dist-packages (from pandas->datasets) (2.8.2)\n",
            "Requirement already satisfied: pytz>=2020.1 in /usr/local/lib/python3.10/dist-packages (from pandas->datasets) (2023.4)\n",
            "Requirement already satisfied: six>=1.5 in /usr/local/lib/python3.10/dist-packages (from python-dateutil>=2.8.1->pandas->datasets) (1.16.0)\n",
            "Installing collected packages: xxhash, dill, multiprocess, datasets\n",
            "Successfully installed datasets-2.18.0 dill-0.3.8 multiprocess-0.70.16 xxhash-3.4.1\n"
          ]
        }
      ],
      "source": [
        "!pip install -U datasets"
      ]
    },
    {
      "cell_type": "markdown",
      "metadata": {
        "id": "X6C5nWs3AuGY"
      },
      "source": [
        "Now we can import the `load_dataset` from `datasets`, as well as the `pandas` library."
      ]
    },
    {
      "cell_type": "code",
      "execution_count": 2,
      "metadata": {
        "id": "8CTqAc9T_OjH",
        "colab": {
          "base_uri": "https://localhost:8080/"
        },
        "outputId": "cf5bef33-2ec4-4c24-8391-fbbf99e3be8e"
      },
      "outputs": [
        {
          "output_type": "stream",
          "name": "stdout",
          "text": [
            "Collecting fsspec==2023.9.2\n",
            "  Downloading fsspec-2023.9.2-py3-none-any.whl (173 kB)\n",
            "\u001b[?25l     \u001b[90m━━━━━━━━━━━━━━━━━━━━━━━━━━━━━━━━━━━━━━━━\u001b[0m \u001b[32m0.0/173.4 kB\u001b[0m \u001b[31m?\u001b[0m eta \u001b[36m-:--:--\u001b[0m\r\u001b[2K     \u001b[91m━━━━━━━━━━━━━━━━━━━━━━━━━\u001b[0m\u001b[91m╸\u001b[0m\u001b[90m━━━━━━━━━━━━━━\u001b[0m \u001b[32m112.6/173.4 kB\u001b[0m \u001b[31m3.0 MB/s\u001b[0m eta \u001b[36m0:00:01\u001b[0m\r\u001b[2K     \u001b[90m━━━━━━━━━━━━━━━━━━━━━━━━━━━━━━━━━━━━━━━━\u001b[0m \u001b[32m173.4/173.4 kB\u001b[0m \u001b[31m3.1 MB/s\u001b[0m eta \u001b[36m0:00:00\u001b[0m\n",
            "\u001b[?25hInstalling collected packages: fsspec\n",
            "  Attempting uninstall: fsspec\n",
            "    Found existing installation: fsspec 2023.6.0\n",
            "    Uninstalling fsspec-2023.6.0:\n",
            "      Successfully uninstalled fsspec-2023.6.0\n",
            "\u001b[31mERROR: pip's dependency resolver does not currently take into account all the packages that are installed. This behaviour is the source of the following dependency conflicts.\n",
            "torch 2.2.1+cu121 requires nvidia-cublas-cu12==12.1.3.1; platform_system == \"Linux\" and platform_machine == \"x86_64\", which is not installed.\n",
            "torch 2.2.1+cu121 requires nvidia-cuda-cupti-cu12==12.1.105; platform_system == \"Linux\" and platform_machine == \"x86_64\", which is not installed.\n",
            "torch 2.2.1+cu121 requires nvidia-cuda-nvrtc-cu12==12.1.105; platform_system == \"Linux\" and platform_machine == \"x86_64\", which is not installed.\n",
            "torch 2.2.1+cu121 requires nvidia-cuda-runtime-cu12==12.1.105; platform_system == \"Linux\" and platform_machine == \"x86_64\", which is not installed.\n",
            "torch 2.2.1+cu121 requires nvidia-cudnn-cu12==8.9.2.26; platform_system == \"Linux\" and platform_machine == \"x86_64\", which is not installed.\n",
            "torch 2.2.1+cu121 requires nvidia-cufft-cu12==11.0.2.54; platform_system == \"Linux\" and platform_machine == \"x86_64\", which is not installed.\n",
            "torch 2.2.1+cu121 requires nvidia-curand-cu12==10.3.2.106; platform_system == \"Linux\" and platform_machine == \"x86_64\", which is not installed.\n",
            "torch 2.2.1+cu121 requires nvidia-cusolver-cu12==11.4.5.107; platform_system == \"Linux\" and platform_machine == \"x86_64\", which is not installed.\n",
            "torch 2.2.1+cu121 requires nvidia-cusparse-cu12==12.1.0.106; platform_system == \"Linux\" and platform_machine == \"x86_64\", which is not installed.\n",
            "torch 2.2.1+cu121 requires nvidia-nccl-cu12==2.19.3; platform_system == \"Linux\" and platform_machine == \"x86_64\", which is not installed.\n",
            "torch 2.2.1+cu121 requires nvidia-nvtx-cu12==12.1.105; platform_system == \"Linux\" and platform_machine == \"x86_64\", which is not installed.\n",
            "gcsfs 2023.6.0 requires fsspec==2023.6.0, but you have fsspec 2023.9.2 which is incompatible.\u001b[0m\u001b[31m\n",
            "\u001b[0mSuccessfully installed fsspec-2023.9.2\n"
          ]
        }
      ],
      "source": [
        "!pip install fsspec==2023.9.2"
      ]
    },
    {
      "cell_type": "code",
      "execution_count": 3,
      "metadata": {
        "id": "ZaQR7UOYd1uK"
      },
      "outputs": [],
      "source": [
        "import warnings\n",
        "warnings.simplefilter(action='ignore', category=FutureWarning)\n",
        "\n",
        "import pandas as pd\n",
        "from datasets import load_dataset\n"
      ]
    },
    {
      "cell_type": "markdown",
      "metadata": {
        "id": "ZFZdle6dAyTu"
      },
      "source": [
        "We load the data from the Hugging Face dataset hub and we store it in a pandas dataframe."
      ]
    },
    {
      "cell_type": "code",
      "execution_count": 4,
      "metadata": {
        "id": "ljwlumr3A1mk",
        "colab": {
          "base_uri": "https://localhost:8080/",
          "height": 237,
          "referenced_widgets": [
            "152904aa01284da399f6187deb9eba51",
            "e3812d2927a949b998a47b473839d700",
            "326ec5ebabac4b8692699d899fd970ec",
            "8232f2ce46b04385ae52f3d16de2ca6e",
            "fe1c7c5024764121be98d1b7a2626035",
            "96643a8a7f3143ef9e714a3a13d1b0ff",
            "537909b525f845fb82901fb0e9b8e848",
            "a287e09202df4f97ad57adc44b13ab0e",
            "b38b407503a247e1a541112483ab2332",
            "ffc6b31b200d4fae85d9125fff4a0b6e",
            "279d7d826704451289722f8d40b9f657",
            "8cfe68d6e5044c218dee2701ed0061a1",
            "0c2731084f8743eeb98e6dd3a8ce2828",
            "64c4e569dd7c42bab331e07118aee7dd",
            "2d1e03ae6cdc4383a5a9f48c9239c30b",
            "61ba0df087934f57b85470d167da7edb",
            "ca17f0187ef14a43b1a770247b704ebb",
            "a7c095e5fb6a49dfb5d809a928b79098",
            "148a5232b49d4486aa6f40e4728aea55",
            "b2c44e6b31be4f25a79dd1eb70d7a6db",
            "04c6122fe48d486bbf4fd20b80d77535",
            "dc556cafffaa420d8b0c730e1055eee2",
            "2d9270de7e384379bcdddb8dde02382f",
            "bffc0e679b8141abbe67ad0767cb412a",
            "9c8226b0e1504b988e68499d05d9ef72",
            "bd661b5568714e1cbd62b100c153b011",
            "59be81b035784014810c88890598748e",
            "7a2a60e215664361a98248dcbcd03a90",
            "85564bdadc6749b49fc01be4a053092c",
            "0d1c361b7bfc402f8fe721c07167b246",
            "b885c1674a834a209cda88c7a5f7e284",
            "df85b6d435fe4255b0206468235ad77b",
            "ee5b5c0c87de46c79c5ad234aa1d9c77"
          ]
        },
        "outputId": "58caf830-7c19-4ee4-e9a0-5989edba4fff"
      },
      "outputs": [
        {
          "output_type": "stream",
          "name": "stderr",
          "text": [
            "/usr/local/lib/python3.10/dist-packages/huggingface_hub/utils/_token.py:88: UserWarning: \n",
            "The secret `HF_TOKEN` does not exist in your Colab secrets.\n",
            "To authenticate with the Hugging Face Hub, create a token in your settings tab (https://huggingface.co/settings/tokens), set it as secret in your Google Colab and restart your session.\n",
            "You will be able to reuse this secret in all of your notebooks.\n",
            "Please note that authentication is recommended but still optional to access public models or datasets.\n",
            "  warnings.warn(\n"
          ]
        },
        {
          "output_type": "display_data",
          "data": {
            "text/plain": [
              "Downloading readme:   0%|          | 0.00/1.88k [00:00<?, ?B/s]"
            ],
            "application/vnd.jupyter.widget-view+json": {
              "version_major": 2,
              "version_minor": 0,
              "model_id": "152904aa01284da399f6187deb9eba51"
            }
          },
          "metadata": {}
        },
        {
          "output_type": "display_data",
          "data": {
            "text/plain": [
              "Downloading data:   0%|          | 0.00/159M [00:00<?, ?B/s]"
            ],
            "application/vnd.jupyter.widget-view+json": {
              "version_major": 2,
              "version_minor": 0,
              "model_id": "8cfe68d6e5044c218dee2701ed0061a1"
            }
          },
          "metadata": {}
        },
        {
          "output_type": "display_data",
          "data": {
            "text/plain": [
              "Generating train split: 0 examples [00:00, ? examples/s]"
            ],
            "application/vnd.jupyter.widget-view+json": {
              "version_major": 2,
              "version_minor": 0,
              "model_id": "2d9270de7e384379bcdddb8dde02382f"
            }
          },
          "metadata": {}
        }
      ],
      "source": [
        "dataset = load_dataset(\"glnmario/ECHR\")\n",
        "full_data = pd.DataFrame(dataset['train'])\n",
        "\n",
        "# Here, 'train' is just the default name for single-partition datasets.\n",
        "# The actual training, development, and test set are defined in the\n",
        "# first column of the dataframe ('partition').\n"
      ]
    },
    {
      "cell_type": "code",
      "execution_count": 5,
      "metadata": {
        "id": "xKSFRRPD_OjI"
      },
      "outputs": [],
      "source": [
        "import os\n",
        "os.environ['KMP_DUPLICATE_LIB_OK']='TRUE'"
      ]
    },
    {
      "cell_type": "markdown",
      "metadata": {
        "id": "8O-wLx6dA4OG"
      },
      "source": [
        "***Display and inspect the first 5 rows of the dataset.***"
      ]
    },
    {
      "cell_type": "code",
      "execution_count": 6,
      "metadata": {
        "id": "GB6P3-S3A3xd",
        "outputId": "576b7d84-00c2-4d51-dda1-188cebdcdf13",
        "colab": {
          "base_uri": "https://localhost:8080/"
        }
      },
      "outputs": [
        {
          "output_type": "execute_result",
          "data": {
            "text/plain": [
              "DatasetDict({\n",
              "    train: Dataset({\n",
              "        features: ['partition', 'itemid', 'languageisocode', 'respondent', 'branch', 'date', 'docname', 'importance', 'conclusion', 'judges', 'text', 'binary_judgement'],\n",
              "        num_rows: 11478\n",
              "    })\n",
              "})"
            ]
          },
          "metadata": {},
          "execution_count": 6
        }
      ],
      "source": [
        "dataset"
      ]
    },
    {
      "cell_type": "markdown",
      "metadata": {
        "id": "VRnoQFWNa6HS"
      },
      "source": [
        "As it is common for datasets used in Machine Learning projects, the dataset is split into 3 partitions: training, development, and test set. The training and development sets contain cases from 1959 through 2013, and the test set from 2014 through 2018.\n",
        "> Note: *It's good practice to never look at the test set during development, as the test set represents the data your Machine Learning system will have to deal with once deployed, which you can't observe at development time. Here, we will keep the test set at hand but you should avoid making any modelling decision based on its content or features. Furthermore, for data which covers a significant period of time (as we have it here), it's best to use the most recent portion of the data as test data, as this will be most similar to the real-world data for which we will use the system.*\n",
        "\n",
        "The sizes of the partitions, in terms of number of court cases, are the following:"
      ]
    },
    {
      "cell_type": "code",
      "execution_count": 7,
      "metadata": {
        "id": "NbWjFrWY5AJA",
        "colab": {
          "base_uri": "https://localhost:8080/"
        },
        "outputId": "6468b29a-df2e-46c7-af99-215fae52c8c9"
      },
      "outputs": [
        {
          "output_type": "stream",
          "name": "stdout",
          "text": [
            "Training set      7100\n",
            "Development set   1380\n",
            "Test set          2998\n",
            "Total            11478\n"
          ]
        }
      ],
      "source": [
        "print(\"Training set     \", len(full_data[full_data.partition == \"train\"]))\n",
        "print(\"Development set  \", len(full_data[full_data.partition == \"dev\"]))\n",
        "print(\"Test set         \", len(full_data[full_data.partition == \"test\"]))\n",
        "print(\"Total           \", len(full_data))"
      ]
    },
    {
      "cell_type": "markdown",
      "metadata": {
        "id": "htI2gzVc7dot"
      },
      "source": [
        "Each instance in this dataset is a court case. Each court case is annotated with the following properties (the columns of the dataframe):\n",
        "\n",
        "*   `partition`: a label indicating dataset partition this court case belongs to (\"train\", \"dev\", or \"test\")\n",
        "*   `itemid`: a code which uniquely identifies this court case\n",
        "*   `languageisocode`: an [ISO code](https://en.wikipedia.org/wiki/List_of_ISO_3166_country_codes) describing the language in which the case is reported\n",
        "*   `respondent`: the ISO code of the party being sued or tried (respondents are nation states)\n",
        "*   `branch`: the branch of the Court dealing with the case, indicating at which stage of the trial a judgement was made (it can be one out of \"ADMISSIBILITY\", \"CHAMBER\", \"GRANDCHAMBER\", \"COMMITTEE\")\n",
        "*   `date`: the date of the judgement\n",
        "*   `docname`: the title of the court case (for example, \"ERIKSON v. ITALY\")\n",
        "*   `importance`: an \"importance score\" from 1 (key case) to 4 (unimportant), denoting a case's contribution in the development of case-law\n",
        "*   `conclusion`: a short summary of the case conclusion (for example, \"Inadmissible\" or \"Violation of Art. 6-1; No violation of Art. 10\"\n",
        "*   `judges`: the name of the judges\n",
        "*   `text`: the facts brought to the attention of the Court\n",
        "*   `binary_judgement`: a binary label indicating whether an article or protocol was (1) or wasn't (0) violated\n"
      ]
    },
    {
      "cell_type": "code",
      "execution_count": 8,
      "metadata": {
        "id": "1VxT6t8l7_aR",
        "colab": {
          "base_uri": "https://localhost:8080/"
        },
        "outputId": "71cd300e-006b-4d17-9692-d0b2c3f305d3"
      },
      "outputs": [
        {
          "output_type": "execute_result",
          "data": {
            "text/plain": [
              "Index(['partition', 'itemid', 'languageisocode', 'respondent', 'branch',\n",
              "       'date', 'docname', 'importance', 'conclusion', 'judges', 'text',\n",
              "       'binary_judgement'],\n",
              "      dtype='object')"
            ]
          },
          "metadata": {},
          "execution_count": 8
        }
      ],
      "source": [
        "full_data.columns"
      ]
    },
    {
      "cell_type": "markdown",
      "metadata": {
        "id": "6m5ncVrtr84R"
      },
      "source": [
        " ### Filter court cases based on length\n",
        " We are now going to filter out from the dataset the court cases with the longest texts. We will do this for two reasons. First, this will speed up the experiments. Second, the Transformer model that we will use at the end of the project has, like most Transormers, a limited *window size*, which cannot fit more than 2048 tokens. This is the maximum sequence length that a Transformer can process at a time.\n",
        "\n",
        "***Set a threshold by inspecting how many data points it tosses out and how balanced the sizes of the different partitions are (see the next four code cells). The threshold should be smaller than 2048, but greater than or equal to 300.***"
      ]
    },
    {
      "cell_type": "code",
      "execution_count": 9,
      "metadata": {
        "id": "rhX193D6tvqX"
      },
      "outputs": [],
      "source": [
        "THRESHOLD = 2047"
      ]
    },
    {
      "cell_type": "markdown",
      "metadata": {
        "id": "bU-IL-x7typO"
      },
      "source": [
        "Let's look at basic text length statistics and how many court cases are left out when using a certain threshold.\n",
        "\n",
        "First, we measure the length of every text in the dataset. We do this by splitting each text into words as indicated by whitespace characters, and then counting the number of resulting words."
      ]
    },
    {
      "cell_type": "code",
      "execution_count": 10,
      "metadata": {
        "id": "FcpJD7o1BvZe"
      },
      "outputs": [],
      "source": [
        "# Extract text lengths using whitespaces as a simple criterion to separate words\n",
        "text_lengths = []\n",
        "for text in full_data.text:\n",
        "  word_list = text.split()\n",
        "  num_words = len(word_list)\n",
        "  text_lengths.append(num_words)"
      ]
    },
    {
      "cell_type": "markdown",
      "metadata": {
        "id": "nf710CrACOUx"
      },
      "source": [
        "Now can plot the distribution of text lengths, marking the threshold with a vertical line."
      ]
    },
    {
      "cell_type": "code",
      "execution_count": 11,
      "metadata": {
        "id": "f0R1BMMOt9oz",
        "colab": {
          "base_uri": "https://localhost:8080/",
          "height": 449
        },
        "outputId": "9c0e2204-fe14-4187-cf50-ff861e8d8637"
      },
      "outputs": [
        {
          "output_type": "display_data",
          "data": {
            "text/plain": [
              "<Figure size 640x480 with 1 Axes>"
            ],
            "image/png": "[encoded data removed]"
          },
          "metadata": {}
        }
      ],
      "source": [
        "import matplotlib.pyplot as plt\n",
        "\n",
        "# Plot text lengths\n",
        "plt.hist(text_lengths, bins=100, alpha=0.5)\n",
        "plt.ylabel('Frequency')\n",
        "plt.xlabel('Text length (number of words)')\n",
        "\n",
        "# Add a vertical bar corresponding to the threshold\n",
        "plt.axvline(THRESHOLD, color='k', linestyle='dashed', linewidth=1)\n",
        "\n",
        "plt.show()"
      ]
    },
    {
      "cell_type": "markdown",
      "metadata": {
        "id": "d263w52ruxzV"
      },
      "source": [
        "As you can see this leaves out quite a few court cases, but it is okay for the purposes of this project."
      ]
    },
    {
      "cell_type": "code",
      "execution_count": 12,
      "metadata": {
        "id": "SD5wMLQ9vBLO",
        "colab": {
          "base_uri": "https://localhost:8080/"
        },
        "outputId": "ef803d49-b4a2-411a-c824-835dbd2f0ff6"
      },
      "outputs": [
        {
          "output_type": "stream",
          "name": "stdout",
          "text": [
            "Omitting 4321 long cases.\n"
          ]
        }
      ],
      "source": [
        "# Add text length as an extra column to the dataset\n",
        "full_data['text_length'] = text_lengths\n",
        "\n",
        "# Calculate how many cases are discarded\n",
        "n_left_out = sum(full_data.text_length > THRESHOLD)\n",
        "print(f\"Omitting {n_left_out} long cases.\")\n",
        "\n",
        "# Filter out court cases with a text length larger than the threshold\n",
        "data = full_data[full_data.text_length <= THRESHOLD]"
      ]
    },
    {
      "cell_type": "markdown",
      "metadata": {
        "id": "WdMlnqvGwWNC"
      },
      "source": [
        "Let's also make sure the dataset is still reasonably balanced with respect to the training, validation, and test partitions."
      ]
    },
    {
      "cell_type": "code",
      "execution_count": 13,
      "metadata": {
        "id": "Su1P_jYRv6yc",
        "colab": {
          "base_uri": "https://localhost:8080/"
        },
        "outputId": "1e7fdfc3-88c8-45e7-82b1-9a97835b1971"
      },
      "outputs": [
        {
          "output_type": "stream",
          "name": "stdout",
          "text": [
            "Training set      4332\n",
            "Development set   823\n",
            "Test set          2002\n",
            "Total            7157\n"
          ]
        }
      ],
      "source": [
        "print(\"Training set     \", len(data[data.partition == \"train\"]))\n",
        "print(\"Development set  \", len(data[data.partition == \"dev\"]))\n",
        "print(\"Test set         \", len(data[data.partition == \"test\"]))\n",
        "print(\"Total           \", len(data))"
      ]
    },
    {
      "cell_type": "markdown",
      "metadata": {
        "id": "pgHqoZHSwlyr"
      },
      "source": [
        "### Data visualization"
      ]
    },
    {
      "cell_type": "markdown",
      "metadata": {
        "id": "3hEKOBBrBAM1"
      },
      "source": [
        "Now that we have our final version of the dataset, let's visualise the distribution of some of the dataset properties (date, branch, respondent, etc.) to get a sense of the data. What time span does the dataset cover? How many cases make it to the Grand Chamber? Which countries have been sued most often?\n",
        "\n",
        "***Fill in the code for the second plot.***"
      ]
    },
    {
      "cell_type": "code",
      "execution_count": 14,
      "metadata": {
        "id": "s8EhDsw2mLrS",
        "colab": {
          "base_uri": "https://localhost:8080/",
          "height": 785
        },
        "outputId": "cae7101b-b841-405b-c25f-c9f8f8078feb"
      },
      "outputs": [
        {
          "output_type": "display_data",
          "data": {
            "text/plain": [
              "<Figure size 1500x1000 with 3 Axes>"
            ],
            "image/png": "[encoded data removed]"
          },
          "metadata": {}
        }
      ],
      "source": [
        "import seaborn as sns\n",
        "\n",
        "plt.figure(figsize=(15, 10))\n",
        "\n",
        "# Plot number of instances per date\n",
        "plt.subplot(3, 1, 1)\n",
        "sns.countplot(x='date', data=data, palette='viridis')\n",
        "plt.xticks(rotation=90)  # Rotate x-axis labels\n",
        "plt.title('Number of Instances by Date')\n",
        "\n",
        "# Plot number of instances per branch\n",
        "plt.subplot(3, 1, 2)\n",
        "values = data['branch'].value_counts()\n",
        "sns.barplot(x = values.index, y=values, palette='YlOrRd')\n",
        "plt.title('Number of Instances by Branch')\n",
        "\n",
        "# Plot number of instances per top 10 respondents\n",
        "plt.subplot(3, 1, 3)\n",
        "top_respondents = data['respondent'].value_counts().nlargest(10)\n",
        "sns.barplot(x=top_respondents.index, y=top_respondents.values, palette='colorblind')\n",
        "plt.title('Number of Instances by Top 10 Respondents')\n",
        "\n",
        "plt.tight_layout()\n",
        "plt.show()"
      ]
    },
    {
      "cell_type": "markdown",
      "metadata": {
        "id": "9zuMXXbqFys4"
      },
      "source": [
        "Let's now look at how many cases in this dataset actually resulted in violations of human rights articles or protocols. This is typically called the *class label distribution*. It will give us an idea of the dataset *class balance* (or *class imbalance*), an important property to look out for when making modelling and evaluation decisions."
      ]
    },
    {
      "cell_type": "code",
      "execution_count": 15,
      "metadata": {
        "id": "u9Wbw_a8DQmu",
        "colab": {
          "base_uri": "https://localhost:8080/",
          "height": 641
        },
        "outputId": "eb79a04c-634e-4fc7-ddd4-29d0e3252688"
      },
      "outputs": [
        {
          "output_type": "display_data",
          "data": {
            "text/plain": [
              "<Figure size 1000x700 with 1 Axes>"
            ],
            "image/png": "[encoded data removed]"
          },
          "metadata": {}
        }
      ],
      "source": [
        "plt.figure(figsize=(10, 7))\n",
        "\n",
        "# Plot binary class label distribution per partition\n",
        "sns.countplot(\n",
        "    x='partition',\n",
        "    hue='binary_judgement',\n",
        "    data=data,\n",
        "    palette='colorblind',\n",
        "    order=['train', 'dev', 'test']\n",
        ")\n",
        "\n",
        "# Annotate plot\n",
        "plt.legend(title='Judgement', labels=['0: no violation', '1: violation'])\n",
        "plt.title('Distribution of Binary Judgement Labels for Each Dataset Partition')\n",
        "plt.xlabel('Partition')\n",
        "plt.ylabel('Number of Cases')\n",
        "plt.show()"
      ]
    },
    {
      "cell_type": "markdown",
      "metadata": {
        "id": "b4ps8GzcG2K2"
      },
      "source": [
        "Finally, let's look at the class distribution of importance scores. Remember: importance scores range from 1 (key case) to 4 (unimportant).\n",
        "\n",
        "***Write code that plots the class distribution per data partition.***"
      ]
    },
    {
      "cell_type": "code",
      "execution_count": 16,
      "metadata": {
        "id": "u58tf6MNHA09",
        "colab": {
          "base_uri": "https://localhost:8080/",
          "height": 641
        },
        "outputId": "5ea30324-3fde-4441-8f24-185edeafc05b"
      },
      "outputs": [
        {
          "output_type": "display_data",
          "data": {
            "text/plain": [
              "<Figure size 1000x700 with 1 Axes>"
            ],
            "image/png": "[encoded data removed]"
          },
          "metadata": {}
        }
      ],
      "source": [
        "# Plot importance score distribution per partition\n",
        "\n",
        "plt.figure(figsize=(10, 7))\n",
        "\n",
        "# Plot importance label distribution per partition\n",
        "sns.countplot(\n",
        "    x='partition',\n",
        "    hue='importance',\n",
        "    data=data,\n",
        "    palette='colorblind',\n",
        "    order=['train', 'dev', 'test']\n",
        ")\n",
        "\n",
        "# Annotate plot\n",
        "plt.legend(title='Importance', labels=['1: key case', '2: high', '3: medium', '4: unimportant'])\n",
        "plt.title('Distribution of Importance Labels for Each Dataset Partition')\n",
        "plt.xlabel('Partition')\n",
        "plt.ylabel('Number of Cases')\n",
        "plt.show()\n"
      ]
    },
    {
      "cell_type": "markdown",
      "metadata": {
        "id": "lPLkuqCPN0Zq"
      },
      "source": [
        "## Binary Judgement Prediction with Bag of Words\n",
        "\n",
        "Let's finally start with the task of predicting the outcome of a case given the text describing the main facts brought to the attention of the court. As we have just seen, each court case is annotated with a binary judgement label: whether the offendant has (label 1) or has not (label 0) violated any human rights article or protocol. This is a similar scenario to the sentiment classification task you have worked on previously in this course."
      ]
    },
    {
      "cell_type": "markdown",
      "metadata": {
        "id": "b8zEO4zQzLfa"
      },
      "source": [
        "### Set-up\n",
        "First, we load the necessary python libraries. Similarly to the sentiment classification example, we will use `keras` and `tensorflow`.\n",
        "\n",
        "***Fix the random seed of `tensorflow` and `numpy` to ensure reproducibility.***"
      ]
    },
    {
      "cell_type": "code",
      "execution_count": 17,
      "metadata": {
        "id": "04CjFB0LN8_H"
      },
      "outputs": [],
      "source": [
        "import numpy as np\n",
        "import tensorflow as tf\n",
        "\n",
        "from tensorflow.keras.models import Sequential\n",
        "from tensorflow.keras.layers import Dense, Activation, Dropout\n",
        "from tensorflow.keras.layers import Input, TextVectorization, Embedding, Conv1D, MaxPooling1D, Flatten, LSTM, Bidirectional\n",
        "from tensorflow.keras.losses import BinaryCrossentropy\n",
        "from tensorflow.keras.optimizers import Adam, RMSprop\n",
        "from tensorflow.keras.utils import to_categorical\n",
        "from tensorflow.keras.callbacks import EarlyStopping\n",
        "from tensorflow.keras.initializers import Constant\n",
        "\n",
        "# Initialize random number generators to ensure reproducibility\n",
        "tf.random.set_seed(123)\n",
        "np.random.seed(123)"
      ]
    },
    {
      "cell_type": "code",
      "execution_count": 18,
      "metadata": {
        "id": "akmttMJ-LKM2"
      },
      "outputs": [],
      "source": [
        "# @title Convenience functions: prepare data splits in scikit-friendly format\n",
        "# @markdown You don't need to read the code in this cell, but please make sure you execute it.\n",
        "\n",
        "def load_input_from_ECHR_dataset(dataframe):\n",
        "    # Input: text\n",
        "    X_train = data[data.partition == 'train'].text.to_list()\n",
        "    X_val = data[data.partition == 'dev'].text.to_list()\n",
        "    X_test = data[data.partition == 'test'].text.to_list()\n",
        "    return X_train, X_val, X_test\n",
        "\n",
        "def load_binary_output_from_ECHR_dataset(dataframe):\n",
        "    # Binary output: violation judgement\n",
        "    y_train_binary = data[data.partition == 'train'].binary_judgement.to_numpy()\n",
        "    y_val_binary = data[data.partition == 'dev'].binary_judgement.to_numpy()\n",
        "    y_test_binary = data[data.partition == 'test'].binary_judgement.to_numpy()\n",
        "    return y_train_binary, y_val_binary, y_test_binary\n",
        "\n",
        "def load_regression_output_from_ECHR_dataset(dataframe):\n",
        "    # Regression output: case importance score\n",
        "    y_train_regression = data[data.partition == 'train'].importance.astype(float).to_numpy()\n",
        "    y_val_regression = data[data.partition == 'dev'].importance.astype(float).to_numpy()\n",
        "    y_test_regression = data[data.partition == 'test'].importance.astype(float).to_numpy()\n",
        "    return y_train_regression, y_val_regression, y_test_regression\n",
        "\n",
        "def load_multiclass_output_from_ECHR_dataset(dataframe):\n",
        "    # Multiclass output: case importance label\n",
        "    y_train_multiclass = data[data.partition == 'train'].importance.to_numpy()\n",
        "    y_val_multiclass = data[data.partition == 'dev'].importance.to_numpy()\n",
        "    y_test_multiclass = data[data.partition == 'test'].importance.to_numpy()\n",
        "    return y_train_multiclass, y_val_multiclass, y_test_multiclass\n",
        "\n",
        "def load_ECHR_dataset_for_binary_judgement_classification(dataframe, for_tensorflow=False):\n",
        "    X_train, X_val, X_test = load_input_from_ECHR_dataset(dataframe)\n",
        "    y_train, y_val, y_test = load_binary_output_from_ECHR_dataset(dataframe)\n",
        "    if for_tensorflow:\n",
        "        train_ds = tf.data.Dataset.from_tensor_slices((X_train, y_train))\n",
        "        val_ds = tf.data.Dataset.from_tensor_slices((X_val, y_val))\n",
        "        test_ds = tf.data.Dataset.from_tensor_slices((X_test, y_test))\n",
        "    else:\n",
        "        train_ds = {\"texts\": X_train, \"labels\": y_train}\n",
        "        val_ds = {\"texts\": X_val, \"labels\": y_val}\n",
        "        test_ds = {\"texts\": X_test, \"labels\": y_test}\n",
        "    return train_ds, val_ds, test_ds\n",
        "\n",
        "def load_ECHR_dataset_for_case_importance_regression(dataframe, for_tensorflow=False):\n",
        "    X_train, X_val, X_test = load_input_from_ECHR_dataset(dataframe)\n",
        "    y_train, y_val, y_test = load_regression_output_from_ECHR_dataset(dataframe)\n",
        "    if for_tensorflow:\n",
        "        train_ds = tf.data.Dataset.from_tensor_slices((X_train, y_train))\n",
        "        val_ds = tf.data.Dataset.from_tensor_slices((X_val, y_val))\n",
        "        test_ds = tf.data.Dataset.from_tensor_slices((X_test, y_test))\n",
        "    else:\n",
        "        train_ds = {\"texts\": X_train, \"labels\": y_train}\n",
        "        val_ds = {\"texts\": X_val, \"labels\": y_val}\n",
        "        test_ds = {\"texts\": X_test, \"labels\": y_test}\n",
        "        return train_ds, val_ds, test_ds\n",
        "\n",
        "def load_ECHR_dataset_for_case_importance_classification(dataframe, for_tensorflow=False):\n",
        "    X_train, X_val, X_test = load_input_from_ECHR_dataset(dataframe)\n",
        "    y_train, y_val, y_test = load_multiclass_output_from_ECHR_dataset(dataframe)\n",
        "    if for_tensorflow:\n",
        "        train_ds = tf.data.Dataset.from_tensor_slices((X_train, y_train))\n",
        "        val_ds = tf.data.Dataset.from_tensor_slices((X_val, y_val))\n",
        "        test_ds = tf.data.Dataset.from_tensor_slices((X_test, y_test))\n",
        "    else:\n",
        "        train_ds = {\"texts\": X_train, \"labels\": y_train}\n",
        "        val_ds = {\"texts\": X_val, \"labels\": y_val}\n",
        "        test_ds = {\"texts\": X_test, \"labels\": y_test}\n",
        "    return train_ds, val_ds, test_ds\n"
      ]
    },
    {
      "cell_type": "markdown",
      "metadata": {
        "id": "JWPBm8cx3_6n"
      },
      "source": [
        "### Loading the data\n",
        "\n",
        "We now load the data in needed for the binary classification task in a model-friendly format, using some convenience functions defined in the cell above. As we have seen, the ECHR dataset comes with a predefined train-validation-test split."
      ]
    },
    {
      "cell_type": "code",
      "execution_count": 19,
      "metadata": {
        "id": "mmF_K3394kl6",
        "colab": {
          "base_uri": "https://localhost:8080/"
        },
        "outputId": "7eccab3e-e6da-4a8c-baeb-00adcaf1e925"
      },
      "outputs": [
        {
          "output_type": "stream",
          "name": "stdout",
          "text": [
            "Input:  tf.Tensor(b'1. The applicants are seven Slovak nationals who live in Zemianske Kosto\\xc4\\xbeany. Their further particulars are set out in the appendix. They were represented by Mr J. Sedliak, a lawyer practising in Prievidza. The Government of the Slovak Republic (\\xe2\\x80\\x9cthe Government\\xe2\\x80\\x9d) were represented by their Agent, Mrs M. Piro\\xc5\\xa1\\xc3\\xadkov\\xc3\\xa1. 2. The facts of the case, as submitted by the parties, may be summarised as follows. 3. The applicants were elected as members of the Zemianske Kosto\\xc4\\xbeany Municipal Council for a four-year period from 1998 to 2002. The mayor prevented them from carrying out their functions and stopped paying remuneration to them for the period from 1 January 2001 to 16 December 2002. The applicants and another individual sued the municipality for unpaid remuneration totalling the equivalent of 3,591 euros (EUR). 4. As the municipality paid EUR 2,825 to them, the claimants decided to withdraw their claim in respect of that sum on 19 September 2003. 5. On 30 January 2007 the Prievidza District Court accepted in part the applicants\\xe2\\x80\\x99 claims for remuneration, to which they considered themselves entitled as members of the municipal council. The sums awarded to the applicants ranged between EUR 98 and EUR 137, plus default interest amounting to 15.5% per year as from 11 October 2002 in respect of half of the sum awarded to each applicant, and 13% per year as from 11 January 2003 in respect of the remainder. The District Court discontinued the proceedings, at the claimants\\xe2\\x80\\x99 request, in respect of the sum the municipality had already paid. 6. Both parties appealed. One applicant claimed an additional EUR 78 and three other applicants the equivalent of EUR 0.07 each. The applicants also challenged the first-instance court\\xe2\\x80\\x99s decision on costs. 7. On 9 October 2007 the Tren\\xc4\\x8d\\xc3\\xadn Regional Court amended the first-instance judgment by dismissing the claimants\\xe2\\x80\\x99 claims. It held that the District Court had erred in interpreting the law. During the relevant period the applicants had not carried out their functions as members of the municipal council. They were not, therefore, entitled to remuneration for such activities, irrespective of why the situation had arisen. The judgment stated that the applicants were employed or retired. Their posts as municipal councillors related to public functions which could not be regarded as employment. Any remuneration would be due to the applicants only if they had carried out those functions. The decision to discontinue the proceedings in respect of the sum which the defendant had paid remained unaffected. 8. The Regional Court further amended the first-instance court\\xe2\\x80\\x99s judgment by ordering the defendant to pay the applicants\\xe2\\x80\\x99 legal costs in respect of the District Court proceedings. It also ordered each of the claimants to pay the equivalent of approximately EUR 2 in respect of costs advanced by the State. The Regional Court\\xe2\\x80\\x99s judgment became final on 2 November 2007. 9. On 3 December 2007 the applicants lodged an appeal on points of law under Article 238 \\xc2\\xa7 1 of the Code of Civil Procedure. They argued that the Regional Court had committed errors of law in determining their claims. 10. On 21 December 2007 they also lodged a constitutional complaint. They alleged that the Regional Court had breached their constitutional right to judicial protection. In their complaint the applicants mentioned that they had lodged an appeal on points of law. 11. On 13 March 2008 the Constitutional Court rejected the complaint. The decision stated that the applicants had at their disposal a remedy before the ordinary courts, namely an appeal on points of law under Article 238 \\xc2\\xa7 1 of the Code of Civil Procedure. The court dealing with such an appeal had jurisdiction to review all the factual and legal aspects of the case. In those circumstances, it was not for the Constitutional Court to hear the appeal. 12. On 25 June 2008 the Supreme Court rejected the applicants\\xe2\\x80\\x99 appeal on points of law as inadmissible. It established that the highest sums claimed by the individual applicants amounted to the equivalent of EUR 137. They were thus smaller than three times the statutory minimum wage (which, at the relevant time, was the equivalent of EUR 185). In such cases, an appeal on points of law was excluded pursuant to Article 238 \\xc2\\xa7 5 of the Code of Civil Procedure. The Supreme Court\\xe2\\x80\\x99s decision was served on the applicants on 13 August 2008. 13. On 10 October 2008 the applicants lodged a second constitutional complaint, directed against the Regional Court\\xe2\\x80\\x99s judgment of 9 October 2007. They alleged a breach of their right to a fair hearing in that the Regional Court had committed errors of law. With reference to the Supreme Court\\xe2\\x80\\x99s decision, they argued that an appeal on points of law had been excluded in their case. The obstacle which resulted in the Constitutional Court rejecting their first complaint had thus been overcome. 14. On 5 February 2009 the Constitutional Court rejected the second complaint as having been lodged outside the statutory time-limit of two months. The decision stated that the applicants should have \\xe2\\x80\\x9clinked\\xe2\\x80\\x9d their constitutional complaint and the rationale of the Regional Court\\xe2\\x80\\x99s decision to the decision of the Supreme Court even if, as it seemed to be the case, they had accepted the latter\\xe2\\x80\\x99s conclusion. The decision was served on 11 March 2009. 15. Article 238 \\xc2\\xa7 1 allows for an appeal on points of law against a judgment in which the appellate court has amended the first-instance court\\xe2\\x80\\x99s judgment on its merits. However, Article 238 \\xc2\\xa7 5 excludes an appeal on points of law in cases where the appellate court judgment concerns the payment of sums the amount of which does not exceed three times the statutory minimum wage. 16. Under section 20(3), the Constitutional Court is bound by a request from a claimant for proceedings to be started unless the Act expressly provides otherwise. 17. Section 53(3) provides that a complaint to the Constitutional Court can be lodged within a period of two months from the date on which the decision in question has become final and binding, the date on which a measure has been notified, or the date on which notice of other interference has been given. 18. In a number of decisions delivered from the second half of 2009 onwards (including, amongst others, nos. I. \\xc3\\x9aS 184/09, II. \\xc3\\x9aS 237/09, I. \\xc3\\x9aS 269/09, and IV. \\xc3\\x9aS 49/2010) the Constitutional Court held that, where a claimant lodged an appeal on points of law and, at the same time, a constitutional complaint, the latter remedy was considered admissible only after the determination of the former. Similarly, in decisions no. III. \\xc3\\x9aS 114/2010 of 23 March 2010 and no. 290/2011 of 21 June 2011, the Constitutional Court expressed the view that, in cases where the Supreme Court rejected an appeal on points of law as being inadmissible, the statutory time-limit for lodging a constitutional complaint would also be considered to have been complied with in respect of the preceding final decision of the regional court concerned. Reference was made to the Court\\xe2\\x80\\x99s judgment in Zvolsk\\xc3\\xbd and Zvolsk\\xc3\\xa1 v. the Czech Republic (no. 46129/99, \\xc2\\xa7\\xc2\\xa7 51, 53 and 54, ECHR 2002IX).', shape=(), dtype=string)\n",
            "..........\n",
            "Target labels:  tf.Tensor(0, shape=(), dtype=int64)\n",
            "--------------------------------------------------\n",
            "Input:  tf.Tensor(b'4. The applicant was born in 1968. From November 1997 to June 2004 he held a post of customs inspector in Feodosiya. 5. On 13 October 2004 the applicant was arrested and placed in the Temporary Investigative Isolation Unit (\\xe2\\x80\\x9cSIZO\\xe2\\x80\\x9d) of Simferopol. Later on, he was moved to the Zaporizhzhya SIZO. 6. On 15 October 2004 the Feodosiya Town Court (\\xe2\\x80\\x9cthe Town Court\\xe2\\x80\\x9d) remanded the applicant in custody in view of the pending criminal investigations against him. The court noted in particular that the applicant was charged with a serious crime for which he was liable to a penalty of over three years\\xe2\\x80\\x99 imprisonment, and that he was unemployed. The court held, without giving any further details, that there were grounds to believe that, if left at liberty, the applicant would seek to evade investigation and trial, and obstruct the establishment of the truth in his criminal case. 7. By resolutions of the Town Court and the Kyiv Court of Appeal of 8 December 2004, 8 February, 30 March, 8 July and 7 December 2005, the maximum period of the applicant\\xe2\\x80\\x99s detention was extended, respectively, to four months, six months, nine months, thirteen months, and fourteen months and twelve days, in view of the pending criminal investigations against him. The courts put forward similar reasons for the applicant\\xe2\\x80\\x99s continued detention as in the order of 15 October 2004, and held that there were no grounds for altering the preventive measure applied in the applicant\\xe2\\x80\\x99s respect. In the resolutions of 8 July and 7 December 2005 the courts also noted that the applicant had been studying the case file. By the latter resolution, he was given a time-limit, until 20 December 2005, to complete his study of the file. 8. On 25 December 2005, the applicant requested the Simferopol SIZO administration to be released, stating that there was no formal decision authorising his detention after 25 December 2005. On 27 December 2005 the request was refused on the ground that his continuing detention was governed by Article 156 of the Code of Criminal Procedure and that his criminal case had been referred to the court for trial on 23 December 2005. 9. On an unspecified date the Shevchenkivsky District Court of Zaporizhzhya (\\xe2\\x80\\x9cthe District Court\\xe2\\x80\\x9d) received the case. 10. On 3 March 2006 the applicant lodged with that court a petition alleging, among other things, that his continuing detention was unlawful. 11. On 20 March 2006 the District Court rejected his petition and ordered him to remain in detention, stating that there were no grounds for changing the preventive measure. The court\\xe2\\x80\\x99s order, containing no further explanations or a time-limit for the applicant\\xe2\\x80\\x99s detention, was not subject to appeal. 12. On 25 October 2007 the District Court rejected another petition for his release by the applicant relying, in particular, on a letter written by prosecutors according to which there was intelligence gathered suggesting that the applicant prepared documents to leave the country. It also relied on information obtained during the hearings indicating that the applicant intended to change his citizenship. The court did not set a time-limit for the applicant\\xe2\\x80\\x99s detention. According to the applicant, the case file contained no documents or other evidence corroborating his intention to leave the country. As to the issue of citizenship, he stated that he had applied for renunciation of the Ukrainian citizenship. 13. In a judgment of 8 November 2007 the District Court convicted the applicant as charged and sentenced him to nine years and six months\\xe2\\x80\\x99 imprisonment with confiscation of all his property. It also stripped him of his service rank and limited his right to serve in law-enforcement agencies. 14. On 23 June 2008 the Zaporizhzhya Regional Court of Appeal (\\xe2\\x80\\x9cthe Court of Appeal\\xe2\\x80\\x9d) changed the first-instance court\\xe2\\x80\\x99s judgment. While upholding the applicant\\xe2\\x80\\x99s conviction for abuse of office, organised crime, and forgery of official documents, the court discontinued the proceedings concerning the charges of bribery and remitted the case concerning the charges of tax evasion for additional investigation. It also reduced the applicant\\xe2\\x80\\x99s prison sentence to five years. 15. On 22 October 2009 the Supreme Court quashed the appellate court\\xe2\\x80\\x99s judgment and remitted the case for fresh appellate review. 16. On 19 April 2010 the Court of Appeal quashed the first-instance judgment and remitted the case to the District Court. It also ordered further detention of the applicant. According to the latter\\xe2\\x80\\x99s submissions, the case is pending before the District Court. 17. According to Article 89 of the Code of Criminal Procedure, when time limits are calculated, the day from which they start running are not taken into account. When a time limit is expressed in days, it ends at midnight of the last day. 18. Other materials pertinent to the issue of lawfulness of the applicant\\xe2\\x80\\x99s detention are summarised in the judgments in the cases of Nevmerzhitsky v. Ukraine (no. 54825/00, \\xc2\\xa7\\xc2\\xa7 53-54, ECHR 2005II (extracts)) and Yeloyev v. Ukraine (no. 17283/02, \\xc2\\xa7 35, 6 November 2008).', shape=(), dtype=string)\n",
            "..........\n",
            "Target labels:  tf.Tensor(1, shape=(), dtype=int64)\n",
            "--------------------------------------------------\n",
            "Input:  tf.Tensor(b\"4. The applicant was born in 1951 and lived in Vladivostok. 5. On 17 July 1995 the commanding officer of a military unit appointed the applicant as deputy master of the medium tanker (MT) Argun. On 25 July 1995 the command of the auxiliary fleet service of the Russian Pacific Fleet sent the applicant on a trade mission to Singapore. On 1 September 1995 the commander of the military unit appointed him as master of MT Argun. The applicant remained in this post until 10 April 1999. 6. Between 28 April 1994 and 5 April 1996 the tanker was leased out by the State Committee for Management of the Property of the Russian Federation (\\xe2\\x80\\x9cthe State Property Committee\\xe2\\x80\\x9d) to a private company Inakva Co. The lease agreement stipulated that the tanker was to be staffed by the auxiliary fleet service of the Pacific Fleet which also paid the staff's wages in the Russian national currency. Inakva Co was obligated to cover the part of the staff's wages that was paid in foreign currency and the tanker maintenance costs. 7. On 5 April 1996 the State Property Committee signed a new lease agreement with an American company National Pacific Limited. 8. On an unspecified date the applicant and his crew brought proceedings in the High Court of South Africa for the unpaid wages earned by them in 1995, 1996 and 1999. 9. On 25 May 1999 the tanker was arrested in Cape Town, South Africa, pending adjudication of the dispute. 10. By judgment of 25 November 1999 (of 13 August 1999 according to the documents submitted by the Government), the High Court of South Africa declared the Russian Federation to be the lawful owner of the vessel. 11. On 12 March 2001 the Ministry of State Property of the Russian Federation, the successor of the State Property Committee, signed a new lease agreement with a private company Oil Compact, which was obligated to undertake all possible measures to release the tanker from arrest. 12. By final judgment of 12 September 2002 the High Court awarded the applicant 79,750.79 United States dollars against the vessel MT Argun and interest at the rate of 15.5% per annum on that amount. The MT Argun was ordered to pay the applicant's costs and travel expenses. It was also decided that the vessel would be sold at an auction to cover the court awards. 13. On 16 May 2003 the Supreme Court of Appeal of South Africa heard the parties' appeals and upheld the judgment of 12 September 2002. 14. On 21 November 2003 the Ministry of State Property and Ministry of Defence signed an agreement with a private agent OAO Sovfrakht seeking release of MT Argun from arrest and its transfer to the Russian Military Fleet. On the same day OAO Sovfrakht signed an agreement with a third party Avangard-2 Shipping Company S.A. which won the auction and bought the vessel. 15. On 16 January 2004 the MT Argun was handed over to the Russian Military Pacific Fleet. 16. According to the applicant, in June and July 2006 he received part of the judicial award in the amount of 7,156 USD in respect of the wages and 4,752 USD in respect of the accrued interest. 17. On 4 May 2006 the applicant brought proceedings against the State complaining of the actions (inaction) of the Federal Agency for Management of State Property in respect of his claims for unpaid wages and seeking to recover the said wages in the amount of 72.547 USD as well as legal expenses and non-pecuniary damage. On 5 May 2006 the Leninskiy District Court of Vladivostok declined jurisdiction in the case. This decision was upheld by the Primorye Regional Court on 28 June 2006. 18. Thereafter, the applicant brought the same claims before the Tverskoy District Court of Moscow. On 3 October 2006 the District Court declined jurisdiction in favour of a justice of peace. This decision was upheld by the Moscow City Court on 27 February 2007. It appears that the applicant did not bring his claims to any other court. 19. On 25 November 2002 the authorities initiated criminal proceedings in respect of the applicant in connection with his claims in the South African court. 20. On 17 March 2003 the applicant was charged with fraudulent acquirement of title to the property of the Russian Federation and other related crimes. On the same day his case was sent for preliminary investigation to the military prosecutor's office of the Pacific Fleet, and the applicant was ordered not to leave town. 21. On 26 August 2003 the preliminary investigation was stayed pending the applicant's convalescence. On 5 December 2003 the investigation was resumed. 22. Between 16 January 2004 and 17 June 2005 the applicant and his legal counsel studied the case file. 23. On 20 June 2005 the case was submitted for trial by the Leninskiy District Court of Vladivostok (\\xe2\\x80\\x9cthe District Court\\xe2\\x80\\x9d) and was assigned to judge I. 24. On 6 July 2005 the applicant requested that the preparatory hearing be postponed due to his counsel's illness. 25. On 17 November 2005 the District Court refused to examine the case and ordered the prosecution to redraft the bill of indictment tainted with a number of defects. The case was returned to the court on 29 November 2005. 26. On 12 January 2006 the hearing did not take place as the judge was involved in different proceedings. 27. The hearing of 13 January 2006 also did not take place due to the applicant's illness. The proceedings were stayed pending his convalescence. 28. On 6 July 2006 the proceedings resumed, but the hearing did not take place as the applicant's counsel did not appear. 29. On 12 July 2006 the applicant was granted leave to study the new bill of indictment until 21 July 2006. 30. On 24 July 2006 the court granted the applicant's request to send the case back to the prosecutor for re-drafting of the bill of indictment. The case was returned to the court on 18 August 2006 and was assigned to judge P. 31. The hearings scheduled for September and October 2006 did not take place due to the applicant's illness. 32. In November 2006 the court began hearing the case on the merits. The court adjourned the proceedings in November 2006, January and June 2007, each time for a week, due to the applicant's or his counsel's illness. 33. On 25 June 2007 the court adjourned the proceedings for ten days as the judge was away on a study trip. 34. The hearings of 24 December 2007 and 25 January 2008 did not take place following the applicant's and his counsel's failure to appear. 35. By judgment of 11 March 2008 the applicant was convicted of fraudulent acquirement of title to property by way of obtaining of the court award of allegedly unpaid wages, and received a suspended sentence of five years' imprisonment. 36. On 2 June 2009 the applicant died. 37. Article 437 provided that the procedure for enforcement of foreign judgments was determined by the relevant international treaties. It further stated that a judgment of a foreign court could be submitted for enforcement within three years after its adoption. 38. Article 409 provides that judgments of foreign courts concerning civil matters are recognized and enforced in Russia pursuant to a pertinent international treaty. It further stipulates that such judgments can be submitted for enforcement within three years after their adoption. 39. Article 410 provides that a request for enforcement of a foreign judgment should be filed with a regional court or other court of equal standing at the place of the debtor's residence or location. 40. Article 411 sets out the rules of procedure applying to the requests for enforcement of foreign judgments. 41. The court ruled that lack of a pertinent international treaty cannot be cited as grounds for refusal of a request for enforcement of a foreign judgment. It further stated that such a request can be granted in the event that the courts of the relevant foreign State recognize the judgments of the Russian courts on the basis of reciprocity. It ordered that the lower court verify whether such reciprocity existed in the case at hand and inquire into the existence of other international treaties concerning the two relevant States that might concern co-operation in the legal and judicial domain. 42. The Convention requires that that all members of the Commonwealth of Independent States, including Russia, Ukraine and Belarus grant the citizens of the other member States the national legal regime in all legal matters. Section III determines the reciprocal order of recognition and enforcement of the decisions taken by legal bodies in civil, family and criminal cases.\", shape=(), dtype=string)\n",
            "..........\n",
            "Target labels:  tf.Tensor(0, shape=(), dtype=int64)\n",
            "--------------------------------------------------\n"
          ]
        }
      ],
      "source": [
        "train_ds, val_ds, test_ds = load_ECHR_dataset_for_binary_judgement_classification(data, for_tensorflow=True)\n",
        "\n",
        "# Print 3 examples from the dataset\n",
        "for example, label in train_ds.take(3):\n",
        "  print(\"Input: \", example)\n",
        "  print(10*\".\")\n",
        "  print('Target labels: ', label)\n",
        "  print(50*\"-\")\n"
      ]
    },
    {
      "cell_type": "markdown",
      "metadata": {
        "id": "lh-tmuIii6YT"
      },
      "source": [
        "### Fit and evaluate\n",
        "\n",
        "The following piece of code defines a function that trains (fits) a model on the training data and evaluates it on the development set. It then returns the training and validation accuracy obtained by the model at training epoch.\n",
        "\n",
        "Please take some time to read this code and to understand all of its components."
      ]
    },
    {
      "cell_type": "code",
      "execution_count": 20,
      "metadata": {
        "id": "ienyT4zmi4qE"
      },
      "outputs": [],
      "source": [
        "def fit_and_eval_binary_classifier(\n",
        "    train_ds,\n",
        "    val_ds,\n",
        "    model,\n",
        "    learning_rate,\n",
        "    buffer_size,\n",
        "    batch_size,\n",
        "    n_epochs,\n",
        "    patience_n_epochs=5\n",
        "    ):\n",
        "\n",
        "    # compile\n",
        "    model.compile(\n",
        "        loss='binary_crossentropy',\n",
        "        metrics=['accuracy'],\n",
        "        optimizer=Adam(learning_rate=learning_rate)\n",
        "    )\n",
        "\n",
        "    # preliminaries\n",
        "    tf.random.set_seed(42)\n",
        "    np.random.seed(42)\n",
        "    tf.config.run_functions_eagerly(True)\n",
        "\n",
        "    # train\n",
        "    history = model.fit(\n",
        "        train_ds.shuffle(buffer_size=buffer_size).batch(batch_size),\n",
        "        validation_data=val_ds.batch(batch_size),\n",
        "        epochs=n_epochs,\n",
        "        verbose=1,\n",
        "        callbacks=[EarlyStopping(\n",
        "            monitor='val_accuracy', patience=patience_n_epochs, verbose=False, restore_best_weights=True\n",
        "        )]\n",
        "    )\n",
        "\n",
        "    return history.history['accuracy'], history.history['val_accuracy']"
      ]
    },
    {
      "cell_type": "markdown",
      "metadata": {
        "id": "nqVzBB3NM0Y-"
      },
      "source": [
        "Now that the data is loaded and the training and evaluation procedure is in place, we can move to modelling."
      ]
    },
    {
      "cell_type": "markdown",
      "metadata": {
        "id": "LvVK2m1-UdLr"
      },
      "source": [
        "### Creating Bag-of-Words text representations\n",
        "\n",
        "We will use [`TextVectorization`](https://www.tensorflow.org/api_docs/python/tf/keras/layers/TextVectorization) to obtain bag-of-words representations of texts.\n",
        "\n",
        "These representations will depend on two main parameters:\n",
        "* the vocabulary size `VOCAB_SIZE`, which limits the number of word considered to the `VOCAB_SIZE` most frequent ones\n",
        "* the type of bag-of-words representation: based on raw word counts (`count`) or on word counts weighed by inverse document frequency (`tf-idf`)\n",
        "\n",
        "***Write code to create count-based and tf-idf text representations.***"
      ]
    },
    {
      "cell_type": "code",
      "execution_count": 21,
      "metadata": {
        "id": "DpGaUqveWW5w"
      },
      "outputs": [],
      "source": [
        "VOCAB_SIZE = 1000\n",
        "\n",
        "# Create count-based features\n",
        "# ----------------------------\n",
        "encoder_bow_count = TextVectorization(max_tokens=VOCAB_SIZE, output_mode=\"count\")\n",
        "encoder_bow_count.adapt(train_ds.map(lambda text, label: text))\n",
        "\n",
        "# Create tf-idf features\n",
        "# ----------------------------\n",
        "encoder_bow_tfidf = TextVectorization(max_tokens=VOCAB_SIZE, output_mode=\"tf_idf\")\n",
        "encoder_bow_tfidf.adapt(train_ds.map(lambda text, label: text))"
      ]
    },
    {
      "cell_type": "code",
      "execution_count": 22,
      "metadata": {
        "id": "tBqSJCRpYaPa",
        "colab": {
          "base_uri": "https://localhost:8080/"
        },
        "outputId": "9d58eee1-c9fb-40f2-f8e7-9b28183209a2"
      },
      "outputs": [
        {
          "output_type": "execute_result",
          "data": {
            "text/plain": [
              "array(['[UNK]', 'the', 'of', 'to', 'in', 'and', 'on', 'a', 'that',\n",
              "       'court', 'applicant', 'was', 'had', 'for', 'by', 'as', 'be', 'not',\n",
              "       'his', 'he', 'with', 'it', 'an', 'been', 'or', 'appeal', 'which',\n",
              "       'is', 'proceedings', 'decision'], dtype='<U14')"
            ]
          },
          "metadata": {},
          "execution_count": 22
        }
      ],
      "source": [
        "# Let's take a peak at the vocabulary\n",
        "vocab = np.array(encoder_bow_count.get_vocabulary())\n",
        "vocab[:30]"
      ]
    },
    {
      "cell_type": "markdown",
      "metadata": {
        "id": "9MpkSFNOXQpu"
      },
      "source": [
        "### Binary classifier 1\n",
        "As a first model, we will implement a logistic regression classifier with count-based BOW representations.\n",
        "\n",
        "***Write code to define the model architecture, the training obectives, and the evaluation metric.***"
      ]
    },
    {
      "cell_type": "code",
      "execution_count": 23,
      "metadata": {
        "id": "AXHLHD_OZasK",
        "colab": {
          "base_uri": "https://localhost:8080/"
        },
        "outputId": "b0936eaf-7177-4bdb-996c-143703ddbb34"
      },
      "outputs": [
        {
          "output_type": "stream",
          "name": "stdout",
          "text": [
            "Model: \"Logistic regression, count-based BOW, |V| = 1000\"\n",
            "_________________________________________________________________\n",
            " Layer (type)                Output Shape              Param #   \n",
            "=================================================================\n",
            " text_vectorization (TextVe  (None, 1000)              0         \n",
            " ctorization)                                                    \n",
            "                                                                 \n",
            " dense (Dense)               (None, 1)                 1001      \n",
            "                                                                 \n",
            "=================================================================\n",
            "Total params: 1001 (3.91 KB)\n",
            "Trainable params: 1001 (3.91 KB)\n",
            "Non-trainable params: 0 (0.00 Byte)\n",
            "_________________________________________________________________\n",
            "None\n"
          ]
        }
      ],
      "source": [
        "# Define main hyperparameters\n",
        "# --------------------------------------------------------------\n",
        "LEARNING_RATE = 0.005\n",
        "N_EPOCHS = 20\n",
        "BUFFER_SIZE = 10000\n",
        "BATCH_SIZE = 50\n",
        "\n",
        "\n",
        "# Define model architecture\n",
        "# --------------------------------------------------------------\n",
        "binary_classifier_1 = Sequential(\n",
        "    name = f'Logistic regression, count-based BOW, |V| = {VOCAB_SIZE}'\n",
        ")\n",
        "binary_classifier_1.add(Input(shape=(1,), dtype='string'))\n",
        "binary_classifier_1.add(encoder_bow_count)\n",
        "binary_classifier_1.add(Dense(1, activation=\"sigmoid\"))\n",
        "\n",
        "\n",
        "# Define training objective, evaluation metric, and optimizer\n",
        "# --------------------------------------------------------------\n",
        "binary_classifier_1.compile(\n",
        "    loss='binary_crossentropy',\n",
        "    metrics=['accuracy'],\n",
        "    optimizer=Adam(learning_rate=LEARNING_RATE)\n",
        ")\n",
        "print(binary_classifier_1.summary())\n"
      ]
    },
    {
      "cell_type": "markdown",
      "metadata": {
        "id": "__5odlYuN4HS"
      },
      "source": [
        "Let's fit and evaluate this first classifier."
      ]
    },
    {
      "cell_type": "code",
      "execution_count": 24,
      "metadata": {
        "id": "Zf-61emXvPAd",
        "colab": {
          "base_uri": "https://localhost:8080/"
        },
        "outputId": "cbf3123a-ad8f-4bea-860d-74655e6ec18e"
      },
      "outputs": [
        {
          "output_type": "stream",
          "name": "stdout",
          "text": [
            "Epoch 1/20\n",
            "87/87 [==============================] - 7s 49ms/step - loss: 1.5656 - accuracy: 0.6487 - val_loss: 0.5867 - val_accuracy: 0.7631\n",
            "Epoch 2/20\n",
            "87/87 [==============================] - 4s 43ms/step - loss: 0.4294 - accuracy: 0.8308 - val_loss: 0.5745 - val_accuracy: 0.8165\n",
            "Epoch 3/20\n",
            "87/87 [==============================] - 4s 42ms/step - loss: 0.3329 - accuracy: 0.8710 - val_loss: 0.4629 - val_accuracy: 0.8493\n",
            "Epoch 4/20\n",
            "87/87 [==============================] - 4s 43ms/step - loss: 0.2820 - accuracy: 0.8908 - val_loss: 0.5058 - val_accuracy: 0.8165\n",
            "Epoch 5/20\n",
            "87/87 [==============================] - 4s 44ms/step - loss: 0.2520 - accuracy: 0.9047 - val_loss: 0.5032 - val_accuracy: 0.8493\n",
            "Epoch 6/20\n",
            "87/87 [==============================] - 4s 44ms/step - loss: 0.2590 - accuracy: 0.8998 - val_loss: 0.4888 - val_accuracy: 0.8481\n",
            "Epoch 7/20\n",
            "87/87 [==============================] - 4s 41ms/step - loss: 0.2425 - accuracy: 0.9037 - val_loss: 0.5339 - val_accuracy: 0.8275\n",
            "Epoch 8/20\n",
            "87/87 [==============================] - 4s 41ms/step - loss: 0.2502 - accuracy: 0.9035 - val_loss: 0.5130 - val_accuracy: 0.8445\n",
            "Epoch 9/20\n",
            "87/87 [==============================] - 4s 50ms/step - loss: 0.2370 - accuracy: 0.9079 - val_loss: 0.5460 - val_accuracy: 0.8360\n",
            "Epoch 10/20\n",
            "87/87 [==============================] - 4s 41ms/step - loss: 0.2120 - accuracy: 0.9178 - val_loss: 0.5433 - val_accuracy: 0.8469\n",
            "Epoch 11/20\n",
            "87/87 [==============================] - 4s 44ms/step - loss: 0.1987 - accuracy: 0.9224 - val_loss: 0.5810 - val_accuracy: 0.8433\n",
            "Epoch 12/20\n",
            "87/87 [==============================] - 3s 40ms/step - loss: 0.2267 - accuracy: 0.9111 - val_loss: 0.5753 - val_accuracy: 0.8481\n",
            "Epoch 13/20\n",
            "87/87 [==============================] - 4s 51ms/step - loss: 0.1998 - accuracy: 0.9234 - val_loss: 0.5874 - val_accuracy: 0.8469\n",
            "Epoch 14/20\n",
            "87/87 [==============================] - 4s 49ms/step - loss: 0.1827 - accuracy: 0.9289 - val_loss: 0.6148 - val_accuracy: 0.8372\n",
            "Epoch 15/20\n",
            "87/87 [==============================] - 4s 41ms/step - loss: 0.1899 - accuracy: 0.9275 - val_loss: 0.6136 - val_accuracy: 0.8335\n",
            "Epoch 16/20\n",
            "87/87 [==============================] - 4s 40ms/step - loss: 0.1824 - accuracy: 0.9296 - val_loss: 0.6260 - val_accuracy: 0.8396\n",
            "Epoch 17/20\n",
            "87/87 [==============================] - 3s 39ms/step - loss: 0.1720 - accuracy: 0.9310 - val_loss: 0.6324 - val_accuracy: 0.8433\n",
            "Epoch 18/20\n",
            "87/87 [==============================] - 3s 40ms/step - loss: 0.2233 - accuracy: 0.9120 - val_loss: 0.6880 - val_accuracy: 0.8299\n",
            "Epoch 19/20\n",
            "87/87 [==============================] - 4s 44ms/step - loss: 0.1752 - accuracy: 0.9317 - val_loss: 0.6736 - val_accuracy: 0.8433\n",
            "Epoch 20/20\n",
            "87/87 [==============================] - 3s 39ms/step - loss: 0.1758 - accuracy: 0.9335 - val_loss: 0.6729 - val_accuracy: 0.8469\n"
          ]
        }
      ],
      "source": [
        "# fit_and_eval_binary_classifier returns the training and validation accuracy scores over epochs\n",
        "train_acc_model_1, val_acc_model_1, =  fit_and_eval_binary_classifier(\n",
        "    train_ds=train_ds,\n",
        "    val_ds=val_ds,\n",
        "    model=binary_classifier_1,\n",
        "    learning_rate=LEARNING_RATE,\n",
        "    buffer_size=BUFFER_SIZE,\n",
        "    batch_size=BATCH_SIZE,\n",
        "    n_epochs=N_EPOCHS,\n",
        "    patience_n_epochs=N_EPOCHS\n",
        ")"
      ]
    },
    {
      "cell_type": "markdown",
      "metadata": {
        "id": "Y31x5434Gni7"
      },
      "source": [
        "These are its training and validation accuracy over epochs. (Note that the model stops training after `patience_n_epochs` where its loss doesn't improve. We set this value equal to the number of epochs, so the model completes them all. However, you can set this parameter to a lower value for more efficient training. This is what you'd likely do in practice.)"
      ]
    },
    {
      "cell_type": "code",
      "execution_count": 25,
      "metadata": {
        "id": "Uw4-twUOyp1x",
        "colab": {
          "base_uri": "https://localhost:8080/",
          "height": 472
        },
        "outputId": "dc5bcbba-3e28-4375-a49f-f7a388922761"
      },
      "outputs": [
        {
          "output_type": "display_data",
          "data": {
            "text/plain": [
              "<Figure size 640x480 with 1 Axes>"
            ],
            "image/png": "[encoded data removed]"
          },
          "metadata": {}
        }
      ],
      "source": [
        "plt.plot(\n",
        "    range(1, len(train_acc_model_1) + 1),  # the epochs for the x-axis\n",
        "    train_acc_model_1,  # the training accuracy\n",
        "    'b:',  # for dotted blue line\n",
        "    label='Logreg count-based BOW, Training acc'\n",
        ")\n",
        "plt.plot(\n",
        "    range(1, len(val_acc_model_1) + 1),  # the epochs for the x-axis\n",
        "    val_acc_model_1,  # the validation accuracy\n",
        "    'b',  # for dense blue line\n",
        "    label='Logreg count-based BOW, Validation acc'\n",
        ")\n",
        "plt.title('Training and validation accuracy')\n",
        "plt.xlabel('Epochs')\n",
        "plt.ylabel('Accuracy')\n",
        "plt.legend(loc='lower right')\n",
        "plt.grid(True)\n",
        "plt.show()"
      ]
    },
    {
      "cell_type": "markdown",
      "metadata": {
        "id": "dS53VDY-akWv"
      },
      "source": [
        "### Binary classifier 2\n",
        "Next is a logistic regression classifier with tfidf-based BOW representations.\n",
        "\n",
        "\n",
        "***Write code to define the model architecture, the training obectives, and the evaluation metric.***"
      ]
    },
    {
      "cell_type": "code",
      "execution_count": 26,
      "metadata": {
        "id": "2cpz7G3_apkG",
        "colab": {
          "base_uri": "https://localhost:8080/"
        },
        "outputId": "c7187184-75bc-4688-8dc7-16e2adc9220a"
      },
      "outputs": [
        {
          "output_type": "stream",
          "name": "stderr",
          "text": [
            "WARNING:absl:`lr` is deprecated in Keras optimizer, please use `learning_rate` or use the legacy optimizer, e.g.,tf.keras.optimizers.legacy.Adam.\n"
          ]
        },
        {
          "output_type": "stream",
          "name": "stdout",
          "text": [
            "Model: \"Logistic regression, tfidf-based BOW, |V| = 1000\"\n",
            "_________________________________________________________________\n",
            " Layer (type)                Output Shape              Param #   \n",
            "=================================================================\n",
            " text_vectorization_1 (Text  (None, 1000)              1         \n",
            " Vectorization)                                                  \n",
            "                                                                 \n",
            " dense_1 (Dense)             (None, 1)                 1001      \n",
            "                                                                 \n",
            "=================================================================\n",
            "Total params: 1002 (3.92 KB)\n",
            "Trainable params: 1001 (3.91 KB)\n",
            "Non-trainable params: 1 (8.00 Byte)\n",
            "_________________________________________________________________\n",
            "None\n"
          ]
        }
      ],
      "source": [
        "# Define main hyperparameters\n",
        "# --------------------------------------------------------------\n",
        "LEARNING_RATE = 0.005\n",
        "N_EPOCHS = 20\n",
        "BUFFER_SIZE = 10000\n",
        "BATCH_SIZE = 50\n",
        "\n",
        "\n",
        "# Define model architecture\n",
        "# --------------------------------------------------------------\n",
        "binary_classifier_2 = Sequential(\n",
        "    name = f'Logistic regression, tfidf-based BOW, |V| = {VOCAB_SIZE}'\n",
        ")\n",
        "binary_classifier_2.add(Input(shape=(1,), dtype='string'))\n",
        "binary_classifier_2.add(encoder_bow_tfidf)\n",
        "binary_classifier_2.add(Dense(1, activation=\"sigmoid\"))\n",
        "\n",
        "\n",
        "# Define training objective, evaluation metric, and optimizer\n",
        "# --------------------------------------------------------------\n",
        "binary_classifier_2.compile(\n",
        "    loss='binary_crossentropy',\n",
        "    metrics=['accuracy'],\n",
        "    optimizer=Adam(lr=LEARNING_RATE)\n",
        ")\n",
        "print(binary_classifier_2.summary())\n"
      ]
    },
    {
      "cell_type": "markdown",
      "metadata": {
        "id": "6F3prC_OO4x6"
      },
      "source": [
        "Fit and evaluate, then plot accuracy."
      ]
    },
    {
      "cell_type": "code",
      "execution_count": 27,
      "metadata": {
        "id": "3wSAQFxxyPt3",
        "colab": {
          "base_uri": "https://localhost:8080/"
        },
        "outputId": "b8e23797-646f-4892-8731-9425958aa52b"
      },
      "outputs": [
        {
          "output_type": "stream",
          "name": "stdout",
          "text": [
            "Epoch 1/20\n",
            "87/87 [==============================] - 4s 43ms/step - loss: 1.1242 - accuracy: 0.7024 - val_loss: 0.6588 - val_accuracy: 0.7776\n",
            "Epoch 2/20\n",
            "87/87 [==============================] - 3s 40ms/step - loss: 0.4160 - accuracy: 0.8486 - val_loss: 0.6104 - val_accuracy: 0.8262\n",
            "Epoch 3/20\n",
            "87/87 [==============================] - 4s 40ms/step - loss: 0.3501 - accuracy: 0.8705 - val_loss: 0.5696 - val_accuracy: 0.8323\n",
            "Epoch 4/20\n",
            "87/87 [==============================] - 4s 45ms/step - loss: 0.3163 - accuracy: 0.8807 - val_loss: 0.5803 - val_accuracy: 0.8153\n",
            "Epoch 5/20\n",
            "87/87 [==============================] - 4s 44ms/step - loss: 0.2842 - accuracy: 0.8943 - val_loss: 0.6920 - val_accuracy: 0.8323\n",
            "Epoch 6/20\n",
            "87/87 [==============================] - 4s 41ms/step - loss: 0.2862 - accuracy: 0.8917 - val_loss: 0.7425 - val_accuracy: 0.7959\n",
            "Epoch 7/20\n",
            "87/87 [==============================] - 4s 43ms/step - loss: 0.2921 - accuracy: 0.8922 - val_loss: 0.8285 - val_accuracy: 0.7849\n",
            "Epoch 8/20\n",
            "87/87 [==============================] - 4s 41ms/step - loss: 0.3053 - accuracy: 0.8952 - val_loss: 0.7183 - val_accuracy: 0.8287\n",
            "Epoch 9/20\n",
            "87/87 [==============================] - 4s 40ms/step - loss: 0.2646 - accuracy: 0.9040 - val_loss: 0.7608 - val_accuracy: 0.8141\n",
            "Epoch 10/20\n",
            "87/87 [==============================] - 4s 48ms/step - loss: 0.2398 - accuracy: 0.9095 - val_loss: 0.7503 - val_accuracy: 0.8372\n",
            "Epoch 11/20\n",
            "87/87 [==============================] - 3s 40ms/step - loss: 0.2253 - accuracy: 0.9153 - val_loss: 0.8267 - val_accuracy: 0.8311\n",
            "Epoch 12/20\n",
            "87/87 [==============================] - 4s 46ms/step - loss: 0.2678 - accuracy: 0.9005 - val_loss: 0.8295 - val_accuracy: 0.8323\n",
            "Epoch 13/20\n",
            "87/87 [==============================] - 4s 46ms/step - loss: 0.2338 - accuracy: 0.9139 - val_loss: 0.8270 - val_accuracy: 0.8457\n",
            "Epoch 14/20\n",
            "87/87 [==============================] - 4s 41ms/step - loss: 0.2026 - accuracy: 0.9282 - val_loss: 0.8711 - val_accuracy: 0.8080\n",
            "Epoch 15/20\n",
            "87/87 [==============================] - 3s 39ms/step - loss: 0.2370 - accuracy: 0.9132 - val_loss: 0.8610 - val_accuracy: 0.8250\n",
            "Epoch 16/20\n",
            "87/87 [==============================] - 4s 49ms/step - loss: 0.2023 - accuracy: 0.9224 - val_loss: 0.8854 - val_accuracy: 0.8214\n",
            "Epoch 17/20\n",
            "87/87 [==============================] - 4s 41ms/step - loss: 0.1907 - accuracy: 0.9206 - val_loss: 0.8804 - val_accuracy: 0.8226\n",
            "Epoch 18/20\n",
            "87/87 [==============================] - 5s 52ms/step - loss: 0.2497 - accuracy: 0.9097 - val_loss: 0.9567 - val_accuracy: 0.8153\n",
            "Epoch 19/20\n",
            "87/87 [==============================] - 4s 40ms/step - loss: 0.1987 - accuracy: 0.9238 - val_loss: 0.9279 - val_accuracy: 0.8348\n",
            "Epoch 20/20\n",
            "87/87 [==============================] - 4s 44ms/step - loss: 0.1992 - accuracy: 0.9289 - val_loss: 0.9493 - val_accuracy: 0.8372\n"
          ]
        }
      ],
      "source": [
        "train_acc_model_2, val_acc_model_2, =  fit_and_eval_binary_classifier(\n",
        "    train_ds=train_ds,\n",
        "    val_ds=val_ds,\n",
        "    model=binary_classifier_2,\n",
        "    learning_rate=LEARNING_RATE,\n",
        "    buffer_size=BUFFER_SIZE,\n",
        "    batch_size=BATCH_SIZE,\n",
        "    n_epochs=N_EPOCHS,\n",
        "    patience_n_epochs=N_EPOCHS\n",
        ")"
      ]
    },
    {
      "cell_type": "code",
      "execution_count": 28,
      "metadata": {
        "id": "Y0mHJEvczFD2",
        "colab": {
          "base_uri": "https://localhost:8080/",
          "height": 472
        },
        "outputId": "1a4d072f-00fc-4020-cb3a-d0d9a2b2d552"
      },
      "outputs": [
        {
          "output_type": "display_data",
          "data": {
            "text/plain": [
              "<Figure size 640x480 with 1 Axes>"
            ],
            "image/png": "[encoded data removed]"
          },
          "metadata": {}
        }
      ],
      "source": [
        "plt.plot(\n",
        "    range(1, len(train_acc_model_2) + 1),\n",
        "    train_acc_model_2,\n",
        "    'g:',\n",
        "    label='Logreg tfidf-based BOW, Training acc'\n",
        ")\n",
        "plt.plot(\n",
        "    range(1, len(val_acc_model_2) + 1),\n",
        "    val_acc_model_2,\n",
        "    'g',\n",
        "    label='Logreg tfidf-based BOW, Validation acc'\n",
        ")\n",
        "plt.title('Training and validation accuracy')\n",
        "plt.xlabel('Epochs')\n",
        "plt.ylabel('Accuracy')\n",
        "plt.legend(loc='lower right')\n",
        "plt.grid(True)\n",
        "plt.show()"
      ]
    },
    {
      "cell_type": "markdown",
      "metadata": {
        "id": "D8j7sMbm105C"
      },
      "source": [
        "### Model comparison\n",
        "\n",
        "To compare the two models visually, ***plot the training and validation accuracy of the two bag-of-words models.***"
      ]
    },
    {
      "cell_type": "code",
      "execution_count": 29,
      "metadata": {
        "id": "R7Xa0f_E13Og",
        "colab": {
          "base_uri": "https://localhost:8080/",
          "height": 472
        },
        "outputId": "a8fb06bd-4d68-480c-8cc6-d3d55b94588a"
      },
      "outputs": [
        {
          "output_type": "display_data",
          "data": {
            "text/plain": [
              "<Figure size 640x480 with 1 Axes>"
            ],
            "image/png": "[encoded data removed]"
          },
          "metadata": {}
        }
      ],
      "source": [
        "plt.plot(range(1, len(train_acc_model_1) + 1), train_acc_model_1, 'r:', label='model_BoW_1L_count, Training acc')\n",
        "plt.plot(range(1, len(val_acc_model_1) + 1), val_acc_model_1,   'r',  label='model_BoW_1L_count, Validation acc')\n",
        "plt.plot(range(1, len(train_acc_model_2) + 1), train_acc_model_2, 'g:', label='model_BoW_2L_tfidf, Training acc')\n",
        "plt.plot(range(1, len(val_acc_model_2) + 1), val_acc_model_2,   'g',  label='model_BoW_2L_tfidf, Validation acc')\n",
        "\n",
        "plt.title('Training and validation accuracy')\n",
        "plt.xlabel('Epochs')\n",
        "plt.ylabel('Accuracy')\n",
        "plt.legend(loc='lower right')\n",
        "plt.grid(True)\n",
        "plt.show()"
      ]
    },
    {
      "cell_type": "markdown",
      "metadata": {
        "id": "MGGyNCL2QFI2"
      },
      "source": [
        "***Briefly describe the results.***"
      ]
    },
    {
      "cell_type": "markdown",
      "metadata": {
        "id": "WuPALLwaQO7p"
      },
      "source": [
        "*Enter your response here (two or three sentences should suffice).*"
      ]
    },
    {
      "cell_type": "markdown",
      "metadata": {
        "id": "lNT8BU07eB9-"
      },
      "source": [
        "### Analysis\n",
        "To understand the models' performance beyond the evaluation scores, it is useful to carry out what could be called an *intepretability analysis*.\n",
        "\n",
        "We interpret what the model has learned by analysing its weights.\n",
        "\n",
        "***Write code to extract the weights from the two classifiers above and to obtain the vocabulary entries with the highest weights.***"
      ]
    },
    {
      "cell_type": "code",
      "execution_count": 30,
      "metadata": {
        "id": "0J_BxWyOdXES",
        "colab": {
          "base_uri": "https://localhost:8080/"
        },
        "outputId": "551d1fad-59cf-499b-ddd1-01978a999a6c"
      },
      "outputs": [
        {
          "output_type": "stream",
          "name": "stdout",
          "text": [
            "Words predictive of violations\n",
            "Model 1:\n",
            " [['events']\n",
            " ['professional']\n",
            " ['very']\n",
            " ['6']\n",
            " ['initiated']\n",
            " ['competent']\n",
            " ['requests']\n",
            " ['11']\n",
            " ['institution']\n",
            " ['illtreatment']]\n",
            "\n",
            "Model 2:\n",
            " [['competent']\n",
            " ['16']\n",
            " ['13']\n",
            " ['22']\n",
            " ['10']\n",
            " ['19']\n",
            " ['17']\n",
            " ['7']\n",
            " ['6']\n",
            " ['11']]\n",
            "\n",
            "\n",
            "Words predictive of absolution\n",
            "Model 1:\n",
            " [['government”']\n",
            " ['represented']\n",
            " ['practising']\n",
            " ['summarised']\n",
            " ['nationals']\n",
            " ['agent']\n",
            " ['polish']\n",
            " ['facts']\n",
            " ['subsection']\n",
            " ['national']]\n",
            "Model 2:\n",
            " [['government”']\n",
            " ['summarised']\n",
            " ['practising']\n",
            " ['represented']\n",
            " ['agent']\n",
            " ['nationals']\n",
            " ['facts']\n",
            " ['national']\n",
            " ['currently']\n",
            " ['polish']]\n"
          ]
        }
      ],
      "source": [
        "vocab1 = np.array(encoder_bow_count.get_vocabulary())\n",
        "vocab2 = np.array(encoder_bow_tfidf.get_vocabulary())\n",
        "\n",
        "# Extract the classifier weights\n",
        "classifier_1_vocab_weights = binary_classifier_1.layers[1].get_weights()[0]\n",
        "classifier_2_vocab_weights = binary_classifier_2.layers[1].get_weights()[0]\n",
        "\n",
        "# Sort the weights and get the correspondingly sorted vocabulary indices\n",
        "classifier_1_vocab_weights_sorted = np.argsort(classifier_1_vocab_weights, axis=0)\n",
        "classifier_2_vocab_weights_sorted = np.argsort(classifier_2_vocab_weights, axis=0)\n",
        "\n",
        "# The indices with the largest values indicate which words are most indicative of violations\n",
        "print(\"Words predictive of violations\")\n",
        "print(\"Model 1:\\n\", vocab1[classifier_1_vocab_weights_sorted[-10:]])\n",
        "print()\n",
        "print(\"Model 2:\\n\", vocab2[classifier_2_vocab_weights_sorted[-10:]])\n",
        "\n",
        "# ... and vice versa\n",
        "print(\"\\n\\nWords predictive of absolution\")\n",
        "print(\"Model 1:\\n\", vocab1[classifier_1_vocab_weights_sorted[:10]])\n",
        "print(\"Model 2:\\n\", vocab2[classifier_2_vocab_weights_sorted[:10]])"
      ]
    },
    {
      "cell_type": "markdown",
      "metadata": {
        "id": "F6SA_XKqRTfc"
      },
      "source": [
        "Do the words with the highest weights correspond to sensible violation or absolution cues?"
      ]
    },
    {
      "cell_type": "markdown",
      "metadata": {
        "id": "CYGcXAtLm6fC"
      },
      "source": [
        "## Binary Judgement Prediction with LSTMs\n",
        "\n",
        "As a next model class, we will consider recurrent neural models — in particular, LSTMs. As you have learned, these models are able to take into account the order of words in sentences, which is in principle a big advantage over bag-of-words models. \"The woman sued Switzerland\" is not the same as \"Switzerland sued the woman\"!"
      ]
    },
    {
      "cell_type": "markdown",
      "metadata": {
        "id": "9RekaekG5GCS"
      },
      "source": [
        "### BiLSTM with embeddings trained from scratch\n",
        "\n",
        "First, we'll design a simple one-layer bidirectional LSTM with word embeddings learned from scratch.\n",
        "\n",
        "***Write code to create word embeddings for the vocabulary of this dataset.***"
      ]
    },
    {
      "cell_type": "markdown",
      "metadata": {
        "id": "4RBinILwSIea"
      },
      "source": [
        "First, define the right encoder."
      ]
    },
    {
      "cell_type": "code",
      "execution_count": 31,
      "metadata": {
        "id": "QHjOEwxl20jX",
        "colab": {
          "base_uri": "https://localhost:8080/"
        },
        "outputId": "fe9bdabd-4639-4e86-e1e8-a0f63bf8a91b"
      },
      "outputs": [
        {
          "output_type": "stream",
          "name": "stderr",
          "text": [
            "/usr/local/lib/python3.10/dist-packages/tensorflow/python/data/ops/structured_function.py:258: UserWarning: Even though the `tf.config.experimental_run_functions_eagerly` option is set, this option does not apply to tf.data functions. To force eager execution of tf.data functions, please use `tf.data.experimental.enable_debug_mode()`.\n",
            "  warnings.warn(\n"
          ]
        },
        {
          "output_type": "execute_result",
          "data": {
            "text/plain": [
              "array([491])"
            ]
          },
          "metadata": {},
          "execution_count": 31
        }
      ],
      "source": [
        "EMBEDDING_DIM = 50\n",
        "VOCAB_SIZE = 1000\n",
        "\n",
        "encoder_embed = TextVectorization(max_tokens=VOCAB_SIZE)\n",
        "encoder_embed.adapt(train_ds.map(lambda text, label: text))\n",
        "\n",
        "# print the vocabulary id of the word \"human\"\n",
        "encoder_embed(\"human\").numpy()"
      ]
    },
    {
      "cell_type": "markdown",
      "metadata": {
        "id": "wYocTboOSGqq"
      },
      "source": [
        "Then, create the embedding matrix."
      ]
    },
    {
      "cell_type": "code",
      "execution_count": 32,
      "metadata": {
        "id": "67FukSc54zay"
      },
      "outputs": [],
      "source": [
        "embedding_layer = Embedding(\n",
        "    input_dim=VOCAB_SIZE,\n",
        "    output_dim=EMBEDDING_DIM,\n",
        "    embeddings_initializer=\"uniform\",\n",
        "    trainable=True,\n",
        ")"
      ]
    },
    {
      "cell_type": "markdown",
      "metadata": {
        "id": "OtBPI5XoTMwM"
      },
      "source": [
        "***Write code to define the model architecture***. Remember, this should include an input layer, encoder and embedding layers, a bidirectional LSTM layer and an output layer. Keep the dimensionality of the LSTM layer low (for example, 16)."
      ]
    },
    {
      "cell_type": "code",
      "execution_count": 33,
      "metadata": {
        "id": "UBlIrukAnAMD",
        "colab": {
          "base_uri": "https://localhost:8080/"
        },
        "outputId": "dbc1c7cb-ef4c-4d17-e88f-014e2f8587b3"
      },
      "outputs": [
        {
          "output_type": "stream",
          "name": "stdout",
          "text": [
            "Model: \"1-layer BiLSTM classifier, embeddings from scratch)\"\n",
            "_________________________________________________________________\n",
            " Layer (type)                Output Shape              Param #   \n",
            "=================================================================\n",
            " text_vectorization_2 (Text  (None, None)              0         \n",
            " Vectorization)                                                  \n",
            "                                                                 \n",
            " embedding (Embedding)       (None, None, 50)          50000     \n",
            "                                                                 \n",
            " bidirectional (Bidirection  (None, 128)               58880     \n",
            " al)                                                             \n",
            "                                                                 \n",
            " dense_2 (Dense)             (None, 1)                 129       \n",
            "                                                                 \n",
            "=================================================================\n",
            "Total params: 109009 (425.82 KB)\n",
            "Trainable params: 109009 (425.82 KB)\n",
            "Non-trainable params: 0 (0.00 Byte)\n",
            "_________________________________________________________________\n"
          ]
        }
      ],
      "source": [
        "binary_classifier_3 = Sequential(\n",
        "    name=f\"1-layer BiLSTM classifier, embeddings from scratch)\"\n",
        ")\n",
        "binary_classifier_3.add(Input(shape=(1,), dtype='string'))\n",
        "binary_classifier_3.add(encoder_embed)\n",
        "binary_classifier_3.add(embedding_layer)\n",
        "binary_classifier_3.add(Bidirectional(LSTM(64)))\n",
        "binary_classifier_3.add(Dense(1, activation=\"sigmoid\"))\n",
        "\n",
        "binary_classifier_3.summary()"
      ]
    },
    {
      "cell_type": "markdown",
      "metadata": {
        "id": "F-semvdDTjzi"
      },
      "source": [
        "Fit and evaluate. Note: the LSTM takes longer to train than the logistic regression. We set the patience parameter to 5 to avoid redundant epochs."
      ]
    },
    {
      "cell_type": "code",
      "execution_count": 34,
      "metadata": {
        "id": "Z5Src2AvbOlK",
        "colab": {
          "base_uri": "https://localhost:8080/"
        },
        "outputId": "1f46a474-cb8b-4ddb-f1bc-f23f053643c9"
      },
      "outputs": [
        {
          "output_type": "stream",
          "name": "stdout",
          "text": [
            "Epoch 1/20\n",
            "87/87 [==============================] - 16s 182ms/step - loss: 0.3623 - accuracy: 0.8479 - val_loss: 0.2414 - val_accuracy: 0.9089\n",
            "Epoch 2/20\n",
            "87/87 [==============================] - 16s 181ms/step - loss: 0.2406 - accuracy: 0.9056 - val_loss: 0.2429 - val_accuracy: 0.9077\n",
            "Epoch 3/20\n",
            "87/87 [==============================] - 16s 181ms/step - loss: 0.2321 - accuracy: 0.9070 - val_loss: 0.2386 - val_accuracy: 0.9040\n",
            "Epoch 4/20\n",
            "87/87 [==============================] - 16s 189ms/step - loss: 0.2209 - accuracy: 0.9081 - val_loss: 0.2408 - val_accuracy: 0.9089\n",
            "Epoch 5/20\n",
            "87/87 [==============================] - 16s 179ms/step - loss: 0.2010 - accuracy: 0.9201 - val_loss: 0.2486 - val_accuracy: 0.8991\n",
            "Epoch 6/20\n",
            "87/87 [==============================] - 16s 181ms/step - loss: 0.1982 - accuracy: 0.9227 - val_loss: 0.2403 - val_accuracy: 0.9089\n"
          ]
        }
      ],
      "source": [
        "LEARNING_RATE = 0.005\n",
        "BATCH_SIZE = 50\n",
        "BUFFER_SIZE = 10000\n",
        "N_EPOCHS = 20\n",
        "\n",
        "train_acc_model_3, val_acc_model_3, =  fit_and_eval_binary_classifier(\n",
        "    train_ds=train_ds,\n",
        "    val_ds=val_ds,\n",
        "    model=binary_classifier_3,\n",
        "    learning_rate=LEARNING_RATE,\n",
        "    buffer_size=BUFFER_SIZE,\n",
        "    batch_size=BATCH_SIZE,\n",
        "    n_epochs=N_EPOCHS,\n",
        "    patience_n_epochs=5\n",
        ")"
      ]
    },
    {
      "cell_type": "markdown",
      "metadata": {
        "id": "q6XXsi7nUsOp"
      },
      "source": [
        "### Deeper network\n",
        "Next, let's try with a deeper two-layer LSTM network. Word embeddings will be still learned from scratch.\n",
        "\n",
        "\n",
        "***Define the full two-layer Bidirectional LSTM in the cell below.***  This is identical to the one-layer model, but with an extra Bidirectional LSTM layer. Again, keep the dimensionality of the LSTM layers low."
      ]
    },
    {
      "cell_type": "code",
      "execution_count": 35,
      "metadata": {
        "id": "0Nq7pA9lTX6F",
        "colab": {
          "base_uri": "https://localhost:8080/"
        },
        "outputId": "aa644ffd-20f3-4f87-edfd-0d52760930ca"
      },
      "outputs": [
        {
          "output_type": "stream",
          "name": "stdout",
          "text": [
            "Model: \"2-layer BiLSTM classifier (embeddings from scratch)\"\n",
            "_________________________________________________________________\n",
            " Layer (type)                Output Shape              Param #   \n",
            "=================================================================\n",
            " text_vectorization_3 (Text  (None, None)              0         \n",
            " Vectorization)                                                  \n",
            "                                                                 \n",
            " embedding_1 (Embedding)     (None, None, 50)          50000     \n",
            "                                                                 \n",
            " bidirectional_1 (Bidirecti  (None, None, 64)          21248     \n",
            " onal)                                                           \n",
            "                                                                 \n",
            " bidirectional_2 (Bidirecti  (None, 32)                10368     \n",
            " onal)                                                           \n",
            "                                                                 \n",
            " dense_3 (Dense)             (None, 1)                 33        \n",
            "                                                                 \n",
            "=================================================================\n",
            "Total params: 81649 (318.94 KB)\n",
            "Trainable params: 81649 (318.94 KB)\n",
            "Non-trainable params: 0 (0.00 Byte)\n",
            "_________________________________________________________________\n"
          ]
        }
      ],
      "source": [
        "encoder_embed = TextVectorization(max_tokens=VOCAB_SIZE)\n",
        "encoder_embed.adapt(train_ds.map(lambda text, label: text))\n",
        "\n",
        "embedding_layer = Embedding(\n",
        "    input_dim=VOCAB_SIZE,\n",
        "    output_dim=EMBEDDING_DIM,\n",
        "    embeddings_initializer=\"uniform\",\n",
        "    trainable=True,\n",
        ")\n",
        "\n",
        "binary_classifier_4 = Sequential(\n",
        "    name=f\"2-layer BiLSTM classifier (embeddings from scratch)\"\n",
        ")\n",
        "binary_classifier_4.add(Input(shape=(1,), dtype='string'))\n",
        "binary_classifier_4.add(encoder_embed)\n",
        "binary_classifier_4.add(embedding_layer)\n",
        "binary_classifier_4.add(Bidirectional(LSTM(32, return_sequences=True)))\n",
        "binary_classifier_4.add(Bidirectional(LSTM(16)))\n",
        "binary_classifier_4.add(Dense(1, activation=\"sigmoid\"))\n",
        "\n",
        "binary_classifier_4.summary()"
      ]
    },
    {
      "cell_type": "markdown",
      "metadata": {
        "id": "rWWYavsdUis-"
      },
      "source": [
        "Fit and evaluate."
      ]
    },
    {
      "cell_type": "code",
      "execution_count": 36,
      "metadata": {
        "id": "4o0NIOq-_vtp",
        "colab": {
          "base_uri": "https://localhost:8080/"
        },
        "outputId": "b25450de-8994-45e6-c749-19405e1f523f"
      },
      "outputs": [
        {
          "output_type": "stream",
          "name": "stdout",
          "text": [
            "Epoch 1/20\n",
            "87/87 [==============================] - 27s 305ms/step - loss: 0.3264 - accuracy: 0.8684 - val_loss: 0.2531 - val_accuracy: 0.9064\n",
            "Epoch 2/20\n",
            "87/87 [==============================] - 26s 304ms/step - loss: 0.2445 - accuracy: 0.9070 - val_loss: 0.2863 - val_accuracy: 0.9028\n",
            "Epoch 3/20\n",
            "87/87 [==============================] - 27s 311ms/step - loss: 0.2393 - accuracy: 0.9065 - val_loss: 0.2485 - val_accuracy: 0.9077\n",
            "Epoch 4/20\n",
            "87/87 [==============================] - 27s 306ms/step - loss: 0.2198 - accuracy: 0.9074 - val_loss: 0.2519 - val_accuracy: 0.9077\n",
            "Epoch 5/20\n",
            "87/87 [==============================] - 26s 299ms/step - loss: 0.2178 - accuracy: 0.9056 - val_loss: 0.2650 - val_accuracy: 0.9077\n",
            "Epoch 6/20\n",
            "87/87 [==============================] - 26s 300ms/step - loss: 0.2039 - accuracy: 0.9151 - val_loss: 0.2680 - val_accuracy: 0.9016\n",
            "Epoch 7/20\n",
            "87/87 [==============================] - 27s 306ms/step - loss: 0.1906 - accuracy: 0.9234 - val_loss: 0.2786 - val_accuracy: 0.8882\n",
            "Epoch 8/20\n",
            "87/87 [==============================] - 27s 309ms/step - loss: 0.1785 - accuracy: 0.9326 - val_loss: 0.2694 - val_accuracy: 0.8955\n"
          ]
        }
      ],
      "source": [
        "LEARNING_RATE = 0.005\n",
        "BATCH_SIZE = 50\n",
        "BUFFER_SIZE = 10000\n",
        "N_EPOCHS = 20\n",
        "\n",
        "train_acc_model_4, val_acc_model_4, =  fit_and_eval_binary_classifier(\n",
        "    train_ds=train_ds,\n",
        "    val_ds=val_ds,\n",
        "    model=binary_classifier_4,\n",
        "    learning_rate=LEARNING_RATE,\n",
        "    buffer_size=BUFFER_SIZE,\n",
        "    batch_size=BATCH_SIZE,\n",
        "    n_epochs=N_EPOCHS,\n",
        "    patience_n_epochs=5\n",
        ")\n"
      ]
    },
    {
      "cell_type": "markdown",
      "metadata": {
        "id": "wzfPZi3szot1"
      },
      "source": [
        "To compare the two bidirectional LSTMs, ***plot the training and validation accuracy of the two models.***"
      ]
    },
    {
      "cell_type": "code",
      "execution_count": 37,
      "metadata": {
        "id": "A6ZUY3a8_166",
        "colab": {
          "base_uri": "https://localhost:8080/",
          "height": 472
        },
        "outputId": "3211be98-e233-43a0-a3b3-e5b89d6eb5db"
      },
      "outputs": [
        {
          "output_type": "display_data",
          "data": {
            "text/plain": [
              "<Figure size 640x480 with 1 Axes>"
            ],
            "image/png": "[encoded data removed]"
          },
          "metadata": {}
        }
      ],
      "source": [
        "plt.plot(range(1, len(train_acc_model_3) + 1), train_acc_model_3, 'r:', label='model_BoW_3L_BiLSTM, Training acc')\n",
        "plt.plot(range(1, len(val_acc_model_3) + 1), val_acc_model_3,   'r',  label='model_BoW_3L_BiLSTM, Validation acc')\n",
        "plt.plot(range(1, len(train_acc_model_4) + 1), train_acc_model_4, 'g:', label='model_BoW_4L_2BiLSTM, Training acc')\n",
        "plt.plot(range(1, len(val_acc_model_4) + 1), val_acc_model_4,   'g',  label='model_BoW_4L_2BiLSTM, Validation acc')\n",
        "\n",
        "plt.title('Training and validation accuracy')\n",
        "plt.xlabel('Epochs')\n",
        "plt.ylabel('Accuracy')\n",
        "plt.legend(loc='lower right')\n",
        "plt.grid(True)\n",
        "plt.show()"
      ]
    },
    {
      "cell_type": "markdown",
      "metadata": {
        "id": "aMfkPeYfUuYw"
      },
      "source": [
        "### Pre-trained word embeddings\n",
        "\n",
        "The dataset at hand is very domain-specific and not particularly large so it is unlikely that the model will be able learn the general meaning of words. Luckily the network can be initialised with pre-trained word embeddings, which were trained on generalist corpora to capture the meaning of all words in the vocabulary. We will download pre-trained GloVe embeddings of dimensionality 50, trained on a corpus of 6 billion tokens."
      ]
    },
    {
      "cell_type": "code",
      "execution_count": 38,
      "metadata": {
        "id": "b0IHqAcxc8As",
        "colab": {
          "base_uri": "https://localhost:8080/"
        },
        "outputId": "111c96da-ab17-4f7d-ee9f-0d3244d9f66b"
      },
      "outputs": [
        {
          "output_type": "stream",
          "name": "stdout",
          "text": [
            "--2024-04-01 06:43:03--  http://nlp.stanford.edu/data/glove.6B.zip\n",
            "Resolving nlp.stanford.edu (nlp.stanford.edu)... 171.64.67.140\n",
            "Connecting to nlp.stanford.edu (nlp.stanford.edu)|171.64.67.140|:80... connected.\n",
            "HTTP request sent, awaiting response... 302 Found\n",
            "Location: https://nlp.stanford.edu/data/glove.6B.zip [following]\n",
            "--2024-04-01 06:43:03--  https://nlp.stanford.edu/data/glove.6B.zip\n",
            "Connecting to nlp.stanford.edu (nlp.stanford.edu)|171.64.67.140|:443... connected.\n",
            "HTTP request sent, awaiting response... 301 Moved Permanently\n",
            "Location: https://downloads.cs.stanford.edu/nlp/data/glove.6B.zip [following]\n",
            "--2024-04-01 06:43:03--  https://downloads.cs.stanford.edu/nlp/data/glove.6B.zip\n",
            "Resolving downloads.cs.stanford.edu (downloads.cs.stanford.edu)... 171.64.64.22\n",
            "Connecting to downloads.cs.stanford.edu (downloads.cs.stanford.edu)|171.64.64.22|:443... connected.\n",
            "HTTP request sent, awaiting response... 200 OK\n",
            "Length: 862182613 (822M) [application/zip]\n",
            "Saving to: ‘glove.6B.zip’\n",
            "\n",
            "glove.6B.zip        100%[===================>] 822.24M  5.02MB/s    in 2m 39s  \n",
            "\n",
            "2024-04-01 06:45:42 (5.18 MB/s) - ‘glove.6B.zip’ saved [862182613/862182613]\n",
            "\n"
          ]
        }
      ],
      "source": [
        " !wget http://nlp.stanford.edu/data/glove.6B.zip\n",
        " !unzip -q glove.6B.zip"
      ]
    },
    {
      "cell_type": "code",
      "execution_count": 39,
      "metadata": {
        "id": "OBpJlFUPTaWQ",
        "colab": {
          "base_uri": "https://localhost:8080/"
        },
        "outputId": "b00276f1-e5bf-4263-9ac8-73c2c227f6f0"
      },
      "outputs": [
        {
          "output_type": "stream",
          "name": "stdout",
          "text": [
            "Found 400000 word vectors.\n",
            "\n",
            "[UNK]\n",
            "applicant’s\n",
            "“the\n",
            "§\n",
            "court’s\n",
            "firstinstance\n",
            "§§\n",
            "prosecutor’s\n",
            "timelimit\n",
            "applicants’\n",
            "“1\n",
            "nonpecuniary\n",
            "years’\n",
            "government”\n",
            "sąd\n",
            "act”\n",
            "caselaw\n",
            "court”\n",
            "illtreatment\n",
            "Converted 980 words (20 misses)\n"
          ]
        }
      ],
      "source": [
        "# Load pre-trained GloVe embeddings\n",
        "# ----------------------------------\n",
        "glove_file_path = 'glove.6B.50d.txt'\n",
        "EMBEDDING_DIM = 50\n",
        "\n",
        "embeddings_index = {}\n",
        "with open(glove_file_path) as f:\n",
        "    for line in f:\n",
        "        word, coefs = line.split(maxsplit=1)\n",
        "        coefs = np.fromstring(coefs, \"f\", sep=\" \")\n",
        "        embeddings_index[word] = coefs\n",
        "\n",
        "print(\"Found %s word vectors.\" % len(embeddings_index))\n",
        "\n",
        "\n",
        "hits = 0\n",
        "misses = 0\n",
        "\n",
        "# Prepare embedding matrix\n",
        "embedding_matrix = np.zeros((VOCAB_SIZE, EMBEDDING_DIM))\n",
        "for i, word in enumerate(encoder_embed.get_vocabulary()):\n",
        "    embedding_vector = embeddings_index.get(word)\n",
        "    if embedding_vector is not None:\n",
        "        # Words not found in embedding index will be all-zeros.\n",
        "        # This includes the representation for \"padding\" and \"OOV\"\n",
        "        embedding_matrix[i] = embedding_vector\n",
        "        hits += 1\n",
        "    else:\n",
        "        misses += 1\n",
        "        print(word)\n",
        "\n",
        "print(\"Converted %d words (%d misses)\" % (hits, misses))\n"
      ]
    },
    {
      "cell_type": "markdown",
      "metadata": {
        "id": "z1U2u1zPYieC"
      },
      "source": [
        "#### Frozen embeddings\n",
        "\n",
        "Here, we are going to leave the word embeddings \"frozen\". That is, they will not be updated throughout the training of the LSTM. In this way, the embeddings will remain general representations of word meaning while the rest of the network will specialise for the legal judgement prediction task.\n",
        "\n",
        "***Define a Bidirectional LSTM with frozen, pre-trained word embeddings.*** You can make the LSTM one-layer for faster training."
      ]
    },
    {
      "cell_type": "code",
      "execution_count": 40,
      "metadata": {
        "id": "oX7nQjOYVzaQ",
        "colab": {
          "base_uri": "https://localhost:8080/"
        },
        "outputId": "0db1be37-6b1d-4f9e-d740-43511e8bae0b"
      },
      "outputs": [
        {
          "output_type": "stream",
          "name": "stdout",
          "text": [
            "Model: \"1-layer BiLSTM classifier (frozen pre-trained embeddings)\"\n",
            "_________________________________________________________________\n",
            " Layer (type)                Output Shape              Param #   \n",
            "=================================================================\n",
            " text_vectorization_3 (Text  (None, None)              0         \n",
            " Vectorization)                                                  \n",
            "                                                                 \n",
            " embedding_2 (Embedding)     (None, None, 50)          50000     \n",
            "                                                                 \n",
            " bidirectional_3 (Bidirecti  (None, 128)               58880     \n",
            " onal)                                                           \n",
            "                                                                 \n",
            " dense_4 (Dense)             (None, 1)                 129       \n",
            "                                                                 \n",
            "=================================================================\n",
            "Total params: 109009 (425.82 KB)\n",
            "Trainable params: 59009 (230.50 KB)\n",
            "Non-trainable params: 50000 (195.31 KB)\n",
            "_________________________________________________________________\n"
          ]
        }
      ],
      "source": [
        "pretrained_embedding_layer_frozen = Embedding(\n",
        "    input_dim=VOCAB_SIZE,\n",
        "    output_dim=EMBEDDING_DIM,\n",
        "    embeddings_initializer=Constant(embedding_matrix),\n",
        "    trainable=False\n",
        ")\n",
        "\n",
        "binary_classifier_5 = Sequential(\n",
        "    name=f\"1-layer BiLSTM classifier (frozen pre-trained embeddings)\"\n",
        ")\n",
        "# Fill in the following lines to build the LSTM\n",
        "binary_classifier_5.add(Input(shape=(1,), dtype='string'))\n",
        "binary_classifier_5.add(encoder_embed)\n",
        "binary_classifier_5.add(pretrained_embedding_layer_frozen)\n",
        "binary_classifier_5.add(Bidirectional(LSTM(64)))\n",
        "binary_classifier_5.add(Dense(1, activation=\"sigmoid\"))\n",
        "\n",
        "binary_classifier_5.summary()"
      ]
    },
    {
      "cell_type": "markdown",
      "metadata": {
        "id": "fba4BGTcWsOI"
      },
      "source": [
        "Fit and evaluate."
      ]
    },
    {
      "cell_type": "code",
      "execution_count": 41,
      "metadata": {
        "id": "y_c6rd_qWVnO",
        "colab": {
          "base_uri": "https://localhost:8080/"
        },
        "outputId": "79cad313-1a94-4563-dd08-af83f579ec47"
      },
      "outputs": [
        {
          "output_type": "stream",
          "name": "stdout",
          "text": [
            "Epoch 1/20\n",
            "87/87 [==============================] - 19s 213ms/step - loss: 0.3020 - accuracy: 0.8848 - val_loss: 0.2651 - val_accuracy: 0.9028\n",
            "Epoch 2/20\n",
            "87/87 [==============================] - 19s 217ms/step - loss: 0.2530 - accuracy: 0.9047 - val_loss: 0.2480 - val_accuracy: 0.9077\n",
            "Epoch 3/20\n",
            "87/87 [==============================] - 19s 215ms/step - loss: 0.2513 - accuracy: 0.9051 - val_loss: 0.2509 - val_accuracy: 0.9077\n",
            "Epoch 4/20\n",
            "87/87 [==============================] - 21s 240ms/step - loss: 0.2450 - accuracy: 0.9056 - val_loss: 0.2461 - val_accuracy: 0.9064\n",
            "Epoch 5/20\n",
            "87/87 [==============================] - 21s 245ms/step - loss: 0.2441 - accuracy: 0.9065 - val_loss: 0.2448 - val_accuracy: 0.9064\n",
            "Epoch 6/20\n",
            "87/87 [==============================] - 19s 215ms/step - loss: 0.2415 - accuracy: 0.9074 - val_loss: 0.2458 - val_accuracy: 0.9077\n",
            "Epoch 7/20\n",
            "87/87 [==============================] - 20s 228ms/step - loss: 0.2322 - accuracy: 0.9107 - val_loss: 0.2416 - val_accuracy: 0.9064\n"
          ]
        }
      ],
      "source": [
        "LEARNING_RATE = 0.005\n",
        "BATCH_SIZE = 50\n",
        "BUFFER_SIZE = 10000\n",
        "N_EPOCHS = 20\n",
        "\n",
        "train_acc_model_5, val_acc_model_5, =  fit_and_eval_binary_classifier(\n",
        "    train_ds=train_ds,\n",
        "    val_ds=val_ds,\n",
        "    model=binary_classifier_5,\n",
        "    learning_rate=LEARNING_RATE,\n",
        "    buffer_size=BUFFER_SIZE,\n",
        "    batch_size=BATCH_SIZE,\n",
        "    n_epochs=N_EPOCHS,\n",
        "    patience_n_epochs=5\n",
        ")\n"
      ]
    },
    {
      "cell_type": "markdown",
      "metadata": {
        "id": "lyRoysyvWdmc"
      },
      "source": [
        "#### Adaptive embeddings\n",
        "\n",
        "Now let's unfreeze the embeddings and allow them to be updated throughout training.\n",
        "\n",
        "***Define a Bidirectional LSTM with adaptive embeddings.***"
      ]
    },
    {
      "cell_type": "code",
      "execution_count": 42,
      "metadata": {
        "id": "9wkloKEFWbSq",
        "colab": {
          "base_uri": "https://localhost:8080/"
        },
        "outputId": "1f89787f-487a-469a-8f55-627400c42648"
      },
      "outputs": [
        {
          "output_type": "stream",
          "name": "stdout",
          "text": [
            "Model: \"1-layer BiLSTM classifier (frozen pre-trained embeddings)\"\n",
            "_________________________________________________________________\n",
            " Layer (type)                Output Shape              Param #   \n",
            "=================================================================\n",
            " text_vectorization_3 (Text  (None, None)              0         \n",
            " Vectorization)                                                  \n",
            "                                                                 \n",
            " embedding_2 (Embedding)     (None, None, 50)          50000     \n",
            "                                                                 \n",
            " bidirectional_4 (Bidirecti  (None, 128)               58880     \n",
            " onal)                                                           \n",
            "                                                                 \n",
            " dense_5 (Dense)             (None, 1)                 129       \n",
            "                                                                 \n",
            "=================================================================\n",
            "Total params: 109009 (425.82 KB)\n",
            "Trainable params: 59009 (230.50 KB)\n",
            "Non-trainable params: 50000 (195.31 KB)\n",
            "_________________________________________________________________\n"
          ]
        }
      ],
      "source": [
        "pretrained_embedding_layer_adaptive = Embedding(\n",
        "    input_dim=VOCAB_SIZE,\n",
        "    output_dim=EMBEDDING_DIM,\n",
        "    embeddings_initializer=Constant(embedding_matrix),\n",
        "    trainable=True\n",
        ")\n",
        "\n",
        "binary_classifier_6 = Sequential(\n",
        "    name=f\"1-layer BiLSTM classifier (frozen pre-trained embeddings)\"\n",
        ")\n",
        "# Fill in the following lines to build the LSTM\n",
        "binary_classifier_6.add(Input(shape=(1,), dtype='string'))\n",
        "binary_classifier_6.add(encoder_embed)\n",
        "binary_classifier_6.add(pretrained_embedding_layer_frozen)\n",
        "binary_classifier_6.add(Bidirectional(LSTM(64)))\n",
        "binary_classifier_6.add(Dense(1, activation=\"sigmoid\"))\n",
        "\n",
        "binary_classifier_6.summary()"
      ]
    },
    {
      "cell_type": "code",
      "execution_count": 43,
      "metadata": {
        "id": "3M6MjeMDfrwW",
        "colab": {
          "base_uri": "https://localhost:8080/"
        },
        "outputId": "6e534bfc-5fd3-493d-d6e1-6dfccaa57f34"
      },
      "outputs": [
        {
          "output_type": "stream",
          "name": "stdout",
          "text": [
            "Epoch 1/20\n",
            "87/87 [==============================] - 20s 225ms/step - loss: 0.3072 - accuracy: 0.8758 - val_loss: 0.2615 - val_accuracy: 0.8955\n",
            "Epoch 2/20\n",
            "87/87 [==============================] - 21s 239ms/step - loss: 0.2547 - accuracy: 0.9054 - val_loss: 0.2490 - val_accuracy: 0.9077\n",
            "Epoch 3/20\n",
            "87/87 [==============================] - 21s 240ms/step - loss: 0.2523 - accuracy: 0.9051 - val_loss: 0.2552 - val_accuracy: 0.9052\n",
            "Epoch 4/20\n",
            "87/87 [==============================] - 20s 224ms/step - loss: 0.2453 - accuracy: 0.9060 - val_loss: 0.2484 - val_accuracy: 0.9077\n",
            "Epoch 5/20\n",
            "87/87 [==============================] - 19s 215ms/step - loss: 0.2431 - accuracy: 0.9051 - val_loss: 0.2435 - val_accuracy: 0.9077\n",
            "Epoch 6/20\n",
            "87/87 [==============================] - 21s 239ms/step - loss: 0.2414 - accuracy: 0.9058 - val_loss: 0.2436 - val_accuracy: 0.9077\n",
            "Epoch 7/20\n",
            "87/87 [==============================] - 22s 247ms/step - loss: 0.2318 - accuracy: 0.9086 - val_loss: 0.2516 - val_accuracy: 0.9064\n"
          ]
        }
      ],
      "source": [
        "LEARNING_RATE = 0.005\n",
        "BATCH_SIZE = 50\n",
        "BUFFER_SIZE = 10000\n",
        "N_EPOCHS = 20\n",
        "\n",
        "train_acc_model_6, val_acc_model_6, =  fit_and_eval_binary_classifier(\n",
        "    train_ds=train_ds,\n",
        "    val_ds=val_ds,\n",
        "    model=binary_classifier_6,\n",
        "    learning_rate=LEARNING_RATE,\n",
        "    buffer_size=BUFFER_SIZE,\n",
        "    batch_size=BATCH_SIZE,\n",
        "    n_epochs=N_EPOCHS\n",
        ")\n"
      ]
    },
    {
      "cell_type": "markdown",
      "metadata": {
        "id": "Q_abgEOf1yOv"
      },
      "source": [
        "***Plot the training and validation accuracy of the four LSTM models.***"
      ]
    },
    {
      "cell_type": "code",
      "execution_count": 44,
      "metadata": {
        "id": "fNTbi9kLl6EZ",
        "colab": {
          "base_uri": "https://localhost:8080/",
          "height": 472
        },
        "outputId": "4d81ca2f-2e56-4fff-da12-b13039d365de"
      },
      "outputs": [
        {
          "output_type": "display_data",
          "data": {
            "text/plain": [
              "<Figure size 640x480 with 1 Axes>"
            ],
            "image/png": "[encoded data removed]"
          },
          "metadata": {}
        }
      ],
      "source": [
        "plt.plot(range(1, len(train_acc_model_5) + 1), train_acc_model_5, 'r:', label='model_BoW_5L_BiLSTM, Training acc')\n",
        "plt.plot(range(1, len(val_acc_model_5) + 1), val_acc_model_5,   'r',  label='model_BoW_5L_BiLSTM, Validation acc')\n",
        "plt.plot(range(1, len(train_acc_model_6) + 1), train_acc_model_6, 'g:', label='model_BoW_6L_2BiLSTM, Training acc')\n",
        "plt.plot(range(1, len(val_acc_model_6) + 1), val_acc_model_6,   'g',  label='model_BoW_6L_2BiLSTM, Validation acc')\n",
        "\n",
        "plt.title('Training and validation accuracy')\n",
        "plt.xlabel('Epochs')\n",
        "plt.ylabel('Accuracy')\n",
        "plt.legend(loc='lower right')\n",
        "plt.grid(True)\n",
        "plt.show()"
      ]
    },
    {
      "cell_type": "markdown",
      "metadata": {
        "id": "SxrDKW1rYrjD"
      },
      "source": [
        "## [OPTIONAL] Binary Judgement Prediction with Transformer language models\n",
        "\n",
        "The last model class we'll experiment with are Transformer language models. We will *not* train a model from scratch on this dataset because Transformer language models are typically very large networks, with million of parameters, which would likely overfit to the dataset at hand. Instead, we will use a pre-trained language model, an autoregressive Transformer optimised to predict the next word in texts of many different domains.\n",
        "\n",
        "We suggest you use [GPT-neo-125m](https://huggingface.co/EleutherAI/gpt-neo-125m), a model designed to replicate the architecture of OpenAI's GPT-3 in its smallest version (125 million parameters). Feel free to substitute this with another pretrained autoregressive language model from the Hugging Face [model hub](https://huggingface.co/models?sort=trending) but beware of model size.\n",
        "\n",
        "If you are running this notebook on Google colab, *change the runtime type to `T4-GPU` using the dropdown menu on the top right.* After that, you might need to reload the data and the convenience functions defined above.\n"
      ]
    },
    {
      "cell_type": "markdown",
      "metadata": {
        "id": "2O-O41arbH8t"
      },
      "source": [
        "First, let's install and load the necessary python libraries. If you run this notebook in the ETH Jupyter hub, you can directly load the libraries. If not, please install using the cell below and restart the Runtime session."
      ]
    },
    {
      "cell_type": "code",
      "execution_count": 45,
      "metadata": {
        "id": "3HxMKRWJ6MVh",
        "colab": {
          "base_uri": "https://localhost:8080/"
        },
        "outputId": "bd2b3732-f2ee-4132-f820-6272e799f896"
      },
      "outputs": [
        {
          "output_type": "stream",
          "name": "stdout",
          "text": [
            "Requirement already satisfied: transformers in /usr/local/lib/python3.10/dist-packages (4.38.2)\n",
            "Collecting transformers\n",
            "  Downloading transformers-4.39.2-py3-none-any.whl (8.8 MB)\n",
            "\u001b[2K     \u001b[90m━━━━━━━━━━━━━━━━━━━━━━━━━━━━━━━━━━━━━━━━\u001b[0m \u001b[32m8.8/8.8 MB\u001b[0m \u001b[31m23.9 MB/s\u001b[0m eta \u001b[36m0:00:00\u001b[0m\n",
            "\u001b[?25hCollecting sacremoses\n",
            "  Downloading sacremoses-0.1.1-py3-none-any.whl (897 kB)\n",
            "\u001b[2K     \u001b[90m━━━━━━━━━━━━━━━━━━━━━━━━━━━━━━━━━━━━━━━━\u001b[0m \u001b[32m897.5/897.5 kB\u001b[0m \u001b[31m41.5 MB/s\u001b[0m eta \u001b[36m0:00:00\u001b[0m\n",
            "\u001b[?25hCollecting accelerate\n",
            "  Downloading accelerate-0.28.0-py3-none-any.whl (290 kB)\n",
            "\u001b[2K     \u001b[90m━━━━━━━━━━━━━━━━━━━━━━━━━━━━━━━━━━━━━━━━\u001b[0m \u001b[32m290.1/290.1 kB\u001b[0m \u001b[31m26.2 MB/s\u001b[0m eta \u001b[36m0:00:00\u001b[0m\n",
            "\u001b[?25hRequirement already satisfied: filelock in /usr/local/lib/python3.10/dist-packages (from transformers) (3.13.3)\n",
            "Requirement already satisfied: huggingface-hub<1.0,>=0.19.3 in /usr/local/lib/python3.10/dist-packages (from transformers) (0.20.3)\n",
            "Requirement already satisfied: numpy>=1.17 in /usr/local/lib/python3.10/dist-packages (from transformers) (1.25.2)\n",
            "Requirement already satisfied: packaging>=20.0 in /usr/local/lib/python3.10/dist-packages (from transformers) (24.0)\n",
            "Requirement already satisfied: pyyaml>=5.1 in /usr/local/lib/python3.10/dist-packages (from transformers) (6.0.1)\n",
            "Requirement already satisfied: regex!=2019.12.17 in /usr/local/lib/python3.10/dist-packages (from transformers) (2023.12.25)\n",
            "Requirement already satisfied: requests in /usr/local/lib/python3.10/dist-packages (from transformers) (2.31.0)\n",
            "Requirement already satisfied: tokenizers<0.19,>=0.14 in /usr/local/lib/python3.10/dist-packages (from transformers) (0.15.2)\n",
            "Requirement already satisfied: safetensors>=0.4.1 in /usr/local/lib/python3.10/dist-packages (from transformers) (0.4.2)\n",
            "Requirement already satisfied: tqdm>=4.27 in /usr/local/lib/python3.10/dist-packages (from transformers) (4.66.2)\n",
            "Requirement already satisfied: click in /usr/local/lib/python3.10/dist-packages (from sacremoses) (8.1.7)\n",
            "Requirement already satisfied: joblib in /usr/local/lib/python3.10/dist-packages (from sacremoses) (1.3.2)\n",
            "Requirement already satisfied: psutil in /usr/local/lib/python3.10/dist-packages (from accelerate) (5.9.5)\n",
            "Requirement already satisfied: torch>=1.10.0 in /usr/local/lib/python3.10/dist-packages (from accelerate) (2.2.1+cu121)\n",
            "Requirement already satisfied: fsspec>=2023.5.0 in /usr/local/lib/python3.10/dist-packages (from huggingface-hub<1.0,>=0.19.3->transformers) (2023.9.2)\n",
            "Requirement already satisfied: typing-extensions>=3.7.4.3 in /usr/local/lib/python3.10/dist-packages (from huggingface-hub<1.0,>=0.19.3->transformers) (4.10.0)\n",
            "Requirement already satisfied: sympy in /usr/local/lib/python3.10/dist-packages (from torch>=1.10.0->accelerate) (1.12)\n",
            "Requirement already satisfied: networkx in /usr/local/lib/python3.10/dist-packages (from torch>=1.10.0->accelerate) (3.2.1)\n",
            "Requirement already satisfied: jinja2 in /usr/local/lib/python3.10/dist-packages (from torch>=1.10.0->accelerate) (3.1.3)\n",
            "Collecting nvidia-cuda-nvrtc-cu12==12.1.105 (from torch>=1.10.0->accelerate)\n",
            "  Downloading nvidia_cuda_nvrtc_cu12-12.1.105-py3-none-manylinux1_x86_64.whl (23.7 MB)\n",
            "\u001b[2K     \u001b[90m━━━━━━━━━━━━━━━━━━━━━━━━━━━━━━━━━━━━━━━━\u001b[0m \u001b[32m23.7/23.7 MB\u001b[0m \u001b[31m22.6 MB/s\u001b[0m eta \u001b[36m0:00:00\u001b[0m\n",
            "\u001b[?25hCollecting nvidia-cuda-runtime-cu12==12.1.105 (from torch>=1.10.0->accelerate)\n",
            "  Downloading nvidia_cuda_runtime_cu12-12.1.105-py3-none-manylinux1_x86_64.whl (823 kB)\n",
            "\u001b[2K     \u001b[90m━━━━━━━━━━━━━━━━━━━━━━━━━━━━━━━━━━━━━━━━\u001b[0m \u001b[32m823.6/823.6 kB\u001b[0m \u001b[31m50.0 MB/s\u001b[0m eta \u001b[36m0:00:00\u001b[0m\n",
            "\u001b[?25hCollecting nvidia-cuda-cupti-cu12==12.1.105 (from torch>=1.10.0->accelerate)\n",
            "  Downloading nvidia_cuda_cupti_cu12-12.1.105-py3-none-manylinux1_x86_64.whl (14.1 MB)\n",
            "\u001b[2K     \u001b[90m━━━━━━━━━━━━━━━━━━━━━━━━━━━━━━━━━━━━━━━━\u001b[0m \u001b[32m14.1/14.1 MB\u001b[0m \u001b[31m59.9 MB/s\u001b[0m eta \u001b[36m0:00:00\u001b[0m\n",
            "\u001b[?25hCollecting nvidia-cudnn-cu12==8.9.2.26 (from torch>=1.10.0->accelerate)\n",
            "  Downloading nvidia_cudnn_cu12-8.9.2.26-py3-none-manylinux1_x86_64.whl (731.7 MB)\n",
            "\u001b[2K     \u001b[90m━━━━━━━━━━━━━━━━━━━━━━━━━━━━━━━━━━━━━━━━\u001b[0m \u001b[32m731.7/731.7 MB\u001b[0m \u001b[31m1.8 MB/s\u001b[0m eta \u001b[36m0:00:00\u001b[0m\n",
            "\u001b[?25hCollecting nvidia-cublas-cu12==12.1.3.1 (from torch>=1.10.0->accelerate)\n",
            "  Downloading nvidia_cublas_cu12-12.1.3.1-py3-none-manylinux1_x86_64.whl (410.6 MB)\n",
            "\u001b[2K     \u001b[90m━━━━━━━━━━━━━━━━━━━━━━━━━━━━━━━━━━━━━━━━\u001b[0m \u001b[32m410.6/410.6 MB\u001b[0m \u001b[31m2.2 MB/s\u001b[0m eta \u001b[36m0:00:00\u001b[0m\n",
            "\u001b[?25hCollecting nvidia-cufft-cu12==11.0.2.54 (from torch>=1.10.0->accelerate)\n",
            "  Downloading nvidia_cufft_cu12-11.0.2.54-py3-none-manylinux1_x86_64.whl (121.6 MB)\n",
            "\u001b[2K     \u001b[90m━━━━━━━━━━━━━━━━━━━━━━━━━━━━━━━━━━━━━━━━\u001b[0m \u001b[32m121.6/121.6 MB\u001b[0m \u001b[31m9.1 MB/s\u001b[0m eta \u001b[36m0:00:00\u001b[0m\n",
            "\u001b[?25hCollecting nvidia-curand-cu12==10.3.2.106 (from torch>=1.10.0->accelerate)\n",
            "  Downloading nvidia_curand_cu12-10.3.2.106-py3-none-manylinux1_x86_64.whl (56.5 MB)\n",
            "\u001b[2K     \u001b[90m━━━━━━━━━━━━━━━━━━━━━━━━━━━━━━━━━━━━━━━━\u001b[0m \u001b[32m56.5/56.5 MB\u001b[0m \u001b[31m11.9 MB/s\u001b[0m eta \u001b[36m0:00:00\u001b[0m\n",
            "\u001b[?25hCollecting nvidia-cusolver-cu12==11.4.5.107 (from torch>=1.10.0->accelerate)\n",
            "  Downloading nvidia_cusolver_cu12-11.4.5.107-py3-none-manylinux1_x86_64.whl (124.2 MB)\n",
            "\u001b[2K     \u001b[90m━━━━━━━━━━━━━━━━━━━━━━━━━━━━━━━━━━━━━━━━\u001b[0m \u001b[32m124.2/124.2 MB\u001b[0m \u001b[31m9.3 MB/s\u001b[0m eta \u001b[36m0:00:00\u001b[0m\n",
            "\u001b[?25hCollecting nvidia-cusparse-cu12==12.1.0.106 (from torch>=1.10.0->accelerate)\n",
            "  Downloading nvidia_cusparse_cu12-12.1.0.106-py3-none-manylinux1_x86_64.whl (196.0 MB)\n",
            "\u001b[2K     \u001b[90m━━━━━━━━━━━━━━━━━━━━━━━━━━━━━━━━━━━━━━━━\u001b[0m \u001b[32m196.0/196.0 MB\u001b[0m \u001b[31m7.3 MB/s\u001b[0m eta \u001b[36m0:00:00\u001b[0m\n",
            "\u001b[?25hCollecting nvidia-nccl-cu12==2.19.3 (from torch>=1.10.0->accelerate)\n",
            "  Downloading nvidia_nccl_cu12-2.19.3-py3-none-manylinux1_x86_64.whl (166.0 MB)\n",
            "\u001b[2K     \u001b[90m━━━━━━━━━━━━━━━━━━━━━━━━━━━━━━━━━━━━━━━━\u001b[0m \u001b[32m166.0/166.0 MB\u001b[0m \u001b[31m2.2 MB/s\u001b[0m eta \u001b[36m0:00:00\u001b[0m\n",
            "\u001b[?25hCollecting nvidia-nvtx-cu12==12.1.105 (from torch>=1.10.0->accelerate)\n",
            "  Downloading nvidia_nvtx_cu12-12.1.105-py3-none-manylinux1_x86_64.whl (99 kB)\n",
            "\u001b[2K     \u001b[90m━━━━━━━━━━━━━━━━━━━━━━━━━━━━━━━━━━━━━━━━\u001b[0m \u001b[32m99.1/99.1 kB\u001b[0m \u001b[31m11.8 MB/s\u001b[0m eta \u001b[36m0:00:00\u001b[0m\n",
            "\u001b[?25hRequirement already satisfied: triton==2.2.0 in /usr/local/lib/python3.10/dist-packages (from torch>=1.10.0->accelerate) (2.2.0)\n",
            "Collecting nvidia-nvjitlink-cu12 (from nvidia-cusolver-cu12==11.4.5.107->torch>=1.10.0->accelerate)\n",
            "  Downloading nvidia_nvjitlink_cu12-12.4.99-py3-none-manylinux2014_x86_64.whl (21.1 MB)\n",
            "\u001b[2K     \u001b[90m━━━━━━━━━━━━━━━━━━━━━━━━━━━━━━━━━━━━━━━━\u001b[0m \u001b[32m21.1/21.1 MB\u001b[0m \u001b[31m51.6 MB/s\u001b[0m eta \u001b[36m0:00:00\u001b[0m\n",
            "\u001b[?25hRequirement already satisfied: charset-normalizer<4,>=2 in /usr/local/lib/python3.10/dist-packages (from requests->transformers) (3.3.2)\n",
            "Requirement already satisfied: idna<4,>=2.5 in /usr/local/lib/python3.10/dist-packages (from requests->transformers) (3.6)\n",
            "Requirement already satisfied: urllib3<3,>=1.21.1 in /usr/local/lib/python3.10/dist-packages (from requests->transformers) (2.0.7)\n",
            "Requirement already satisfied: certifi>=2017.4.17 in /usr/local/lib/python3.10/dist-packages (from requests->transformers) (2024.2.2)\n",
            "Requirement already satisfied: MarkupSafe>=2.0 in /usr/local/lib/python3.10/dist-packages (from jinja2->torch>=1.10.0->accelerate) (2.1.5)\n",
            "Requirement already satisfied: mpmath>=0.19 in /usr/local/lib/python3.10/dist-packages (from sympy->torch>=1.10.0->accelerate) (1.3.0)\n",
            "Installing collected packages: sacremoses, nvidia-nvtx-cu12, nvidia-nvjitlink-cu12, nvidia-nccl-cu12, nvidia-curand-cu12, nvidia-cufft-cu12, nvidia-cuda-runtime-cu12, nvidia-cuda-nvrtc-cu12, nvidia-cuda-cupti-cu12, nvidia-cublas-cu12, nvidia-cusparse-cu12, nvidia-cudnn-cu12, nvidia-cusolver-cu12, transformers, accelerate\n",
            "  Attempting uninstall: transformers\n",
            "    Found existing installation: transformers 4.38.2\n",
            "    Uninstalling transformers-4.38.2:\n",
            "      Successfully uninstalled transformers-4.38.2\n",
            "Successfully installed accelerate-0.28.0 nvidia-cublas-cu12-12.1.3.1 nvidia-cuda-cupti-cu12-12.1.105 nvidia-cuda-nvrtc-cu12-12.1.105 nvidia-cuda-runtime-cu12-12.1.105 nvidia-cudnn-cu12-8.9.2.26 nvidia-cufft-cu12-11.0.2.54 nvidia-curand-cu12-10.3.2.106 nvidia-cusolver-cu12-11.4.5.107 nvidia-cusparse-cu12-12.1.0.106 nvidia-nccl-cu12-2.19.3 nvidia-nvjitlink-cu12-12.4.99 nvidia-nvtx-cu12-12.1.105 sacremoses-0.1.1 transformers-4.39.2\n"
          ]
        }
      ],
      "source": [
        "!pip install transformers sacremoses accelerate -U"
      ]
    },
    {
      "cell_type": "code",
      "execution_count": 46,
      "metadata": {
        "id": "5NfLarZhdD7y"
      },
      "outputs": [],
      "source": [
        "from tqdm.notebook import tqdm_notebook as tqdm\n",
        "from sklearn.metrics import accuracy_score, PrecisionRecallDisplay\n",
        "from transformers import AutoModelForSequenceClassification, AutoTokenizer, Trainer, TrainingArguments, pipeline\n",
        "from torch.utils.data import Dataset, DataLoader\n",
        "import torch\n"
      ]
    },
    {
      "cell_type": "code",
      "execution_count": 47,
      "metadata": {
        "cellView": "form",
        "id": "Wu71suXkumPc"
      },
      "outputs": [],
      "source": [
        "# @title Convenience functions for Huggingface transformers\n",
        "# @markdown You don't need to read the code in this cell, but please make sure you execute it.\n",
        "\n",
        "def load_classification_model_and_tokenizer(model_name_or_path):\n",
        "    lm = AutoModelForSequenceClassification.from_pretrained(model_name_or_path)\n",
        "\n",
        "    # Load the tokenizer suitable for this model\n",
        "    tokenizer = AutoTokenizer.from_pretrained(model_name_or_path)\n",
        "\n",
        "    if not lm.config.pad_token_id:\n",
        "        lm.config.pad_token_id = lm.config.eos_token_id\n",
        "        tokenizer.pad_token = tokenizer.eos_token\n",
        "\n",
        "    return lm, tokenizer\n",
        "\n",
        "class EHRCDataset(Dataset):\n",
        "    def __init__(self, texts, labels, tokenizer, max_length):\n",
        "        self.texts = texts\n",
        "        self.labels = labels\n",
        "        self.tokenizer = tokenizer\n",
        "        self.max_length = max_length\n",
        "\n",
        "    def __len__(self):\n",
        "        return len(self.texts)\n",
        "\n",
        "    def __getitem__(self, idx):\n",
        "        encoding = self.tokenizer(self.texts[idx],\n",
        "                                  truncation=True,\n",
        "                                  padding='max_length',\n",
        "                                  max_length=self.max_length,\n",
        "                                  return_attention_mask=True,\n",
        "                                  return_tensors='pt')\n",
        "\n",
        "        item = {\n",
        "            'input_ids': encoding['input_ids'].squeeze(),\n",
        "            'attention_mask': encoding['attention_mask'].squeeze(),\n",
        "            'labels': torch.tensor(self.labels[idx], dtype=torch.long)\n",
        "        }\n",
        "\n",
        "        return item\n",
        "\n",
        "\n",
        "def finetune_lm(model, train_dataset, val_dataset, n_epochs, batch_size, learning_rate, output_dir):\n",
        "    # Training arguments\n",
        "    training_args = TrainingArguments(\n",
        "        output_dir=output_dir,\n",
        "        per_device_train_batch_size=batch_size,\n",
        "        per_device_eval_batch_size=batch_size,\n",
        "        num_train_epochs=n_epochs,\n",
        "        logging_dir=\"./logs\",\n",
        "        load_best_model_at_end=True,\n",
        "        save_strategy=\"epoch\",\n",
        "        evaluation_strategy=\"epoch\",\n",
        "        save_total_limit=1,\n",
        "        learning_rate=learning_rate\n",
        "    )\n",
        "\n",
        "    # Create Trainer\n",
        "    trainer = Trainer(\n",
        "        model=model,\n",
        "        args=training_args,\n",
        "        train_dataset=train_dataset,\n",
        "        eval_dataset=val_dataset,\n",
        "        compute_metrics=lambda p: {\"accuracy\": accuracy_score(p.predictions.argmax(-1), p.label_ids)},\n",
        "    )\n",
        "\n",
        "    # Train the model\n",
        "    trainer.train()\n",
        "\n",
        "    return model, trainer\n"
      ]
    },
    {
      "cell_type": "markdown",
      "metadata": {
        "id": "tRdrFO1rbfAY"
      },
      "source": [
        "Load the data in model-friendly format using the convenience functions above."
      ]
    },
    {
      "cell_type": "code",
      "execution_count": 48,
      "metadata": {
        "id": "08fyzoJk-Rb3",
        "colab": {
          "base_uri": "https://localhost:8080/",
          "height": 296,
          "referenced_widgets": [
            "98cefe2254874f6188ff04206acda63d",
            "3948cafad07a42259f4abc56f21f71b7",
            "2c125da9c7c84e659d73c17fb85259dc",
            "4d4ee5a5b1e842f4b8a06036e4533d6d",
            "e5c1fa9f692a4d74b605b86ea33129f9",
            "daab614e09ba4186844a860f79302518",
            "351cc4dfe4a84be598f85ca82de29f73",
            "56f0787c904642eea4c7fccc525f29f3",
            "4b756ad2fc0a4f42a9834549ab0023c4",
            "f27d9a1585cb4f31a03f0b0523871827",
            "4c7ef99e95564883bf464ae5f87d661b",
            "1bfc5fd406184ecfa960fca934f54384",
            "be094e8b2d2a4301bb8781475e1c164b",
            "babcfffb35374ed18707ba78cf6ec360",
            "9a430449e53c42ab942a5131a3154de1",
            "65aa18ea0113407b9d9462fdaf5ba927",
            "831d0e9a9c064aa699542d17053f28dc",
            "2741143060794db18a64d8fd6794f28f",
            "0329c4d56be94234929e6d393a196d8f",
            "58363d44c3ed4cfc935805515ec2de63",
            "ea029544088240eeb6036d8341770e1f",
            "13948324cd2642199c94b2f653fd925f",
            "730a3e809a73467dacaf37ac319f004c",
            "9ed48c5e4fe446b89c5cbe5a4537689c",
            "a57db8dc4924452898932b8bac68bb49",
            "8e2be9a33bf84f61a220e2dbf6028ae5",
            "f6abe8c264d948aaba0dc4e8c40baf7d",
            "1b948980eaa942a9bdc965d50c5a2f83",
            "e9a535e1e1bc4d7c8d961e3eb501b735",
            "bf1426d705874c8f90181875dac37819",
            "4927d5195fc942cd888d14b8093770c1",
            "698170015dfb4cdf88812eecdd680485",
            "f9b92c1fcbf14492829c6ced8234a48d",
            "13d46b5822c24f2789d62ab025675f49",
            "f8c3eae7e8a84f3a90e8e47a483a789e",
            "72c7c346dc5844f3940fdcac1325523e",
            "e8964761c6b44810bc8eb4b9d7b56e63",
            "096559a47d46451cae4e1fb451b9af09",
            "aed4051c01c744309510c7d257496c98",
            "39931658b4b546f2ba0fe010ac581bb3",
            "8cde59208b8c4fae9992d56ae1c7ec40",
            "cc10c0ed37f54d29a7e5cdf5a8087032",
            "61283c28d85b4b34b0f37b141028c731",
            "dafe345adfc04caea0eaa9872ca094a8",
            "748587d96b8e4fbfb7f6b355cf14c274",
            "d72c3f2b7b554e1088c7adb808353d65",
            "3af1f2082a6e436288c52da3a3ca4c90",
            "64cd050b360c4f099aaf4fddd7107af7",
            "576989b403c34e81b7743a7a6b1b2091",
            "061b9bb0e93a42579f39182df5c86deb",
            "e441bb119ef14fe1adb59e4baf2d3579",
            "09c1d4af5aa14712acdb79995bf32cc5",
            "acc44239c4fa4bb181e106a0d1a86b13",
            "887c0049a6d84052853c55ab39f246ee",
            "3141128cd7ce4147942d48e215a119d9",
            "766b7f59eab4403594984a767a5b6ab4",
            "73348d46fc344bc79c22104aa1d0778d",
            "e6843bcc4a8e4ab1a45d6aa52388d15a",
            "77b4da0fdc394705804edcec0ff566ac",
            "93793e1cf4144a86b05cdc9d6fd6d46e",
            "8596d5c17ebc404485223f869bfc1e20",
            "e785bd9ffacd491485ada47e4abea260",
            "fa1e2d21f2ee41989ff0def85bfa25fa",
            "93177f60d3b447fc9ce494fad117020b",
            "bc2679021aff45819bad102a802b9105",
            "b0fe55aabb8546babd7a6edfc51e9a91",
            "115b5295116a4d8686305788d7d0435d",
            "628b8834868540c2ae8781130132a059",
            "419bdda7fec54a468892ebdf58346d5a",
            "ccf77661171e439abb8f4f07bed9cdd5",
            "7233edc18c784834a78d36daa09be3f3",
            "a8705f037cb54b4ca64b8eb312bdb0d7",
            "ce85c36f5d6c4e29ab025fa7f7e6e255",
            "f307576eccbc4d8aa09631af06a5862b",
            "73c0649b3fb84fd3b66fdaef1ff3df56",
            "36f191d3f314460ba04297c2d37e1fc9",
            "bc58924e15f94f30896955fcbbd063b7"
          ]
        },
        "outputId": "f5c6067c-53c6-419e-f180-c38d2ef4d3cd"
      },
      "outputs": [
        {
          "output_type": "display_data",
          "data": {
            "text/plain": [
              "config.json:   0%|          | 0.00/1.01k [00:00<?, ?B/s]"
            ],
            "application/vnd.jupyter.widget-view+json": {
              "version_major": 2,
              "version_minor": 0,
              "model_id": "98cefe2254874f6188ff04206acda63d"
            }
          },
          "metadata": {}
        },
        {
          "output_type": "display_data",
          "data": {
            "text/plain": [
              "model.safetensors:   0%|          | 0.00/526M [00:00<?, ?B/s]"
            ],
            "application/vnd.jupyter.widget-view+json": {
              "version_major": 2,
              "version_minor": 0,
              "model_id": "1bfc5fd406184ecfa960fca934f54384"
            }
          },
          "metadata": {}
        },
        {
          "output_type": "stream",
          "name": "stderr",
          "text": [
            "Some weights of GPTNeoForSequenceClassification were not initialized from the model checkpoint at EleutherAI/gpt-neo-125m and are newly initialized: ['score.weight']\n",
            "You should probably TRAIN this model on a down-stream task to be able to use it for predictions and inference.\n"
          ]
        },
        {
          "output_type": "display_data",
          "data": {
            "text/plain": [
              "tokenizer_config.json:   0%|          | 0.00/727 [00:00<?, ?B/s]"
            ],
            "application/vnd.jupyter.widget-view+json": {
              "version_major": 2,
              "version_minor": 0,
              "model_id": "730a3e809a73467dacaf37ac319f004c"
            }
          },
          "metadata": {}
        },
        {
          "output_type": "display_data",
          "data": {
            "text/plain": [
              "vocab.json:   0%|          | 0.00/899k [00:00<?, ?B/s]"
            ],
            "application/vnd.jupyter.widget-view+json": {
              "version_major": 2,
              "version_minor": 0,
              "model_id": "13d46b5822c24f2789d62ab025675f49"
            }
          },
          "metadata": {}
        },
        {
          "output_type": "display_data",
          "data": {
            "text/plain": [
              "merges.txt:   0%|          | 0.00/456k [00:00<?, ?B/s]"
            ],
            "application/vnd.jupyter.widget-view+json": {
              "version_major": 2,
              "version_minor": 0,
              "model_id": "748587d96b8e4fbfb7f6b355cf14c274"
            }
          },
          "metadata": {}
        },
        {
          "output_type": "display_data",
          "data": {
            "text/plain": [
              "tokenizer.json:   0%|          | 0.00/2.11M [00:00<?, ?B/s]"
            ],
            "application/vnd.jupyter.widget-view+json": {
              "version_major": 2,
              "version_minor": 0,
              "model_id": "766b7f59eab4403594984a767a5b6ab4"
            }
          },
          "metadata": {}
        },
        {
          "output_type": "display_data",
          "data": {
            "text/plain": [
              "special_tokens_map.json:   0%|          | 0.00/357 [00:00<?, ?B/s]"
            ],
            "application/vnd.jupyter.widget-view+json": {
              "version_major": 2,
              "version_minor": 0,
              "model_id": "115b5295116a4d8686305788d7d0435d"
            }
          },
          "metadata": {}
        }
      ],
      "source": [
        "# Load the data using our convenience functions\n",
        "train_ds, val_ds, test_ds = load_ECHR_dataset_for_binary_judgement_classification(data)\n",
        "\n",
        "# Load the tokenizer suitable for the model model\n",
        "MODEL_NAME = \"EleutherAI/gpt-neo-125m\"\n",
        "lm, tokenizer = load_classification_model_and_tokenizer(MODEL_NAME)\n",
        "\n",
        "# Create dataset and data loaders for training and validation\n",
        "train_dataset = EHRCDataset(train_ds['texts'], train_ds['labels'], tokenizer, max_length=2048)\n",
        "val_dataset = EHRCDataset(val_ds['texts'], val_ds['labels'], tokenizer, max_length=2048)"
      ]
    },
    {
      "cell_type": "markdown",
      "metadata": {
        "id": "m-HGCwbddJ7k"
      },
      "source": [
        "### Zero-shot classification and prompting\n",
        "\n",
        "Note that this model is pre-trained on the general language modelling task (predicting the next word in a text) and not on the legal judgement prediction task. This is different from the setup you have seen in the tutorial on pre-trained Transformers. The type of classification we will perform with this model is typically referred to as *zero-shot classification*, meaning that the model is asked to classify by seeing *no* examples from the dataset."
      ]
    },
    {
      "cell_type": "code",
      "execution_count": 50,
      "metadata": {
        "id": "x951-hZfvbDG",
        "colab": {
          "base_uri": "https://localhost:8080/"
        },
        "outputId": "37893c74-087e-48b0-ffba-8b6e0d2986f7"
      },
      "outputs": [
        {
          "output_type": "stream",
          "name": "stderr",
          "text": [
            "Some weights of GPTNeoForSequenceClassification were not initialized from the model checkpoint at EleutherAI/gpt-neo-125m and are newly initialized: ['score.weight']\n",
            "You should probably TRAIN this model on a down-stream task to be able to use it for predictions and inference.\n",
            "Failed to determine 'entailment' label id from the label2id mapping in the model config. Setting to -1. Define a descriptive label2id mapping in the model config to ensure correct outputs.\n"
          ]
        }
      ],
      "source": [
        "zero_shot_classifier = pipeline(\n",
        "    \"zero-shot-classification\",\n",
        "    model=MODEL_NAME,\n",
        "    device=\"cuda:0\"\n",
        ")"
      ]
    },
    {
      "cell_type": "markdown",
      "metadata": {
        "id": "pWpgbCRyzCQC"
      },
      "source": [
        "Instead of using a `text-classification` pipeline, we are using a `zero-shot-classification` pipeline. These two are almost equivalent except that `zero-shot-classification` doesn't require a hardcoded number of potential classes. They can be chosen at runtime:"
      ]
    },
    {
      "cell_type": "code",
      "execution_count": 51,
      "metadata": {
        "id": "1PhetOn9vt43"
      },
      "outputs": [],
      "source": [
        "candidate_labels = [\"innocent\", \"guilty\"]\n",
        "label2id = {label: i for i, label in enumerate(candidate_labels)}\n"
      ]
    },
    {
      "cell_type": "markdown",
      "metadata": {
        "id": "YS3MBXI30jQL"
      },
      "source": [
        "Why should this work? The language model is essentially asked if \"innocent\" is more or less likely to follow the court case text then \"guilty\".\n",
        "\n",
        "But does it work in practice?"
      ]
    },
    {
      "cell_type": "code",
      "execution_count": 52,
      "metadata": {
        "id": "U14yk7iQxUTC",
        "colab": {
          "base_uri": "https://localhost:8080/",
          "height": 1000,
          "referenced_widgets": [
            "5d8af9547c994fe698eb071669f41e9b",
            "0ce2d36d4bcc4779aa75721a26782114",
            "5d492baeabbb4888967ec64d31653fc7",
            "2b554e7b51a947978ca6c2ccfbdacadb",
            "5cc90e9d31144014b3ebb958343f131c",
            "d86377255b7b4b8db551cd40238a75cc",
            "c33c70e6424c4f4b910a1e32d98d8d5e",
            "5ce3442243bf40b7b08f1f8f1d3ac92b",
            "36b70273abb742f9b4a5b54acec75071",
            "f17eb9ac0a01476bbc83a8752ea74807",
            "1ce13172635e4020b2bac90423a737c5"
          ]
        },
        "outputId": "6f1426bd-4945-4256-be28-7b2d2baa57a9"
      },
      "outputs": [
        {
          "output_type": "display_data",
          "data": {
            "text/plain": [
              "  0%|          | 0/823 [00:00<?, ?it/s]"
            ],
            "application/vnd.jupyter.widget-view+json": {
              "version_major": 2,
              "version_minor": 0,
              "model_id": "5d8af9547c994fe698eb071669f41e9b"
            }
          },
          "metadata": {}
        },
        {
          "output_type": "stream",
          "name": "stderr",
          "text": [
            "Tokenizer was not supporting padding necessary for zero-shot, attempting to use  `pad_token=eos_token`\n",
            "--- Logging error ---\n",
            "Traceback (most recent call last):\n",
            "  File \"/usr/lib/python3.10/logging/__init__.py\", line 1100, in emit\n",
            "    msg = self.format(record)\n",
            "  File \"/usr/lib/python3.10/logging/__init__.py\", line 943, in format\n",
            "    return fmt.format(record)\n",
            "  File \"/usr/lib/python3.10/logging/__init__.py\", line 678, in format\n",
            "    record.message = record.getMessage()\n",
            "  File \"/usr/lib/python3.10/logging/__init__.py\", line 368, in getMessage\n",
            "    msg = msg % self.args\n",
            "TypeError: not all arguments converted during string formatting\n",
            "Call stack:\n",
            "  File \"/usr/lib/python3.10/runpy.py\", line 196, in _run_module_as_main\n",
            "    return _run_code(code, main_globals, None,\n",
            "  File \"/usr/lib/python3.10/runpy.py\", line 86, in _run_code\n",
            "    exec(code, run_globals)\n",
            "  File \"/usr/local/lib/python3.10/dist-packages/colab_kernel_launcher.py\", line 37, in <module>\n",
            "    ColabKernelApp.launch_instance()\n",
            "  File \"/usr/local/lib/python3.10/dist-packages/traitlets/config/application.py\", line 992, in launch_instance\n",
            "    app.start()\n",
            "  File \"/usr/local/lib/python3.10/dist-packages/ipykernel/kernelapp.py\", line 619, in start\n",
            "    self.io_loop.start()\n",
            "  File \"/usr/local/lib/python3.10/dist-packages/tornado/platform/asyncio.py\", line 195, in start\n",
            "    self.asyncio_loop.run_forever()\n",
            "  File \"/usr/lib/python3.10/asyncio/base_events.py\", line 603, in run_forever\n",
            "    self._run_once()\n",
            "  File \"/usr/lib/python3.10/asyncio/base_events.py\", line 1909, in _run_once\n",
            "    handle._run()\n",
            "  File \"/usr/lib/python3.10/asyncio/events.py\", line 80, in _run\n",
            "    self._context.run(self._callback, *self._args)\n",
            "  File \"/usr/local/lib/python3.10/dist-packages/tornado/ioloop.py\", line 685, in <lambda>\n",
            "    lambda f: self._run_callback(functools.partial(callback, future))\n",
            "  File \"/usr/local/lib/python3.10/dist-packages/tornado/ioloop.py\", line 738, in _run_callback\n",
            "    ret = callback()\n",
            "  File \"/usr/local/lib/python3.10/dist-packages/tornado/gen.py\", line 825, in inner\n",
            "    self.ctx_run(self.run)\n",
            "  File \"/usr/local/lib/python3.10/dist-packages/tornado/gen.py\", line 786, in run\n",
            "    yielded = self.gen.send(value)\n",
            "  File \"/usr/local/lib/python3.10/dist-packages/ipykernel/kernelbase.py\", line 361, in process_one\n",
            "    yield gen.maybe_future(dispatch(*args))\n",
            "  File \"/usr/local/lib/python3.10/dist-packages/tornado/gen.py\", line 234, in wrapper\n",
            "    yielded = ctx_run(next, result)\n",
            "  File \"/usr/local/lib/python3.10/dist-packages/ipykernel/kernelbase.py\", line 261, in dispatch_shell\n",
            "    yield gen.maybe_future(handler(stream, idents, msg))\n",
            "  File \"/usr/local/lib/python3.10/dist-packages/tornado/gen.py\", line 234, in wrapper\n",
            "    yielded = ctx_run(next, result)\n",
            "  File \"/usr/local/lib/python3.10/dist-packages/ipykernel/kernelbase.py\", line 539, in execute_request\n",
            "    self.do_execute(\n",
            "  File \"/usr/local/lib/python3.10/dist-packages/tornado/gen.py\", line 234, in wrapper\n",
            "    yielded = ctx_run(next, result)\n",
            "  File \"/usr/local/lib/python3.10/dist-packages/ipykernel/ipkernel.py\", line 302, in do_execute\n",
            "    res = shell.run_cell(code, store_history=store_history, silent=silent)\n",
            "  File \"/usr/local/lib/python3.10/dist-packages/ipykernel/zmqshell.py\", line 539, in run_cell\n",
            "    return super(ZMQInteractiveShell, self).run_cell(*args, **kwargs)\n",
            "  File \"/usr/local/lib/python3.10/dist-packages/IPython/core/interactiveshell.py\", line 2975, in run_cell\n",
            "    result = self._run_cell(\n",
            "  File \"/usr/local/lib/python3.10/dist-packages/IPython/core/interactiveshell.py\", line 3030, in _run_cell\n",
            "    return runner(coro)\n",
            "  File \"/usr/local/lib/python3.10/dist-packages/IPython/core/async_helpers.py\", line 78, in _pseudo_sync_runner\n",
            "    coro.send(None)\n",
            "  File \"/usr/local/lib/python3.10/dist-packages/IPython/core/interactiveshell.py\", line 3257, in run_cell_async\n",
            "    has_raised = await self.run_ast_nodes(code_ast.body, cell_name,\n",
            "  File \"/usr/local/lib/python3.10/dist-packages/IPython/core/interactiveshell.py\", line 3473, in run_ast_nodes\n",
            "    if (await self.run_code(code, result,  async_=asy)):\n",
            "  File \"/usr/local/lib/python3.10/dist-packages/IPython/core/interactiveshell.py\", line 3553, in run_code\n",
            "    exec(code_obj, self.user_global_ns, self.user_ns)\n",
            "  File \"<ipython-input-52-8d49ebff03a9>\", line 6, in <cell line: 3>\n",
            "    result = zero_shot_classifier(\n",
            "  File \"/usr/local/lib/python3.10/dist-packages/transformers/pipelines/zero_shot_classification.py\", line 206, in __call__\n",
            "    return super().__call__(sequences, **kwargs)\n",
            "  File \"/usr/local/lib/python3.10/dist-packages/transformers/pipelines/base.py\", line 1167, in __call__\n",
            "    logger.warning_once(\n",
            "  File \"/usr/local/lib/python3.10/dist-packages/transformers/utils/logging.py\", line 329, in warning_once\n",
            "    self.warning(*args, **kwargs)\n",
            "Message: 'You seem to be using the pipelines sequentially on GPU. In order to maximize efficiency please use a dataset'\n",
            "Arguments: (<class 'UserWarning'>,)\n"
          ]
        },
        {
          "output_type": "stream",
          "name": "stdout",
          "text": [
            "\n",
            "Accuracy: 0.5735115431348724\n"
          ]
        }
      ],
      "source": [
        "predictions_binary_classifier_7 = []\n",
        "\n",
        "for text in tqdm(val_ds[\"texts\"]):\n",
        "\n",
        "    # Forward pass of zero-shot classification\n",
        "    result = zero_shot_classifier(\n",
        "        text,\n",
        "        candidate_labels\n",
        "    )\n",
        "\n",
        "    # Get the model prediction (labels ordered according to their probability)\n",
        "    prediction = label2id[result[\"labels\"][0]]\n",
        "    predictions_binary_classifier_7.append(prediction)\n",
        "\n",
        "# Calculate the accuracy\n",
        "acc_classifier7 = accuracy_score(val_ds[\"labels\"], predictions_binary_classifier_7)\n",
        "print(\"\\nAccuracy:\", acc_classifier7)"
      ]
    },
    {
      "cell_type": "markdown",
      "metadata": {
        "id": "dQXdclqh2SJk"
      },
      "source": [
        "To further steer the model towards giving sensible answers, it is good practice to prepend or append a templated string to the input example. In this case, we could for instance use the template \"The party being sued in this court case is\", which makes the model much less surprised to see \"innocent\" or \"guilty\" as continuations and gives the model a context to interpret those continuations as we would like it to. This technique is referred to as *prompting*.\n"
      ]
    },
    {
      "cell_type": "code",
      "execution_count": 53,
      "metadata": {
        "id": "nB7jqZ7f0gTX"
      },
      "outputs": [],
      "source": [
        "prompt = \"The party being sued in this court case is {}\"\n",
        "candidate_labels = [\"innocent\", \"guilty\"]\n",
        "label2id = {label: i for i, label in enumerate(candidate_labels)}"
      ]
    },
    {
      "cell_type": "markdown",
      "metadata": {
        "id": "IgUN8Eiec2ne"
      },
      "source": [
        "Does this work better?"
      ]
    },
    {
      "cell_type": "code",
      "execution_count": 54,
      "metadata": {
        "id": "55PwOi173wWt",
        "colab": {
          "base_uri": "https://localhost:8080/",
          "height": 84,
          "referenced_widgets": [
            "c9534b1e175247d1a5f545e638ae641a",
            "126387d043b2420ca35d7abf2379cc4c",
            "7c67aa7052244677b0cd68566653e47c",
            "33635c934f884dc9bebdabf234627113",
            "d4c4b12bbc084de8804d941648df67ac",
            "f793c7385f874f7ba36208d43381bd1d",
            "9e3fc5f9ef1e43e18352456464bf3a85",
            "d3196b85994f41de99031ece3f5e048c",
            "c793a6120d814387b1a0a4173884d44f",
            "dfa76711064b4b099a000c642f7c8079",
            "6ca308599fcd4ce0961a28f44bb96d57"
          ]
        },
        "outputId": "ee513ca4-6e36-488d-ae9b-3ecf4cc5ed2e"
      },
      "outputs": [
        {
          "output_type": "display_data",
          "data": {
            "text/plain": [
              "  0%|          | 0/823 [00:00<?, ?it/s]"
            ],
            "application/vnd.jupyter.widget-view+json": {
              "version_major": 2,
              "version_minor": 0,
              "model_id": "c9534b1e175247d1a5f545e638ae641a"
            }
          },
          "metadata": {}
        },
        {
          "output_type": "stream",
          "name": "stdout",
          "text": [
            "\n",
            "Accuracy: 0.43377885783718106\n"
          ]
        }
      ],
      "source": [
        "predictions_binary_classifier_8 = []\n",
        "\n",
        "for text in tqdm(val_ds[\"texts\"]):\n",
        "\n",
        "    # Forward pass of zero-shot classification\n",
        "    result = zero_shot_classifier(\n",
        "        text,\n",
        "        candidate_labels,\n",
        "        hypothesis_template=prompt  # here we prompt the model with our template\n",
        "    )\n",
        "\n",
        "    # Get the model prediction (labels ordered according to their probability)\n",
        "    prediction = label2id[result[\"labels\"][0]]\n",
        "    predictions_binary_classifier_8.append(prediction)\n",
        "\n",
        "# Calculate the accuracy\n",
        "acc_classifier8 = accuracy_score(val_ds[\"labels\"], predictions_binary_classifier_8)\n",
        "print(\"\\nAccuracy:\", acc_classifier8)\n"
      ]
    },
    {
      "cell_type": "markdown",
      "metadata": {
        "id": "P7I7BA2D5G5f"
      },
      "source": [
        "***Try at least one more combination of prompt and labels and test the corresponding zero-shot classifier.***"
      ]
    },
    {
      "cell_type": "code",
      "execution_count": 55,
      "metadata": {
        "id": "5ETq-NE95GTu",
        "colab": {
          "base_uri": "https://localhost:8080/",
          "height": 84,
          "referenced_widgets": [
            "8577e2fb5ae5488ea6ce54e14c33545b",
            "7b3bc86432a04b32af1cb4fd10ad907e",
            "688337bff5d14932bc01672a267a11ec",
            "cb9f346fe28441f3a222149623b5e47a",
            "99fd5242311248c190f47689129b97c1",
            "8e30e2f1cb6b4d77b469a414fc008ea9",
            "63388310a703483da8ea9c59a4144e30",
            "6c31c484f42e462087fb67c1adb2acb1",
            "e33edb531920431b86fbfd985df35aeb",
            "519bf173d1ff4f7ba88afb23d9e46981",
            "b5d8cedaf83f4c0e8df28acd950f82fc"
          ]
        },
        "outputId": "58f02b79-73bd-4616-f3aa-8f03a6fa5722"
      },
      "outputs": [
        {
          "output_type": "display_data",
          "data": {
            "text/plain": [
              "  0%|          | 0/823 [00:00<?, ?it/s]"
            ],
            "application/vnd.jupyter.widget-view+json": {
              "version_major": 2,
              "version_minor": 0,
              "model_id": "8577e2fb5ae5488ea6ce54e14c33545b"
            }
          },
          "metadata": {}
        },
        {
          "output_type": "stream",
          "name": "stdout",
          "text": [
            "\n",
            "Accuracy: 0.543134872417983\n"
          ]
        }
      ],
      "source": [
        "# prompt = \"...\"  # fill in a prompt\n",
        "# candidate_labels = [\"...\", \"...\"]  # fill in potential labels\n",
        "prompt = \"Is this a case of 'violation' of human rights or a case of 'absolution'? It is a case of {}\"\n",
        "candidate_labels = [\"violation\", \"absolution\"]  # fill in potential labels\n",
        "label2id = {label: i for i, label in enumerate(candidate_labels)}\n",
        "\n",
        "predictions_binary_classifier_9 = []\n",
        "\n",
        "for text in tqdm(val_ds[\"texts\"]):\n",
        "  result = zero_shot_classifier(\n",
        "        text,\n",
        "        candidate_labels,\n",
        "        hypothesis_template=prompt\n",
        "    )\n",
        "\n",
        "  prediction = label2id[result[\"labels\"][0]]\n",
        "  predictions_binary_classifier_9.append(prediction)\n",
        "\n",
        "\n",
        "acc_classifier9 = accuracy_score(val_ds[\"labels\"], predictions_binary_classifier_9)\n",
        "print(\"\\nAccuracy:\", acc_classifier9)"
      ]
    },
    {
      "cell_type": "markdown",
      "metadata": {
        "id": "v06zFnqT5z3p"
      },
      "source": [
        "### Fine-tuning\n",
        "\n",
        "Finally, we fine-tune the pre-trained language model on the binary prediction task. By showing it examples of court cases and supervised labels, we obtain a Transformer model specialized for the judgement prediction task. Note that this might result in the model forgetting previous knowledge and becoming less performant in other tasks, including next-word prediction."
      ]
    },
    {
      "cell_type": "markdown",
      "metadata": {
        "id": "MKqALSmPee_K"
      },
      "source": [
        "Let's launch the fine-tuning and save the fine-tuned model checkpoint."
      ]
    },
    {
      "cell_type": "code",
      "execution_count": 1,
      "metadata": {
        "id": "-8Qj9FgUur8F",
        "colab": {
          "base_uri": "https://localhost:8080/",
          "height": 211
        },
        "outputId": "0f8f7167-e9e2-45a0-f2f1-e544c91a095f"
      },
      "outputs": [
        {
          "output_type": "error",
          "ename": "NameError",
          "evalue": "name 'finetune_lm' is not defined",
          "traceback": [
            "\u001b[0;31m---------------------------------------------------------------------------\u001b[0m",
            "\u001b[0;31mNameError\u001b[0m                                 Traceback (most recent call last)",
            "\u001b[0;32m<ipython-input-1-487f5de027c4>\u001b[0m in \u001b[0;36m<cell line: 6>\u001b[0;34m()\u001b[0m\n\u001b[1;32m      4\u001b[0m \u001b[0mOUTPUT_DIR\u001b[0m \u001b[0;34m=\u001b[0m \u001b[0;34m\"lm_for_classification_5ep\"\u001b[0m\u001b[0;34m\u001b[0m\u001b[0;34m\u001b[0m\u001b[0m\n\u001b[1;32m      5\u001b[0m \u001b[0;34m\u001b[0m\u001b[0m\n\u001b[0;32m----> 6\u001b[0;31m \u001b[0mlm_finetuned\u001b[0m\u001b[0;34m,\u001b[0m \u001b[0mlm_trainer\u001b[0m \u001b[0;34m=\u001b[0m \u001b[0mfinetune_lm\u001b[0m\u001b[0;34m(\u001b[0m\u001b[0mlm\u001b[0m\u001b[0;34m,\u001b[0m \u001b[0mtrain_dataset\u001b[0m\u001b[0;34m,\u001b[0m \u001b[0mval_dataset\u001b[0m\u001b[0;34m,\u001b[0m \u001b[0mN_EPOCHS\u001b[0m\u001b[0;34m,\u001b[0m \u001b[0mBATCH_SIZE\u001b[0m\u001b[0;34m,\u001b[0m \u001b[0mLEARNING_RATE\u001b[0m\u001b[0;34m,\u001b[0m \u001b[0mOUTPUT_DIR\u001b[0m\u001b[0;34m)\u001b[0m\u001b[0;34m\u001b[0m\u001b[0;34m\u001b[0m\u001b[0m\n\u001b[0m\u001b[1;32m      7\u001b[0m \u001b[0;34m\u001b[0m\u001b[0m\n\u001b[1;32m      8\u001b[0m \u001b[0;31m# Save or use the trained model as needed\u001b[0m\u001b[0;34m\u001b[0m\u001b[0;34m\u001b[0m\u001b[0m\n",
            "\u001b[0;31mNameError\u001b[0m: name 'finetune_lm' is not defined"
          ]
        }
      ],
      "source": [
        "N_EPOCHS = 5\n",
        "BATCH_SIZE = 3\n",
        "LEARNING_RATE = 1e-5\n",
        "OUTPUT_DIR = \"lm_for_classification_5ep\"\n",
        "\n",
        "lm_finetuned, lm_trainer = finetune_lm(lm, train_dataset, val_dataset, N_EPOCHS, BATCH_SIZE, LEARNING_RATE, OUTPUT_DIR)\n",
        "\n",
        "# Save or use the trained model as needed\n",
        "lm.save_pretrained(OUTPUT_DIR)"
      ]
    },
    {
      "cell_type": "markdown",
      "metadata": {
        "id": "l0woQtYKek2N"
      },
      "source": [
        "Now we obtain predictions from the model and evaluate its accuracy."
      ]
    },
    {
      "cell_type": "code",
      "execution_count": null,
      "metadata": {
        "id": "KI56nIt8u2Mr"
      },
      "outputs": [],
      "source": [
        "# List to store predicted labels\n",
        "predictions_binary_classifier_10 = []\n",
        "\n",
        "# Tokenize and predict labels for each example in the dataset\n",
        "for text in val_ds['texts']:\n",
        "\n",
        "    # Tokenize input text\n",
        "    tokenized_input = tokenizer(text, return_tensors='pt')\n",
        "\n",
        "    # Forward pass\n",
        "    output = lm_finetuned(**tokenized_input)\n",
        "\n",
        "    # Get predicted label\n",
        "    predicted_label = torch.argmax(output.logits, dim=1).item()\n",
        "\n",
        "    # Store predicted label in the list\n",
        "    predictions_binary_classifier_10.append(predicted_label)\n",
        "\n",
        "# Calculate the accuracy\n",
        "acc_classifier10 = accuracy_score(val_ds[\"labels\"], predictions_binary_classifier_10)\n",
        "print(acc_classifier10)"
      ]
    },
    {
      "cell_type": "code",
      "execution_count": null,
      "metadata": {
        "id": "J7a9HPLiu5Xx"
      },
      "outputs": [],
      "source": [
        "accuracy_score(val_ds[\"labels\"], predictions_binary_classifier_10)"
      ]
    },
    {
      "cell_type": "markdown",
      "metadata": {
        "id": "TswN7-GF6YEQ"
      },
      "source": [
        "## Evaluate on the test set\n",
        "\n",
        "You have compared at least 10 different classifiers so far. ***Now evaluate the best 3 on the test set and report their accuracy.***"
      ]
    },
    {
      "cell_type": "code",
      "execution_count": null,
      "metadata": {
        "id": "Z9g5VFwX6t8q"
      },
      "outputs": [],
      "source": [
        "# Load test set\n",
        "\n",
        "_, _, test_set = load_ECHR_dataset_for_binary_judgement_classification(data)\n",
        "\n",
        "test_documents = test_set['texts']\n",
        "test_labels = test_set['labels']\n"
      ]
    },
    {
      "cell_type": "markdown",
      "metadata": {
        "id": "tFAoF7NUjNVc"
      },
      "source": [
        "Example evaluation with logistic regression classifiers and LSTMs."
      ]
    },
    {
      "cell_type": "code",
      "execution_count": null,
      "metadata": {
        "id": "CrurLEL5jOw5"
      },
      "outputs": [],
      "source": [
        "from sklearn.metrics import classification_report\n",
        "\n",
        "# Make prediction for the test set sentences\n",
        "predictions = binary_classifier_1.predict(\n",
        "    test_documents\n",
        ")\n",
        "\n",
        "# Turn predicted probabilities into binary classification scores\n",
        "binary_predictions = [1 if pred > 0.5 else 0 for pred in predictions]\n",
        "\n",
        "# Evaluate model by comparing its prediction to the gold labels\n",
        "report = classification_report(\n",
        "    y_true=test_labels,\n",
        "    y_pred=binary_predictions\n",
        ")\n",
        "\n",
        "print(report)"
      ]
    },
    {
      "cell_type": "markdown",
      "metadata": {
        "id": "9uqrThNmjQ0A"
      },
      "source": [
        "Example evaluation with Transformers."
      ]
    },
    {
      "cell_type": "code",
      "execution_count": null,
      "metadata": {
        "id": "Dl_ELcdPjSxo"
      },
      "outputs": [],
      "source": [
        "prompt = \"Is this a case of 'violation' of human rights or a case of 'absolution'? It is a case of {}\"\n",
        "candidate_labels = [\"violation\", \"absolution\"]  # fill in potential labels\n",
        "label2id = {label: i for i, label in enumerate(candidate_labels)}\n",
        "\n",
        "zero_shot_classifier = pipeline(\n",
        "    \"zero-shot-classification\",\n",
        "    model=\"EleutherAI/gpt-neo-125m\",\n",
        "    device=\"cuda\" if torch.cuda.is_available() else \"cpu\"\n",
        ")\n",
        "\n",
        "# Make predictions with Transformers\n",
        "binary_predictions = []\n",
        "\n",
        "for text in test_documents:\n",
        "    # Forward pass of zero-shot classification\n",
        "    result = zero_shot_classifier(\n",
        "        text,\n",
        "        candidate_labels,\n",
        "        hypothesis_template=prompt\n",
        "    )\n",
        "\n",
        "    # Get the model prediction (labels ordered according to their probability)\n",
        "    prediction = label2id[result[\"labels\"][0]]\n",
        "    binary_predictions.append(prediction)\n",
        "\n",
        "# Evaluation report\n",
        "report = classification_report(\n",
        "    y_true=test_labels,\n",
        "    y_pred=binary_predictions\n",
        ")\n",
        "\n",
        "print(report)\n"
      ]
    },
    {
      "cell_type": "markdown",
      "metadata": {
        "id": "F7XlJi-Byx1p"
      },
      "source": [
        "## [Optional] Case importance prediction\n",
        "\n",
        "The main task of this project was binary legal judgement classification but each court case in the ECHR dataset is also annotated with importance scores, a value from 1 to 4 that allows legal practitioners to identify pivotal cases.\n",
        "\n",
        "> Note: Importance scores can be thought of as values on a continuous scale from 1 to 4, or they can be considered as four separate classes, each with its specific meaning. Depending on which interpretation we decide to go with, predicting importance scores can be cast as a:\n",
        "*   *regression task*: predicting a continous score from 1 to 4\n",
        "*   *multi-class classification*: predicting a categorical label out ot 4 options\n",
        "\n",
        "**Your (optional and open-ended) task is now to train and compare multi-class classifiers that predict the importance score of a court case.**\n",
        "\n",
        "\n"
      ]
    },
    {
      "cell_type": "code",
      "execution_count": null,
      "metadata": {
        "id": "c1i-KQzty6Vb"
      },
      "outputs": [],
      "source": [
        "# ..."
      ]
    }
  ],
  "metadata": {
    "accelerator": "GPU",
    "colab": {
      "gpuType": "T4",
      "provenance": [],
      "include_colab_link": true
    },
    "kernelspec": {
      "display_name": "Python 3 (ipykernel)",
      "language": "python",
      "name": "python3"
    },
    "language_info": {
      "codemirror_mode": {
        "name": "ipython",
        "version": 3
      },
      "file_extension": ".py",
      "mimetype": "text/x-python",
      "name": "python",
      "nbconvert_exporter": "python",
      "pygments_lexer": "ipython3",
      "version": "3.11.5"
    },
    "widgets": {
      "application/vnd.jupyter.widget-state+json": {
        "152904aa01284da399f6187deb9eba51": {
          "model_module": "@jupyter-widgets/controls",
          "model_name": "HBoxModel",
          "model_module_version": "1.5.0",
          "state": {
            "_dom_classes": [],
            "_model_module": "@jupyter-widgets/controls",
            "_model_module_version": "1.5.0",
            "_model_name": "HBoxModel",
            "_view_count": null,
            "_view_module": "@jupyter-widgets/controls",
            "_view_module_version": "1.5.0",
            "_view_name": "HBoxView",
            "box_style": "",
            "children": [
              "IPY_MODEL_e3812d2927a949b998a47b473839d700",
              "IPY_MODEL_326ec5ebabac4b8692699d899fd970ec",
              "IPY_MODEL_8232f2ce46b04385ae52f3d16de2ca6e"
            ],
            "layout": "IPY_MODEL_fe1c7c5024764121be98d1b7a2626035"
          }
        },
        "e3812d2927a949b998a47b473839d700": {
          "model_module": "@jupyter-widgets/controls",
          "model_name": "HTMLModel",
          "model_module_version": "1.5.0",
          "state": {
            "_dom_classes": [],
            "_model_module": "@jupyter-widgets/controls",
            "_model_module_version": "1.5.0",
            "_model_name": "HTMLModel",
            "_view_count": null,
            "_view_module": "@jupyter-widgets/controls",
            "_view_module_version": "1.5.0",
            "_view_name": "HTMLView",
            "description": "",
            "description_tooltip": null,
            "layout": "IPY_MODEL_96643a8a7f3143ef9e714a3a13d1b0ff",
            "placeholder": "​",
            "style": "IPY_MODEL_537909b525f845fb82901fb0e9b8e848",
            "value": "Downloading readme: 100%"
          }
        },
        "326ec5ebabac4b8692699d899fd970ec": {
          "model_module": "@jupyter-widgets/controls",
          "model_name": "FloatProgressModel",
          "model_module_version": "1.5.0",
          "state": {
            "_dom_classes": [],
            "_model_module": "@jupyter-widgets/controls",
            "_model_module_version": "1.5.0",
            "_model_name": "FloatProgressModel",
            "_view_count": null,
            "_view_module": "@jupyter-widgets/controls",
            "_view_module_version": "1.5.0",
            "_view_name": "ProgressView",
            "bar_style": "success",
            "description": "",
            "description_tooltip": null,
            "layout": "IPY_MODEL_a287e09202df4f97ad57adc44b13ab0e",
            "max": 1878,
            "min": 0,
            "orientation": "horizontal",
            "style": "IPY_MODEL_b38b407503a247e1a541112483ab2332",
            "value": 1878
          }
        },
        "8232f2ce46b04385ae52f3d16de2ca6e": {
          "model_module": "@jupyter-widgets/controls",
          "model_name": "HTMLModel",
          "model_module_version": "1.5.0",
          "state": {
            "_dom_classes": [],
            "_model_module": "@jupyter-widgets/controls",
            "_model_module_version": "1.5.0",
            "_model_name": "HTMLModel",
            "_view_count": null,
            "_view_module": "@jupyter-widgets/controls",
            "_view_module_version": "1.5.0",
            "_view_name": "HTMLView",
            "description": "",
            "description_tooltip": null,
            "layout": "IPY_MODEL_ffc6b31b200d4fae85d9125fff4a0b6e",
            "placeholder": "​",
            "style": "IPY_MODEL_279d7d826704451289722f8d40b9f657",
            "value": " 1.88k/1.88k [00:00&lt;00:00, 78.5kB/s]"
          }
        },
        "fe1c7c5024764121be98d1b7a2626035": {
          "model_module": "@jupyter-widgets/base",
          "model_name": "LayoutModel",
          "model_module_version": "1.2.0",
          "state": {
            "_model_module": "@jupyter-widgets/base",
            "_model_module_version": "1.2.0",
            "_model_name": "LayoutModel",
            "_view_count": null,
            "_view_module": "@jupyter-widgets/base",
            "_view_module_version": "1.2.0",
            "_view_name": "LayoutView",
            "align_content": null,
            "align_items": null,
            "align_self": null,
            "border": null,
            "bottom": null,
            "display": null,
            "flex": null,
            "flex_flow": null,
            "grid_area": null,
            "grid_auto_columns": null,
            "grid_auto_flow": null,
            "grid_auto_rows": null,
            "grid_column": null,
            "grid_gap": null,
            "grid_row": null,
            "grid_template_areas": null,
            "grid_template_columns": null,
            "grid_template_rows": null,
            "height": null,
            "justify_content": null,
            "justify_items": null,
            "left": null,
            "margin": null,
            "max_height": null,
            "max_width": null,
            "min_height": null,
            "min_width": null,
            "object_fit": null,
            "object_position": null,
            "order": null,
            "overflow": null,
            "overflow_x": null,
            "overflow_y": null,
            "padding": null,
            "right": null,
            "top": null,
            "visibility": null,
            "width": null
          }
        },
        "96643a8a7f3143ef9e714a3a13d1b0ff": {
          "model_module": "@jupyter-widgets/base",
          "model_name": "LayoutModel",
          "model_module_version": "1.2.0",
          "state": {
            "_model_module": "@jupyter-widgets/base",
            "_model_module_version": "1.2.0",
            "_model_name": "LayoutModel",
            "_view_count": null,
            "_view_module": "@jupyter-widgets/base",
            "_view_module_version": "1.2.0",
            "_view_name": "LayoutView",
            "align_content": null,
            "align_items": null,
            "align_self": null,
            "border": null,
            "bottom": null,
            "display": null,
            "flex": null,
            "flex_flow": null,
            "grid_area": null,
            "grid_auto_columns": null,
            "grid_auto_flow": null,
            "grid_auto_rows": null,
            "grid_column": null,
            "grid_gap": null,
            "grid_row": null,
            "grid_template_areas": null,
            "grid_template_columns": null,
            "grid_template_rows": null,
            "height": null,
            "justify_content": null,
            "justify_items": null,
            "left": null,
            "margin": null,
            "max_height": null,
            "max_width": null,
            "min_height": null,
            "min_width": null,
            "object_fit": null,
            "object_position": null,
            "order": null,
            "overflow": null,
            "overflow_x": null,
            "overflow_y": null,
            "padding": null,
            "right": null,
            "top": null,
            "visibility": null,
            "width": null
          }
        },
        "537909b525f845fb82901fb0e9b8e848": {
          "model_module": "@jupyter-widgets/controls",
          "model_name": "DescriptionStyleModel",
          "model_module_version": "1.5.0",
          "state": {
            "_model_module": "@jupyter-widgets/controls",
            "_model_module_version": "1.5.0",
            "_model_name": "DescriptionStyleModel",
            "_view_count": null,
            "_view_module": "@jupyter-widgets/base",
            "_view_module_version": "1.2.0",
            "_view_name": "StyleView",
            "description_width": ""
          }
        },
        "a287e09202df4f97ad57adc44b13ab0e": {
          "model_module": "@jupyter-widgets/base",
          "model_name": "LayoutModel",
          "model_module_version": "1.2.0",
          "state": {
            "_model_module": "@jupyter-widgets/base",
            "_model_module_version": "1.2.0",
            "_model_name": "LayoutModel",
            "_view_count": null,
            "_view_module": "@jupyter-widgets/base",
            "_view_module_version": "1.2.0",
            "_view_name": "LayoutView",
            "align_content": null,
            "align_items": null,
            "align_self": null,
            "border": null,
            "bottom": null,
            "display": null,
            "flex": null,
            "flex_flow": null,
            "grid_area": null,
            "grid_auto_columns": null,
            "grid_auto_flow": null,
            "grid_auto_rows": null,
            "grid_column": null,
            "grid_gap": null,
            "grid_row": null,
            "grid_template_areas": null,
            "grid_template_columns": null,
            "grid_template_rows": null,
            "height": null,
            "justify_content": null,
            "justify_items": null,
            "left": null,
            "margin": null,
            "max_height": null,
            "max_width": null,
            "min_height": null,
            "min_width": null,
            "object_fit": null,
            "object_position": null,
            "order": null,
            "overflow": null,
            "overflow_x": null,
            "overflow_y": null,
            "padding": null,
            "right": null,
            "top": null,
            "visibility": null,
            "width": null
          }
        },
        "b38b407503a247e1a541112483ab2332": {
          "model_module": "@jupyter-widgets/controls",
          "model_name": "ProgressStyleModel",
          "model_module_version": "1.5.0",
          "state": {
            "_model_module": "@jupyter-widgets/controls",
            "_model_module_version": "1.5.0",
            "_model_name": "ProgressStyleModel",
            "_view_count": null,
            "_view_module": "@jupyter-widgets/base",
            "_view_module_version": "1.2.0",
            "_view_name": "StyleView",
            "bar_color": null,
            "description_width": ""
          }
        },
        "ffc6b31b200d4fae85d9125fff4a0b6e": {
          "model_module": "@jupyter-widgets/base",
          "model_name": "LayoutModel",
          "model_module_version": "1.2.0",
          "state": {
            "_model_module": "@jupyter-widgets/base",
            "_model_module_version": "1.2.0",
            "_model_name": "LayoutModel",
            "_view_count": null,
            "_view_module": "@jupyter-widgets/base",
            "_view_module_version": "1.2.0",
            "_view_name": "LayoutView",
            "align_content": null,
            "align_items": null,
            "align_self": null,
            "border": null,
            "bottom": null,
            "display": null,
            "flex": null,
            "flex_flow": null,
            "grid_area": null,
            "grid_auto_columns": null,
            "grid_auto_flow": null,
            "grid_auto_rows": null,
            "grid_column": null,
            "grid_gap": null,
            "grid_row": null,
            "grid_template_areas": null,
            "grid_template_columns": null,
            "grid_template_rows": null,
            "height": null,
            "justify_content": null,
            "justify_items": null,
            "left": null,
            "margin": null,
            "max_height": null,
            "max_width": null,
            "min_height": null,
            "min_width": null,
            "object_fit": null,
            "object_position": null,
            "order": null,
            "overflow": null,
            "overflow_x": null,
            "overflow_y": null,
            "padding": null,
            "right": null,
            "top": null,
            "visibility": null,
            "width": null
          }
        },
        "279d7d826704451289722f8d40b9f657": {
          "model_module": "@jupyter-widgets/controls",
          "model_name": "DescriptionStyleModel",
          "model_module_version": "1.5.0",
          "state": {
            "_model_module": "@jupyter-widgets/controls",
            "_model_module_version": "1.5.0",
            "_model_name": "DescriptionStyleModel",
            "_view_count": null,
            "_view_module": "@jupyter-widgets/base",
            "_view_module_version": "1.2.0",
            "_view_name": "StyleView",
            "description_width": ""
          }
        },
        "8cfe68d6e5044c218dee2701ed0061a1": {
          "model_module": "@jupyter-widgets/controls",
          "model_name": "HBoxModel",
          "model_module_version": "1.5.0",
          "state": {
            "_dom_classes": [],
            "_model_module": "@jupyter-widgets/controls",
            "_model_module_version": "1.5.0",
            "_model_name": "HBoxModel",
            "_view_count": null,
            "_view_module": "@jupyter-widgets/controls",
            "_view_module_version": "1.5.0",
            "_view_name": "HBoxView",
            "box_style": "",
            "children": [
              "IPY_MODEL_0c2731084f8743eeb98e6dd3a8ce2828",
              "IPY_MODEL_64c4e569dd7c42bab331e07118aee7dd",
              "IPY_MODEL_2d1e03ae6cdc4383a5a9f48c9239c30b"
            ],
            "layout": "IPY_MODEL_61ba0df087934f57b85470d167da7edb"
          }
        },
        "0c2731084f8743eeb98e6dd3a8ce2828": {
          "model_module": "@jupyter-widgets/controls",
          "model_name": "HTMLModel",
          "model_module_version": "1.5.0",
          "state": {
            "_dom_classes": [],
            "_model_module": "@jupyter-widgets/controls",
            "_model_module_version": "1.5.0",
            "_model_name": "HTMLModel",
            "_view_count": null,
            "_view_module": "@jupyter-widgets/controls",
            "_view_module_version": "1.5.0",
            "_view_name": "HTMLView",
            "description": "",
            "description_tooltip": null,
            "layout": "IPY_MODEL_ca17f0187ef14a43b1a770247b704ebb",
            "placeholder": "​",
            "style": "IPY_MODEL_a7c095e5fb6a49dfb5d809a928b79098",
            "value": "Downloading data: 100%"
          }
        },
        "64c4e569dd7c42bab331e07118aee7dd": {
          "model_module": "@jupyter-widgets/controls",
          "model_name": "FloatProgressModel",
          "model_module_version": "1.5.0",
          "state": {
            "_dom_classes": [],
            "_model_module": "@jupyter-widgets/controls",
            "_model_module_version": "1.5.0",
            "_model_name": "FloatProgressModel",
            "_view_count": null,
            "_view_module": "@jupyter-widgets/controls",
            "_view_module_version": "1.5.0",
            "_view_name": "ProgressView",
            "bar_style": "success",
            "description": "",
            "description_tooltip": null,
            "layout": "IPY_MODEL_148a5232b49d4486aa6f40e4728aea55",
            "max": 158851162,
            "min": 0,
            "orientation": "horizontal",
            "style": "IPY_MODEL_b2c44e6b31be4f25a79dd1eb70d7a6db",
            "value": 158851162
          }
        },
        "2d1e03ae6cdc4383a5a9f48c9239c30b": {
          "model_module": "@jupyter-widgets/controls",
          "model_name": "HTMLModel",
          "model_module_version": "1.5.0",
          "state": {
            "_dom_classes": [],
            "_model_module": "@jupyter-widgets/controls",
            "_model_module_version": "1.5.0",
            "_model_name": "HTMLModel",
            "_view_count": null,
            "_view_module": "@jupyter-widgets/controls",
            "_view_module_version": "1.5.0",
            "_view_name": "HTMLView",
            "description": "",
            "description_tooltip": null,
            "layout": "IPY_MODEL_04c6122fe48d486bbf4fd20b80d77535",
            "placeholder": "​",
            "style": "IPY_MODEL_dc556cafffaa420d8b0c730e1055eee2",
            "value": " 159M/159M [00:06&lt;00:00, 27.2MB/s]"
          }
        },
        "61ba0df087934f57b85470d167da7edb": {
          "model_module": "@jupyter-widgets/base",
          "model_name": "LayoutModel",
          "model_module_version": "1.2.0",
          "state": {
            "_model_module": "@jupyter-widgets/base",
            "_model_module_version": "1.2.0",
            "_model_name": "LayoutModel",
            "_view_count": null,
            "_view_module": "@jupyter-widgets/base",
            "_view_module_version": "1.2.0",
            "_view_name": "LayoutView",
            "align_content": null,
            "align_items": null,
            "align_self": null,
            "border": null,
            "bottom": null,
            "display": null,
            "flex": null,
            "flex_flow": null,
            "grid_area": null,
            "grid_auto_columns": null,
            "grid_auto_flow": null,
            "grid_auto_rows": null,
            "grid_column": null,
            "grid_gap": null,
            "grid_row": null,
            "grid_template_areas": null,
            "grid_template_columns": null,
            "grid_template_rows": null,
            "height": null,
            "justify_content": null,
            "justify_items": null,
            "left": null,
            "margin": null,
            "max_height": null,
            "max_width": null,
            "min_height": null,
            "min_width": null,
            "object_fit": null,
            "object_position": null,
            "order": null,
            "overflow": null,
            "overflow_x": null,
            "overflow_y": null,
            "padding": null,
            "right": null,
            "top": null,
            "visibility": null,
            "width": null
          }
        },
        "ca17f0187ef14a43b1a770247b704ebb": {
          "model_module": "@jupyter-widgets/base",
          "model_name": "LayoutModel",
          "model_module_version": "1.2.0",
          "state": {
            "_model_module": "@jupyter-widgets/base",
            "_model_module_version": "1.2.0",
            "_model_name": "LayoutModel",
            "_view_count": null,
            "_view_module": "@jupyter-widgets/base",
            "_view_module_version": "1.2.0",
            "_view_name": "LayoutView",
            "align_content": null,
            "align_items": null,
            "align_self": null,
            "border": null,
            "bottom": null,
            "display": null,
            "flex": null,
            "flex_flow": null,
            "grid_area": null,
            "grid_auto_columns": null,
            "grid_auto_flow": null,
            "grid_auto_rows": null,
            "grid_column": null,
            "grid_gap": null,
            "grid_row": null,
            "grid_template_areas": null,
            "grid_template_columns": null,
            "grid_template_rows": null,
            "height": null,
            "justify_content": null,
            "justify_items": null,
            "left": null,
            "margin": null,
            "max_height": null,
            "max_width": null,
            "min_height": null,
            "min_width": null,
            "object_fit": null,
            "object_position": null,
            "order": null,
            "overflow": null,
            "overflow_x": null,
            "overflow_y": null,
            "padding": null,
            "right": null,
            "top": null,
            "visibility": null,
            "width": null
          }
        },
        "a7c095e5fb6a49dfb5d809a928b79098": {
          "model_module": "@jupyter-widgets/controls",
          "model_name": "DescriptionStyleModel",
          "model_module_version": "1.5.0",
          "state": {
            "_model_module": "@jupyter-widgets/controls",
            "_model_module_version": "1.5.0",
            "_model_name": "DescriptionStyleModel",
            "_view_count": null,
            "_view_module": "@jupyter-widgets/base",
            "_view_module_version": "1.2.0",
            "_view_name": "StyleView",
            "description_width": ""
          }
        },
        "148a5232b49d4486aa6f40e4728aea55": {
          "model_module": "@jupyter-widgets/base",
          "model_name": "LayoutModel",
          "model_module_version": "1.2.0",
          "state": {
            "_model_module": "@jupyter-widgets/base",
            "_model_module_version": "1.2.0",
            "_model_name": "LayoutModel",
            "_view_count": null,
            "_view_module": "@jupyter-widgets/base",
            "_view_module_version": "1.2.0",
            "_view_name": "LayoutView",
            "align_content": null,
            "align_items": null,
            "align_self": null,
            "border": null,
            "bottom": null,
            "display": null,
            "flex": null,
            "flex_flow": null,
            "grid_area": null,
            "grid_auto_columns": null,
            "grid_auto_flow": null,
            "grid_auto_rows": null,
            "grid_column": null,
            "grid_gap": null,
            "grid_row": null,
            "grid_template_areas": null,
            "grid_template_columns": null,
            "grid_template_rows": null,
            "height": null,
            "justify_content": null,
            "justify_items": null,
            "left": null,
            "margin": null,
            "max_height": null,
            "max_width": null,
            "min_height": null,
            "min_width": null,
            "object_fit": null,
            "object_position": null,
            "order": null,
            "overflow": null,
            "overflow_x": null,
            "overflow_y": null,
            "padding": null,
            "right": null,
            "top": null,
            "visibility": null,
            "width": null
          }
        },
        "b2c44e6b31be4f25a79dd1eb70d7a6db": {
          "model_module": "@jupyter-widgets/controls",
          "model_name": "ProgressStyleModel",
          "model_module_version": "1.5.0",
          "state": {
            "_model_module": "@jupyter-widgets/controls",
            "_model_module_version": "1.5.0",
            "_model_name": "ProgressStyleModel",
            "_view_count": null,
            "_view_module": "@jupyter-widgets/base",
            "_view_module_version": "1.2.0",
            "_view_name": "StyleView",
            "bar_color": null,
            "description_width": ""
          }
        },
        "04c6122fe48d486bbf4fd20b80d77535": {
          "model_module": "@jupyter-widgets/base",
          "model_name": "LayoutModel",
          "model_module_version": "1.2.0",
          "state": {
            "_model_module": "@jupyter-widgets/base",
            "_model_module_version": "1.2.0",
            "_model_name": "LayoutModel",
            "_view_count": null,
            "_view_module": "@jupyter-widgets/base",
            "_view_module_version": "1.2.0",
            "_view_name": "LayoutView",
            "align_content": null,
            "align_items": null,
            "align_self": null,
            "border": null,
            "bottom": null,
            "display": null,
            "flex": null,
            "flex_flow": null,
            "grid_area": null,
            "grid_auto_columns": null,
            "grid_auto_flow": null,
            "grid_auto_rows": null,
            "grid_column": null,
            "grid_gap": null,
            "grid_row": null,
            "grid_template_areas": null,
            "grid_template_columns": null,
            "grid_template_rows": null,
            "height": null,
            "justify_content": null,
            "justify_items": null,
            "left": null,
            "margin": null,
            "max_height": null,
            "max_width": null,
            "min_height": null,
            "min_width": null,
            "object_fit": null,
            "object_position": null,
            "order": null,
            "overflow": null,
            "overflow_x": null,
            "overflow_y": null,
            "padding": null,
            "right": null,
            "top": null,
            "visibility": null,
            "width": null
          }
        },
        "dc556cafffaa420d8b0c730e1055eee2": {
          "model_module": "@jupyter-widgets/controls",
          "model_name": "DescriptionStyleModel",
          "model_module_version": "1.5.0",
          "state": {
            "_model_module": "@jupyter-widgets/controls",
            "_model_module_version": "1.5.0",
            "_model_name": "DescriptionStyleModel",
            "_view_count": null,
            "_view_module": "@jupyter-widgets/base",
            "_view_module_version": "1.2.0",
            "_view_name": "StyleView",
            "description_width": ""
          }
        },
        "2d9270de7e384379bcdddb8dde02382f": {
          "model_module": "@jupyter-widgets/controls",
          "model_name": "HBoxModel",
          "model_module_version": "1.5.0",
          "state": {
            "_dom_classes": [],
            "_model_module": "@jupyter-widgets/controls",
            "_model_module_version": "1.5.0",
            "_model_name": "HBoxModel",
            "_view_count": null,
            "_view_module": "@jupyter-widgets/controls",
            "_view_module_version": "1.5.0",
            "_view_name": "HBoxView",
            "box_style": "",
            "children": [
              "IPY_MODEL_bffc0e679b8141abbe67ad0767cb412a",
              "IPY_MODEL_9c8226b0e1504b988e68499d05d9ef72",
              "IPY_MODEL_bd661b5568714e1cbd62b100c153b011"
            ],
            "layout": "IPY_MODEL_59be81b035784014810c88890598748e"
          }
        },
        "bffc0e679b8141abbe67ad0767cb412a": {
          "model_module": "@jupyter-widgets/controls",
          "model_name": "HTMLModel",
          "model_module_version": "1.5.0",
          "state": {
            "_dom_classes": [],
            "_model_module": "@jupyter-widgets/controls",
            "_model_module_version": "1.5.0",
            "_model_name": "HTMLModel",
            "_view_count": null,
            "_view_module": "@jupyter-widgets/controls",
            "_view_module_version": "1.5.0",
            "_view_name": "HTMLView",
            "description": "",
            "description_tooltip": null,
            "layout": "IPY_MODEL_7a2a60e215664361a98248dcbcd03a90",
            "placeholder": "​",
            "style": "IPY_MODEL_85564bdadc6749b49fc01be4a053092c",
            "value": "Generating train split: "
          }
        },
        "9c8226b0e1504b988e68499d05d9ef72": {
          "model_module": "@jupyter-widgets/controls",
          "model_name": "FloatProgressModel",
          "model_module_version": "1.5.0",
          "state": {
            "_dom_classes": [],
            "_model_module": "@jupyter-widgets/controls",
            "_model_module_version": "1.5.0",
            "_model_name": "FloatProgressModel",
            "_view_count": null,
            "_view_module": "@jupyter-widgets/controls",
            "_view_module_version": "1.5.0",
            "_view_name": "ProgressView",
            "bar_style": "success",
            "description": "",
            "description_tooltip": null,
            "layout": "IPY_MODEL_0d1c361b7bfc402f8fe721c07167b246",
            "max": 1,
            "min": 0,
            "orientation": "horizontal",
            "style": "IPY_MODEL_b885c1674a834a209cda88c7a5f7e284",
            "value": 1
          }
        },
        "bd661b5568714e1cbd62b100c153b011": {
          "model_module": "@jupyter-widgets/controls",
          "model_name": "HTMLModel",
          "model_module_version": "1.5.0",
          "state": {
            "_dom_classes": [],
            "_model_module": "@jupyter-widgets/controls",
            "_model_module_version": "1.5.0",
            "_model_name": "HTMLModel",
            "_view_count": null,
            "_view_module": "@jupyter-widgets/controls",
            "_view_module_version": "1.5.0",
            "_view_name": "HTMLView",
            "description": "",
            "description_tooltip": null,
            "layout": "IPY_MODEL_df85b6d435fe4255b0206468235ad77b",
            "placeholder": "​",
            "style": "IPY_MODEL_ee5b5c0c87de46c79c5ad234aa1d9c77",
            "value": " 11478/0 [00:04&lt;00:00, 2341.11 examples/s]"
          }
        },
        "59be81b035784014810c88890598748e": {
          "model_module": "@jupyter-widgets/base",
          "model_name": "LayoutModel",
          "model_module_version": "1.2.0",
          "state": {
            "_model_module": "@jupyter-widgets/base",
            "_model_module_version": "1.2.0",
            "_model_name": "LayoutModel",
            "_view_count": null,
            "_view_module": "@jupyter-widgets/base",
            "_view_module_version": "1.2.0",
            "_view_name": "LayoutView",
            "align_content": null,
            "align_items": null,
            "align_self": null,
            "border": null,
            "bottom": null,
            "display": null,
            "flex": null,
            "flex_flow": null,
            "grid_area": null,
            "grid_auto_columns": null,
            "grid_auto_flow": null,
            "grid_auto_rows": null,
            "grid_column": null,
            "grid_gap": null,
            "grid_row": null,
            "grid_template_areas": null,
            "grid_template_columns": null,
            "grid_template_rows": null,
            "height": null,
            "justify_content": null,
            "justify_items": null,
            "left": null,
            "margin": null,
            "max_height": null,
            "max_width": null,
            "min_height": null,
            "min_width": null,
            "object_fit": null,
            "object_position": null,
            "order": null,
            "overflow": null,
            "overflow_x": null,
            "overflow_y": null,
            "padding": null,
            "right": null,
            "top": null,
            "visibility": null,
            "width": null
          }
        },
        "7a2a60e215664361a98248dcbcd03a90": {
          "model_module": "@jupyter-widgets/base",
          "model_name": "LayoutModel",
          "model_module_version": "1.2.0",
          "state": {
            "_model_module": "@jupyter-widgets/base",
            "_model_module_version": "1.2.0",
            "_model_name": "LayoutModel",
            "_view_count": null,
            "_view_module": "@jupyter-widgets/base",
            "_view_module_version": "1.2.0",
            "_view_name": "LayoutView",
            "align_content": null,
            "align_items": null,
            "align_self": null,
            "border": null,
            "bottom": null,
            "display": null,
            "flex": null,
            "flex_flow": null,
            "grid_area": null,
            "grid_auto_columns": null,
            "grid_auto_flow": null,
            "grid_auto_rows": null,
            "grid_column": null,
            "grid_gap": null,
            "grid_row": null,
            "grid_template_areas": null,
            "grid_template_columns": null,
            "grid_template_rows": null,
            "height": null,
            "justify_content": null,
            "justify_items": null,
            "left": null,
            "margin": null,
            "max_height": null,
            "max_width": null,
            "min_height": null,
            "min_width": null,
            "object_fit": null,
            "object_position": null,
            "order": null,
            "overflow": null,
            "overflow_x": null,
            "overflow_y": null,
            "padding": null,
            "right": null,
            "top": null,
            "visibility": null,
            "width": null
          }
        },
        "85564bdadc6749b49fc01be4a053092c": {
          "model_module": "@jupyter-widgets/controls",
          "model_name": "DescriptionStyleModel",
          "model_module_version": "1.5.0",
          "state": {
            "_model_module": "@jupyter-widgets/controls",
            "_model_module_version": "1.5.0",
            "_model_name": "DescriptionStyleModel",
            "_view_count": null,
            "_view_module": "@jupyter-widgets/base",
            "_view_module_version": "1.2.0",
            "_view_name": "StyleView",
            "description_width": ""
          }
        },
        "0d1c361b7bfc402f8fe721c07167b246": {
          "model_module": "@jupyter-widgets/base",
          "model_name": "LayoutModel",
          "model_module_version": "1.2.0",
          "state": {
            "_model_module": "@jupyter-widgets/base",
            "_model_module_version": "1.2.0",
            "_model_name": "LayoutModel",
            "_view_count": null,
            "_view_module": "@jupyter-widgets/base",
            "_view_module_version": "1.2.0",
            "_view_name": "LayoutView",
            "align_content": null,
            "align_items": null,
            "align_self": null,
            "border": null,
            "bottom": null,
            "display": null,
            "flex": null,
            "flex_flow": null,
            "grid_area": null,
            "grid_auto_columns": null,
            "grid_auto_flow": null,
            "grid_auto_rows": null,
            "grid_column": null,
            "grid_gap": null,
            "grid_row": null,
            "grid_template_areas": null,
            "grid_template_columns": null,
            "grid_template_rows": null,
            "height": null,
            "justify_content": null,
            "justify_items": null,
            "left": null,
            "margin": null,
            "max_height": null,
            "max_width": null,
            "min_height": null,
            "min_width": null,
            "object_fit": null,
            "object_position": null,
            "order": null,
            "overflow": null,
            "overflow_x": null,
            "overflow_y": null,
            "padding": null,
            "right": null,
            "top": null,
            "visibility": null,
            "width": "20px"
          }
        },
        "b885c1674a834a209cda88c7a5f7e284": {
          "model_module": "@jupyter-widgets/controls",
          "model_name": "ProgressStyleModel",
          "model_module_version": "1.5.0",
          "state": {
            "_model_module": "@jupyter-widgets/controls",
            "_model_module_version": "1.5.0",
            "_model_name": "ProgressStyleModel",
            "_view_count": null,
            "_view_module": "@jupyter-widgets/base",
            "_view_module_version": "1.2.0",
            "_view_name": "StyleView",
            "bar_color": null,
            "description_width": ""
          }
        },
        "df85b6d435fe4255b0206468235ad77b": {
          "model_module": "@jupyter-widgets/base",
          "model_name": "LayoutModel",
          "model_module_version": "1.2.0",
          "state": {
            "_model_module": "@jupyter-widgets/base",
            "_model_module_version": "1.2.0",
            "_model_name": "LayoutModel",
            "_view_count": null,
            "_view_module": "@jupyter-widgets/base",
            "_view_module_version": "1.2.0",
            "_view_name": "LayoutView",
            "align_content": null,
            "align_items": null,
            "align_self": null,
            "border": null,
            "bottom": null,
            "display": null,
            "flex": null,
            "flex_flow": null,
            "grid_area": null,
            "grid_auto_columns": null,
            "grid_auto_flow": null,
            "grid_auto_rows": null,
            "grid_column": null,
            "grid_gap": null,
            "grid_row": null,
            "grid_template_areas": null,
            "grid_template_columns": null,
            "grid_template_rows": null,
            "height": null,
            "justify_content": null,
            "justify_items": null,
            "left": null,
            "margin": null,
            "max_height": null,
            "max_width": null,
            "min_height": null,
            "min_width": null,
            "object_fit": null,
            "object_position": null,
            "order": null,
            "overflow": null,
            "overflow_x": null,
            "overflow_y": null,
            "padding": null,
            "right": null,
            "top": null,
            "visibility": null,
            "width": null
          }
        },
        "ee5b5c0c87de46c79c5ad234aa1d9c77": {
          "model_module": "@jupyter-widgets/controls",
          "model_name": "DescriptionStyleModel",
          "model_module_version": "1.5.0",
          "state": {
            "_model_module": "@jupyter-widgets/controls",
            "_model_module_version": "1.5.0",
            "_model_name": "DescriptionStyleModel",
            "_view_count": null,
            "_view_module": "@jupyter-widgets/base",
            "_view_module_version": "1.2.0",
            "_view_name": "StyleView",
            "description_width": ""
          }
        },
        "98cefe2254874f6188ff04206acda63d": {
          "model_module": "@jupyter-widgets/controls",
          "model_name": "HBoxModel",
          "model_module_version": "1.5.0",
          "state": {
            "_dom_classes": [],
            "_model_module": "@jupyter-widgets/controls",
            "_model_module_version": "1.5.0",
            "_model_name": "HBoxModel",
            "_view_count": null,
            "_view_module": "@jupyter-widgets/controls",
            "_view_module_version": "1.5.0",
            "_view_name": "HBoxView",
            "box_style": "",
            "children": [
              "IPY_MODEL_3948cafad07a42259f4abc56f21f71b7",
              "IPY_MODEL_2c125da9c7c84e659d73c17fb85259dc",
              "IPY_MODEL_4d4ee5a5b1e842f4b8a06036e4533d6d"
            ],
            "layout": "IPY_MODEL_e5c1fa9f692a4d74b605b86ea33129f9"
          }
        },
        "3948cafad07a42259f4abc56f21f71b7": {
          "model_module": "@jupyter-widgets/controls",
          "model_name": "HTMLModel",
          "model_module_version": "1.5.0",
          "state": {
            "_dom_classes": [],
            "_model_module": "@jupyter-widgets/controls",
            "_model_module_version": "1.5.0",
            "_model_name": "HTMLModel",
            "_view_count": null,
            "_view_module": "@jupyter-widgets/controls",
            "_view_module_version": "1.5.0",
            "_view_name": "HTMLView",
            "description": "",
            "description_tooltip": null,
            "layout": "IPY_MODEL_daab614e09ba4186844a860f79302518",
            "placeholder": "​",
            "style": "IPY_MODEL_351cc4dfe4a84be598f85ca82de29f73",
            "value": "config.json: 100%"
          }
        },
        "2c125da9c7c84e659d73c17fb85259dc": {
          "model_module": "@jupyter-widgets/controls",
          "model_name": "FloatProgressModel",
          "model_module_version": "1.5.0",
          "state": {
            "_dom_classes": [],
            "_model_module": "@jupyter-widgets/controls",
            "_model_module_version": "1.5.0",
            "_model_name": "FloatProgressModel",
            "_view_count": null,
            "_view_module": "@jupyter-widgets/controls",
            "_view_module_version": "1.5.0",
            "_view_name": "ProgressView",
            "bar_style": "success",
            "description": "",
            "description_tooltip": null,
            "layout": "IPY_MODEL_56f0787c904642eea4c7fccc525f29f3",
            "max": 1007,
            "min": 0,
            "orientation": "horizontal",
            "style": "IPY_MODEL_4b756ad2fc0a4f42a9834549ab0023c4",
            "value": 1007
          }
        },
        "4d4ee5a5b1e842f4b8a06036e4533d6d": {
          "model_module": "@jupyter-widgets/controls",
          "model_name": "HTMLModel",
          "model_module_version": "1.5.0",
          "state": {
            "_dom_classes": [],
            "_model_module": "@jupyter-widgets/controls",
            "_model_module_version": "1.5.0",
            "_model_name": "HTMLModel",
            "_view_count": null,
            "_view_module": "@jupyter-widgets/controls",
            "_view_module_version": "1.5.0",
            "_view_name": "HTMLView",
            "description": "",
            "description_tooltip": null,
            "layout": "IPY_MODEL_f27d9a1585cb4f31a03f0b0523871827",
            "placeholder": "​",
            "style": "IPY_MODEL_4c7ef99e95564883bf464ae5f87d661b",
            "value": " 1.01k/1.01k [00:00&lt;00:00, 24.6kB/s]"
          }
        },
        "e5c1fa9f692a4d74b605b86ea33129f9": {
          "model_module": "@jupyter-widgets/base",
          "model_name": "LayoutModel",
          "model_module_version": "1.2.0",
          "state": {
            "_model_module": "@jupyter-widgets/base",
            "_model_module_version": "1.2.0",
            "_model_name": "LayoutModel",
            "_view_count": null,
            "_view_module": "@jupyter-widgets/base",
            "_view_module_version": "1.2.0",
            "_view_name": "LayoutView",
            "align_content": null,
            "align_items": null,
            "align_self": null,
            "border": null,
            "bottom": null,
            "display": null,
            "flex": null,
            "flex_flow": null,
            "grid_area": null,
            "grid_auto_columns": null,
            "grid_auto_flow": null,
            "grid_auto_rows": null,
            "grid_column": null,
            "grid_gap": null,
            "grid_row": null,
            "grid_template_areas": null,
            "grid_template_columns": null,
            "grid_template_rows": null,
            "height": null,
            "justify_content": null,
            "justify_items": null,
            "left": null,
            "margin": null,
            "max_height": null,
            "max_width": null,
            "min_height": null,
            "min_width": null,
            "object_fit": null,
            "object_position": null,
            "order": null,
            "overflow": null,
            "overflow_x": null,
            "overflow_y": null,
            "padding": null,
            "right": null,
            "top": null,
            "visibility": null,
            "width": null
          }
        },
        "daab614e09ba4186844a860f79302518": {
          "model_module": "@jupyter-widgets/base",
          "model_name": "LayoutModel",
          "model_module_version": "1.2.0",
          "state": {
            "_model_module": "@jupyter-widgets/base",
            "_model_module_version": "1.2.0",
            "_model_name": "LayoutModel",
            "_view_count": null,
            "_view_module": "@jupyter-widgets/base",
            "_view_module_version": "1.2.0",
            "_view_name": "LayoutView",
            "align_content": null,
            "align_items": null,
            "align_self": null,
            "border": null,
            "bottom": null,
            "display": null,
            "flex": null,
            "flex_flow": null,
            "grid_area": null,
            "grid_auto_columns": null,
            "grid_auto_flow": null,
            "grid_auto_rows": null,
            "grid_column": null,
            "grid_gap": null,
            "grid_row": null,
            "grid_template_areas": null,
            "grid_template_columns": null,
            "grid_template_rows": null,
            "height": null,
            "justify_content": null,
            "justify_items": null,
            "left": null,
            "margin": null,
            "max_height": null,
            "max_width": null,
            "min_height": null,
            "min_width": null,
            "object_fit": null,
            "object_position": null,
            "order": null,
            "overflow": null,
            "overflow_x": null,
            "overflow_y": null,
            "padding": null,
            "right": null,
            "top": null,
            "visibility": null,
            "width": null
          }
        },
        "351cc4dfe4a84be598f85ca82de29f73": {
          "model_module": "@jupyter-widgets/controls",
          "model_name": "DescriptionStyleModel",
          "model_module_version": "1.5.0",
          "state": {
            "_model_module": "@jupyter-widgets/controls",
            "_model_module_version": "1.5.0",
            "_model_name": "DescriptionStyleModel",
            "_view_count": null,
            "_view_module": "@jupyter-widgets/base",
            "_view_module_version": "1.2.0",
            "_view_name": "StyleView",
            "description_width": ""
          }
        },
        "56f0787c904642eea4c7fccc525f29f3": {
          "model_module": "@jupyter-widgets/base",
          "model_name": "LayoutModel",
          "model_module_version": "1.2.0",
          "state": {
            "_model_module": "@jupyter-widgets/base",
            "_model_module_version": "1.2.0",
            "_model_name": "LayoutModel",
            "_view_count": null,
            "_view_module": "@jupyter-widgets/base",
            "_view_module_version": "1.2.0",
            "_view_name": "LayoutView",
            "align_content": null,
            "align_items": null,
            "align_self": null,
            "border": null,
            "bottom": null,
            "display": null,
            "flex": null,
            "flex_flow": null,
            "grid_area": null,
            "grid_auto_columns": null,
            "grid_auto_flow": null,
            "grid_auto_rows": null,
            "grid_column": null,
            "grid_gap": null,
            "grid_row": null,
            "grid_template_areas": null,
            "grid_template_columns": null,
            "grid_template_rows": null,
            "height": null,
            "justify_content": null,
            "justify_items": null,
            "left": null,
            "margin": null,
            "max_height": null,
            "max_width": null,
            "min_height": null,
            "min_width": null,
            "object_fit": null,
            "object_position": null,
            "order": null,
            "overflow": null,
            "overflow_x": null,
            "overflow_y": null,
            "padding": null,
            "right": null,
            "top": null,
            "visibility": null,
            "width": null
          }
        },
        "4b756ad2fc0a4f42a9834549ab0023c4": {
          "model_module": "@jupyter-widgets/controls",
          "model_name": "ProgressStyleModel",
          "model_module_version": "1.5.0",
          "state": {
            "_model_module": "@jupyter-widgets/controls",
            "_model_module_version": "1.5.0",
            "_model_name": "ProgressStyleModel",
            "_view_count": null,
            "_view_module": "@jupyter-widgets/base",
            "_view_module_version": "1.2.0",
            "_view_name": "StyleView",
            "bar_color": null,
            "description_width": ""
          }
        },
        "f27d9a1585cb4f31a03f0b0523871827": {
          "model_module": "@jupyter-widgets/base",
          "model_name": "LayoutModel",
          "model_module_version": "1.2.0",
          "state": {
            "_model_module": "@jupyter-widgets/base",
            "_model_module_version": "1.2.0",
            "_model_name": "LayoutModel",
            "_view_count": null,
            "_view_module": "@jupyter-widgets/base",
            "_view_module_version": "1.2.0",
            "_view_name": "LayoutView",
            "align_content": null,
            "align_items": null,
            "align_self": null,
            "border": null,
            "bottom": null,
            "display": null,
            "flex": null,
            "flex_flow": null,
            "grid_area": null,
            "grid_auto_columns": null,
            "grid_auto_flow": null,
            "grid_auto_rows": null,
            "grid_column": null,
            "grid_gap": null,
            "grid_row": null,
            "grid_template_areas": null,
            "grid_template_columns": null,
            "grid_template_rows": null,
            "height": null,
            "justify_content": null,
            "justify_items": null,
            "left": null,
            "margin": null,
            "max_height": null,
            "max_width": null,
            "min_height": null,
            "min_width": null,
            "object_fit": null,
            "object_position": null,
            "order": null,
            "overflow": null,
            "overflow_x": null,
            "overflow_y": null,
            "padding": null,
            "right": null,
            "top": null,
            "visibility": null,
            "width": null
          }
        },
        "4c7ef99e95564883bf464ae5f87d661b": {
          "model_module": "@jupyter-widgets/controls",
          "model_name": "DescriptionStyleModel",
          "model_module_version": "1.5.0",
          "state": {
            "_model_module": "@jupyter-widgets/controls",
            "_model_module_version": "1.5.0",
            "_model_name": "DescriptionStyleModel",
            "_view_count": null,
            "_view_module": "@jupyter-widgets/base",
            "_view_module_version": "1.2.0",
            "_view_name": "StyleView",
            "description_width": ""
          }
        },
        "1bfc5fd406184ecfa960fca934f54384": {
          "model_module": "@jupyter-widgets/controls",
          "model_name": "HBoxModel",
          "model_module_version": "1.5.0",
          "state": {
            "_dom_classes": [],
            "_model_module": "@jupyter-widgets/controls",
            "_model_module_version": "1.5.0",
            "_model_name": "HBoxModel",
            "_view_count": null,
            "_view_module": "@jupyter-widgets/controls",
            "_view_module_version": "1.5.0",
            "_view_name": "HBoxView",
            "box_style": "",
            "children": [
              "IPY_MODEL_be094e8b2d2a4301bb8781475e1c164b",
              "IPY_MODEL_babcfffb35374ed18707ba78cf6ec360",
              "IPY_MODEL_9a430449e53c42ab942a5131a3154de1"
            ],
            "layout": "IPY_MODEL_65aa18ea0113407b9d9462fdaf5ba927"
          }
        },
        "be094e8b2d2a4301bb8781475e1c164b": {
          "model_module": "@jupyter-widgets/controls",
          "model_name": "HTMLModel",
          "model_module_version": "1.5.0",
          "state": {
            "_dom_classes": [],
            "_model_module": "@jupyter-widgets/controls",
            "_model_module_version": "1.5.0",
            "_model_name": "HTMLModel",
            "_view_count": null,
            "_view_module": "@jupyter-widgets/controls",
            "_view_module_version": "1.5.0",
            "_view_name": "HTMLView",
            "description": "",
            "description_tooltip": null,
            "layout": "IPY_MODEL_831d0e9a9c064aa699542d17053f28dc",
            "placeholder": "​",
            "style": "IPY_MODEL_2741143060794db18a64d8fd6794f28f",
            "value": "model.safetensors: 100%"
          }
        },
        "babcfffb35374ed18707ba78cf6ec360": {
          "model_module": "@jupyter-widgets/controls",
          "model_name": "FloatProgressModel",
          "model_module_version": "1.5.0",
          "state": {
            "_dom_classes": [],
            "_model_module": "@jupyter-widgets/controls",
            "_model_module_version": "1.5.0",
            "_model_name": "FloatProgressModel",
            "_view_count": null,
            "_view_module": "@jupyter-widgets/controls",
            "_view_module_version": "1.5.0",
            "_view_name": "ProgressView",
            "bar_style": "success",
            "description": "",
            "description_tooltip": null,
            "layout": "IPY_MODEL_0329c4d56be94234929e6d393a196d8f",
            "max": 525979192,
            "min": 0,
            "orientation": "horizontal",
            "style": "IPY_MODEL_58363d44c3ed4cfc935805515ec2de63",
            "value": 525979192
          }
        },
        "9a430449e53c42ab942a5131a3154de1": {
          "model_module": "@jupyter-widgets/controls",
          "model_name": "HTMLModel",
          "model_module_version": "1.5.0",
          "state": {
            "_dom_classes": [],
            "_model_module": "@jupyter-widgets/controls",
            "_model_module_version": "1.5.0",
            "_model_name": "HTMLModel",
            "_view_count": null,
            "_view_module": "@jupyter-widgets/controls",
            "_view_module_version": "1.5.0",
            "_view_name": "HTMLView",
            "description": "",
            "description_tooltip": null,
            "layout": "IPY_MODEL_ea029544088240eeb6036d8341770e1f",
            "placeholder": "​",
            "style": "IPY_MODEL_13948324cd2642199c94b2f653fd925f",
            "value": " 526M/526M [00:04&lt;00:00, 111MB/s]"
          }
        },
        "65aa18ea0113407b9d9462fdaf5ba927": {
          "model_module": "@jupyter-widgets/base",
          "model_name": "LayoutModel",
          "model_module_version": "1.2.0",
          "state": {
            "_model_module": "@jupyter-widgets/base",
            "_model_module_version": "1.2.0",
            "_model_name": "LayoutModel",
            "_view_count": null,
            "_view_module": "@jupyter-widgets/base",
            "_view_module_version": "1.2.0",
            "_view_name": "LayoutView",
            "align_content": null,
            "align_items": null,
            "align_self": null,
            "border": null,
            "bottom": null,
            "display": null,
            "flex": null,
            "flex_flow": null,
            "grid_area": null,
            "grid_auto_columns": null,
            "grid_auto_flow": null,
            "grid_auto_rows": null,
            "grid_column": null,
            "grid_gap": null,
            "grid_row": null,
            "grid_template_areas": null,
            "grid_template_columns": null,
            "grid_template_rows": null,
            "height": null,
            "justify_content": null,
            "justify_items": null,
            "left": null,
            "margin": null,
            "max_height": null,
            "max_width": null,
            "min_height": null,
            "min_width": null,
            "object_fit": null,
            "object_position": null,
            "order": null,
            "overflow": null,
            "overflow_x": null,
            "overflow_y": null,
            "padding": null,
            "right": null,
            "top": null,
            "visibility": null,
            "width": null
          }
        },
        "831d0e9a9c064aa699542d17053f28dc": {
          "model_module": "@jupyter-widgets/base",
          "model_name": "LayoutModel",
          "model_module_version": "1.2.0",
          "state": {
            "_model_module": "@jupyter-widgets/base",
            "_model_module_version": "1.2.0",
            "_model_name": "LayoutModel",
            "_view_count": null,
            "_view_module": "@jupyter-widgets/base",
            "_view_module_version": "1.2.0",
            "_view_name": "LayoutView",
            "align_content": null,
            "align_items": null,
            "align_self": null,
            "border": null,
            "bottom": null,
            "display": null,
            "flex": null,
            "flex_flow": null,
            "grid_area": null,
            "grid_auto_columns": null,
            "grid_auto_flow": null,
            "grid_auto_rows": null,
            "grid_column": null,
            "grid_gap": null,
            "grid_row": null,
            "grid_template_areas": null,
            "grid_template_columns": null,
            "grid_template_rows": null,
            "height": null,
            "justify_content": null,
            "justify_items": null,
            "left": null,
            "margin": null,
            "max_height": null,
            "max_width": null,
            "min_height": null,
            "min_width": null,
            "object_fit": null,
            "object_position": null,
            "order": null,
            "overflow": null,
            "overflow_x": null,
            "overflow_y": null,
            "padding": null,
            "right": null,
            "top": null,
            "visibility": null,
            "width": null
          }
        },
        "2741143060794db18a64d8fd6794f28f": {
          "model_module": "@jupyter-widgets/controls",
          "model_name": "DescriptionStyleModel",
          "model_module_version": "1.5.0",
          "state": {
            "_model_module": "@jupyter-widgets/controls",
            "_model_module_version": "1.5.0",
            "_model_name": "DescriptionStyleModel",
            "_view_count": null,
            "_view_module": "@jupyter-widgets/base",
            "_view_module_version": "1.2.0",
            "_view_name": "StyleView",
            "description_width": ""
          }
        },
        "0329c4d56be94234929e6d393a196d8f": {
          "model_module": "@jupyter-widgets/base",
          "model_name": "LayoutModel",
          "model_module_version": "1.2.0",
          "state": {
            "_model_module": "@jupyter-widgets/base",
            "_model_module_version": "1.2.0",
            "_model_name": "LayoutModel",
            "_view_count": null,
            "_view_module": "@jupyter-widgets/base",
            "_view_module_version": "1.2.0",
            "_view_name": "LayoutView",
            "align_content": null,
            "align_items": null,
            "align_self": null,
            "border": null,
            "bottom": null,
            "display": null,
            "flex": null,
            "flex_flow": null,
            "grid_area": null,
            "grid_auto_columns": null,
            "grid_auto_flow": null,
            "grid_auto_rows": null,
            "grid_column": null,
            "grid_gap": null,
            "grid_row": null,
            "grid_template_areas": null,
            "grid_template_columns": null,
            "grid_template_rows": null,
            "height": null,
            "justify_content": null,
            "justify_items": null,
            "left": null,
            "margin": null,
            "max_height": null,
            "max_width": null,
            "min_height": null,
            "min_width": null,
            "object_fit": null,
            "object_position": null,
            "order": null,
            "overflow": null,
            "overflow_x": null,
            "overflow_y": null,
            "padding": null,
            "right": null,
            "top": null,
            "visibility": null,
            "width": null
          }
        },
        "58363d44c3ed4cfc935805515ec2de63": {
          "model_module": "@jupyter-widgets/controls",
          "model_name": "ProgressStyleModel",
          "model_module_version": "1.5.0",
          "state": {
            "_model_module": "@jupyter-widgets/controls",
            "_model_module_version": "1.5.0",
            "_model_name": "ProgressStyleModel",
            "_view_count": null,
            "_view_module": "@jupyter-widgets/base",
            "_view_module_version": "1.2.0",
            "_view_name": "StyleView",
            "bar_color": null,
            "description_width": ""
          }
        },
        "ea029544088240eeb6036d8341770e1f": {
          "model_module": "@jupyter-widgets/base",
          "model_name": "LayoutModel",
          "model_module_version": "1.2.0",
          "state": {
            "_model_module": "@jupyter-widgets/base",
            "_model_module_version": "1.2.0",
            "_model_name": "LayoutModel",
            "_view_count": null,
            "_view_module": "@jupyter-widgets/base",
            "_view_module_version": "1.2.0",
            "_view_name": "LayoutView",
            "align_content": null,
            "align_items": null,
            "align_self": null,
            "border": null,
            "bottom": null,
            "display": null,
            "flex": null,
            "flex_flow": null,
            "grid_area": null,
            "grid_auto_columns": null,
            "grid_auto_flow": null,
            "grid_auto_rows": null,
            "grid_column": null,
            "grid_gap": null,
            "grid_row": null,
            "grid_template_areas": null,
            "grid_template_columns": null,
            "grid_template_rows": null,
            "height": null,
            "justify_content": null,
            "justify_items": null,
            "left": null,
            "margin": null,
            "max_height": null,
            "max_width": null,
            "min_height": null,
            "min_width": null,
            "object_fit": null,
            "object_position": null,
            "order": null,
            "overflow": null,
            "overflow_x": null,
            "overflow_y": null,
            "padding": null,
            "right": null,
            "top": null,
            "visibility": null,
            "width": null
          }
        },
        "13948324cd2642199c94b2f653fd925f": {
          "model_module": "@jupyter-widgets/controls",
          "model_name": "DescriptionStyleModel",
          "model_module_version": "1.5.0",
          "state": {
            "_model_module": "@jupyter-widgets/controls",
            "_model_module_version": "1.5.0",
            "_model_name": "DescriptionStyleModel",
            "_view_count": null,
            "_view_module": "@jupyter-widgets/base",
            "_view_module_version": "1.2.0",
            "_view_name": "StyleView",
            "description_width": ""
          }
        },
        "730a3e809a73467dacaf37ac319f004c": {
          "model_module": "@jupyter-widgets/controls",
          "model_name": "HBoxModel",
          "model_module_version": "1.5.0",
          "state": {
            "_dom_classes": [],
            "_model_module": "@jupyter-widgets/controls",
            "_model_module_version": "1.5.0",
            "_model_name": "HBoxModel",
            "_view_count": null,
            "_view_module": "@jupyter-widgets/controls",
            "_view_module_version": "1.5.0",
            "_view_name": "HBoxView",
            "box_style": "",
            "children": [
              "IPY_MODEL_9ed48c5e4fe446b89c5cbe5a4537689c",
              "IPY_MODEL_a57db8dc4924452898932b8bac68bb49",
              "IPY_MODEL_8e2be9a33bf84f61a220e2dbf6028ae5"
            ],
            "layout": "IPY_MODEL_f6abe8c264d948aaba0dc4e8c40baf7d"
          }
        },
        "9ed48c5e4fe446b89c5cbe5a4537689c": {
          "model_module": "@jupyter-widgets/controls",
          "model_name": "HTMLModel",
          "model_module_version": "1.5.0",
          "state": {
            "_dom_classes": [],
            "_model_module": "@jupyter-widgets/controls",
            "_model_module_version": "1.5.0",
            "_model_name": "HTMLModel",
            "_view_count": null,
            "_view_module": "@jupyter-widgets/controls",
            "_view_module_version": "1.5.0",
            "_view_name": "HTMLView",
            "description": "",
            "description_tooltip": null,
            "layout": "IPY_MODEL_1b948980eaa942a9bdc965d50c5a2f83",
            "placeholder": "​",
            "style": "IPY_MODEL_e9a535e1e1bc4d7c8d961e3eb501b735",
            "value": "tokenizer_config.json: 100%"
          }
        },
        "a57db8dc4924452898932b8bac68bb49": {
          "model_module": "@jupyter-widgets/controls",
          "model_name": "FloatProgressModel",
          "model_module_version": "1.5.0",
          "state": {
            "_dom_classes": [],
            "_model_module": "@jupyter-widgets/controls",
            "_model_module_version": "1.5.0",
            "_model_name": "FloatProgressModel",
            "_view_count": null,
            "_view_module": "@jupyter-widgets/controls",
            "_view_module_version": "1.5.0",
            "_view_name": "ProgressView",
            "bar_style": "success",
            "description": "",
            "description_tooltip": null,
            "layout": "IPY_MODEL_bf1426d705874c8f90181875dac37819",
            "max": 727,
            "min": 0,
            "orientation": "horizontal",
            "style": "IPY_MODEL_4927d5195fc942cd888d14b8093770c1",
            "value": 727
          }
        },
        "8e2be9a33bf84f61a220e2dbf6028ae5": {
          "model_module": "@jupyter-widgets/controls",
          "model_name": "HTMLModel",
          "model_module_version": "1.5.0",
          "state": {
            "_dom_classes": [],
            "_model_module": "@jupyter-widgets/controls",
            "_model_module_version": "1.5.0",
            "_model_name": "HTMLModel",
            "_view_count": null,
            "_view_module": "@jupyter-widgets/controls",
            "_view_module_version": "1.5.0",
            "_view_name": "HTMLView",
            "description": "",
            "description_tooltip": null,
            "layout": "IPY_MODEL_698170015dfb4cdf88812eecdd680485",
            "placeholder": "​",
            "style": "IPY_MODEL_f9b92c1fcbf14492829c6ced8234a48d",
            "value": " 727/727 [00:00&lt;00:00, 14.7kB/s]"
          }
        },
        "f6abe8c264d948aaba0dc4e8c40baf7d": {
          "model_module": "@jupyter-widgets/base",
          "model_name": "LayoutModel",
          "model_module_version": "1.2.0",
          "state": {
            "_model_module": "@jupyter-widgets/base",
            "_model_module_version": "1.2.0",
            "_model_name": "LayoutModel",
            "_view_count": null,
            "_view_module": "@jupyter-widgets/base",
            "_view_module_version": "1.2.0",
            "_view_name": "LayoutView",
            "align_content": null,
            "align_items": null,
            "align_self": null,
            "border": null,
            "bottom": null,
            "display": null,
            "flex": null,
            "flex_flow": null,
            "grid_area": null,
            "grid_auto_columns": null,
            "grid_auto_flow": null,
            "grid_auto_rows": null,
            "grid_column": null,
            "grid_gap": null,
            "grid_row": null,
            "grid_template_areas": null,
            "grid_template_columns": null,
            "grid_template_rows": null,
            "height": null,
            "justify_content": null,
            "justify_items": null,
            "left": null,
            "margin": null,
            "max_height": null,
            "max_width": null,
            "min_height": null,
            "min_width": null,
            "object_fit": null,
            "object_position": null,
            "order": null,
            "overflow": null,
            "overflow_x": null,
            "overflow_y": null,
            "padding": null,
            "right": null,
            "top": null,
            "visibility": null,
            "width": null
          }
        },
        "1b948980eaa942a9bdc965d50c5a2f83": {
          "model_module": "@jupyter-widgets/base",
          "model_name": "LayoutModel",
          "model_module_version": "1.2.0",
          "state": {
            "_model_module": "@jupyter-widgets/base",
            "_model_module_version": "1.2.0",
            "_model_name": "LayoutModel",
            "_view_count": null,
            "_view_module": "@jupyter-widgets/base",
            "_view_module_version": "1.2.0",
            "_view_name": "LayoutView",
            "align_content": null,
            "align_items": null,
            "align_self": null,
            "border": null,
            "bottom": null,
            "display": null,
            "flex": null,
            "flex_flow": null,
            "grid_area": null,
            "grid_auto_columns": null,
            "grid_auto_flow": null,
            "grid_auto_rows": null,
            "grid_column": null,
            "grid_gap": null,
            "grid_row": null,
            "grid_template_areas": null,
            "grid_template_columns": null,
            "grid_template_rows": null,
            "height": null,
            "justify_content": null,
            "justify_items": null,
            "left": null,
            "margin": null,
            "max_height": null,
            "max_width": null,
            "min_height": null,
            "min_width": null,
            "object_fit": null,
            "object_position": null,
            "order": null,
            "overflow": null,
            "overflow_x": null,
            "overflow_y": null,
            "padding": null,
            "right": null,
            "top": null,
            "visibility": null,
            "width": null
          }
        },
        "e9a535e1e1bc4d7c8d961e3eb501b735": {
          "model_module": "@jupyter-widgets/controls",
          "model_name": "DescriptionStyleModel",
          "model_module_version": "1.5.0",
          "state": {
            "_model_module": "@jupyter-widgets/controls",
            "_model_module_version": "1.5.0",
            "_model_name": "DescriptionStyleModel",
            "_view_count": null,
            "_view_module": "@jupyter-widgets/base",
            "_view_module_version": "1.2.0",
            "_view_name": "StyleView",
            "description_width": ""
          }
        },
        "bf1426d705874c8f90181875dac37819": {
          "model_module": "@jupyter-widgets/base",
          "model_name": "LayoutModel",
          "model_module_version": "1.2.0",
          "state": {
            "_model_module": "@jupyter-widgets/base",
            "_model_module_version": "1.2.0",
            "_model_name": "LayoutModel",
            "_view_count": null,
            "_view_module": "@jupyter-widgets/base",
            "_view_module_version": "1.2.0",
            "_view_name": "LayoutView",
            "align_content": null,
            "align_items": null,
            "align_self": null,
            "border": null,
            "bottom": null,
            "display": null,
            "flex": null,
            "flex_flow": null,
            "grid_area": null,
            "grid_auto_columns": null,
            "grid_auto_flow": null,
            "grid_auto_rows": null,
            "grid_column": null,
            "grid_gap": null,
            "grid_row": null,
            "grid_template_areas": null,
            "grid_template_columns": null,
            "grid_template_rows": null,
            "height": null,
            "justify_content": null,
            "justify_items": null,
            "left": null,
            "margin": null,
            "max_height": null,
            "max_width": null,
            "min_height": null,
            "min_width": null,
            "object_fit": null,
            "object_position": null,
            "order": null,
            "overflow": null,
            "overflow_x": null,
            "overflow_y": null,
            "padding": null,
            "right": null,
            "top": null,
            "visibility": null,
            "width": null
          }
        },
        "4927d5195fc942cd888d14b8093770c1": {
          "model_module": "@jupyter-widgets/controls",
          "model_name": "ProgressStyleModel",
          "model_module_version": "1.5.0",
          "state": {
            "_model_module": "@jupyter-widgets/controls",
            "_model_module_version": "1.5.0",
            "_model_name": "ProgressStyleModel",
            "_view_count": null,
            "_view_module": "@jupyter-widgets/base",
            "_view_module_version": "1.2.0",
            "_view_name": "StyleView",
            "bar_color": null,
            "description_width": ""
          }
        },
        "698170015dfb4cdf88812eecdd680485": {
          "model_module": "@jupyter-widgets/base",
          "model_name": "LayoutModel",
          "model_module_version": "1.2.0",
          "state": {
            "_model_module": "@jupyter-widgets/base",
            "_model_module_version": "1.2.0",
            "_model_name": "LayoutModel",
            "_view_count": null,
            "_view_module": "@jupyter-widgets/base",
            "_view_module_version": "1.2.0",
            "_view_name": "LayoutView",
            "align_content": null,
            "align_items": null,
            "align_self": null,
            "border": null,
            "bottom": null,
            "display": null,
            "flex": null,
            "flex_flow": null,
            "grid_area": null,
            "grid_auto_columns": null,
            "grid_auto_flow": null,
            "grid_auto_rows": null,
            "grid_column": null,
            "grid_gap": null,
            "grid_row": null,
            "grid_template_areas": null,
            "grid_template_columns": null,
            "grid_template_rows": null,
            "height": null,
            "justify_content": null,
            "justify_items": null,
            "left": null,
            "margin": null,
            "max_height": null,
            "max_width": null,
            "min_height": null,
            "min_width": null,
            "object_fit": null,
            "object_position": null,
            "order": null,
            "overflow": null,
            "overflow_x": null,
            "overflow_y": null,
            "padding": null,
            "right": null,
            "top": null,
            "visibility": null,
            "width": null
          }
        },
        "f9b92c1fcbf14492829c6ced8234a48d": {
          "model_module": "@jupyter-widgets/controls",
          "model_name": "DescriptionStyleModel",
          "model_module_version": "1.5.0",
          "state": {
            "_model_module": "@jupyter-widgets/controls",
            "_model_module_version": "1.5.0",
            "_model_name": "DescriptionStyleModel",
            "_view_count": null,
            "_view_module": "@jupyter-widgets/base",
            "_view_module_version": "1.2.0",
            "_view_name": "StyleView",
            "description_width": ""
          }
        },
        "13d46b5822c24f2789d62ab025675f49": {
          "model_module": "@jupyter-widgets/controls",
          "model_name": "HBoxModel",
          "model_module_version": "1.5.0",
          "state": {
            "_dom_classes": [],
            "_model_module": "@jupyter-widgets/controls",
            "_model_module_version": "1.5.0",
            "_model_name": "HBoxModel",
            "_view_count": null,
            "_view_module": "@jupyter-widgets/controls",
            "_view_module_version": "1.5.0",
            "_view_name": "HBoxView",
            "box_style": "",
            "children": [
              "IPY_MODEL_f8c3eae7e8a84f3a90e8e47a483a789e",
              "IPY_MODEL_72c7c346dc5844f3940fdcac1325523e",
              "IPY_MODEL_e8964761c6b44810bc8eb4b9d7b56e63"
            ],
            "layout": "IPY_MODEL_096559a47d46451cae4e1fb451b9af09"
          }
        },
        "f8c3eae7e8a84f3a90e8e47a483a789e": {
          "model_module": "@jupyter-widgets/controls",
          "model_name": "HTMLModel",
          "model_module_version": "1.5.0",
          "state": {
            "_dom_classes": [],
            "_model_module": "@jupyter-widgets/controls",
            "_model_module_version": "1.5.0",
            "_model_name": "HTMLModel",
            "_view_count": null,
            "_view_module": "@jupyter-widgets/controls",
            "_view_module_version": "1.5.0",
            "_view_name": "HTMLView",
            "description": "",
            "description_tooltip": null,
            "layout": "IPY_MODEL_aed4051c01c744309510c7d257496c98",
            "placeholder": "​",
            "style": "IPY_MODEL_39931658b4b546f2ba0fe010ac581bb3",
            "value": "vocab.json: 100%"
          }
        },
        "72c7c346dc5844f3940fdcac1325523e": {
          "model_module": "@jupyter-widgets/controls",
          "model_name": "FloatProgressModel",
          "model_module_version": "1.5.0",
          "state": {
            "_dom_classes": [],
            "_model_module": "@jupyter-widgets/controls",
            "_model_module_version": "1.5.0",
            "_model_name": "FloatProgressModel",
            "_view_count": null,
            "_view_module": "@jupyter-widgets/controls",
            "_view_module_version": "1.5.0",
            "_view_name": "ProgressView",
            "bar_style": "success",
            "description": "",
            "description_tooltip": null,
            "layout": "IPY_MODEL_8cde59208b8c4fae9992d56ae1c7ec40",
            "max": 898669,
            "min": 0,
            "orientation": "horizontal",
            "style": "IPY_MODEL_cc10c0ed37f54d29a7e5cdf5a8087032",
            "value": 898669
          }
        },
        "e8964761c6b44810bc8eb4b9d7b56e63": {
          "model_module": "@jupyter-widgets/controls",
          "model_name": "HTMLModel",
          "model_module_version": "1.5.0",
          "state": {
            "_dom_classes": [],
            "_model_module": "@jupyter-widgets/controls",
            "_model_module_version": "1.5.0",
            "_model_name": "HTMLModel",
            "_view_count": null,
            "_view_module": "@jupyter-widgets/controls",
            "_view_module_version": "1.5.0",
            "_view_name": "HTMLView",
            "description": "",
            "description_tooltip": null,
            "layout": "IPY_MODEL_61283c28d85b4b34b0f37b141028c731",
            "placeholder": "​",
            "style": "IPY_MODEL_dafe345adfc04caea0eaa9872ca094a8",
            "value": " 899k/899k [00:00&lt;00:00, 3.45MB/s]"
          }
        },
        "096559a47d46451cae4e1fb451b9af09": {
          "model_module": "@jupyter-widgets/base",
          "model_name": "LayoutModel",
          "model_module_version": "1.2.0",
          "state": {
            "_model_module": "@jupyter-widgets/base",
            "_model_module_version": "1.2.0",
            "_model_name": "LayoutModel",
            "_view_count": null,
            "_view_module": "@jupyter-widgets/base",
            "_view_module_version": "1.2.0",
            "_view_name": "LayoutView",
            "align_content": null,
            "align_items": null,
            "align_self": null,
            "border": null,
            "bottom": null,
            "display": null,
            "flex": null,
            "flex_flow": null,
            "grid_area": null,
            "grid_auto_columns": null,
            "grid_auto_flow": null,
            "grid_auto_rows": null,
            "grid_column": null,
            "grid_gap": null,
            "grid_row": null,
            "grid_template_areas": null,
            "grid_template_columns": null,
            "grid_template_rows": null,
            "height": null,
            "justify_content": null,
            "justify_items": null,
            "left": null,
            "margin": null,
            "max_height": null,
            "max_width": null,
            "min_height": null,
            "min_width": null,
            "object_fit": null,
            "object_position": null,
            "order": null,
            "overflow": null,
            "overflow_x": null,
            "overflow_y": null,
            "padding": null,
            "right": null,
            "top": null,
            "visibility": null,
            "width": null
          }
        },
        "aed4051c01c744309510c7d257496c98": {
          "model_module": "@jupyter-widgets/base",
          "model_name": "LayoutModel",
          "model_module_version": "1.2.0",
          "state": {
            "_model_module": "@jupyter-widgets/base",
            "_model_module_version": "1.2.0",
            "_model_name": "LayoutModel",
            "_view_count": null,
            "_view_module": "@jupyter-widgets/base",
            "_view_module_version": "1.2.0",
            "_view_name": "LayoutView",
            "align_content": null,
            "align_items": null,
            "align_self": null,
            "border": null,
            "bottom": null,
            "display": null,
            "flex": null,
            "flex_flow": null,
            "grid_area": null,
            "grid_auto_columns": null,
            "grid_auto_flow": null,
            "grid_auto_rows": null,
            "grid_column": null,
            "grid_gap": null,
            "grid_row": null,
            "grid_template_areas": null,
            "grid_template_columns": null,
            "grid_template_rows": null,
            "height": null,
            "justify_content": null,
            "justify_items": null,
            "left": null,
            "margin": null,
            "max_height": null,
            "max_width": null,
            "min_height": null,
            "min_width": null,
            "object_fit": null,
            "object_position": null,
            "order": null,
            "overflow": null,
            "overflow_x": null,
            "overflow_y": null,
            "padding": null,
            "right": null,
            "top": null,
            "visibility": null,
            "width": null
          }
        },
        "39931658b4b546f2ba0fe010ac581bb3": {
          "model_module": "@jupyter-widgets/controls",
          "model_name": "DescriptionStyleModel",
          "model_module_version": "1.5.0",
          "state": {
            "_model_module": "@jupyter-widgets/controls",
            "_model_module_version": "1.5.0",
            "_model_name": "DescriptionStyleModel",
            "_view_count": null,
            "_view_module": "@jupyter-widgets/base",
            "_view_module_version": "1.2.0",
            "_view_name": "StyleView",
            "description_width": ""
          }
        },
        "8cde59208b8c4fae9992d56ae1c7ec40": {
          "model_module": "@jupyter-widgets/base",
          "model_name": "LayoutModel",
          "model_module_version": "1.2.0",
          "state": {
            "_model_module": "@jupyter-widgets/base",
            "_model_module_version": "1.2.0",
            "_model_name": "LayoutModel",
            "_view_count": null,
            "_view_module": "@jupyter-widgets/base",
            "_view_module_version": "1.2.0",
            "_view_name": "LayoutView",
            "align_content": null,
            "align_items": null,
            "align_self": null,
            "border": null,
            "bottom": null,
            "display": null,
            "flex": null,
            "flex_flow": null,
            "grid_area": null,
            "grid_auto_columns": null,
            "grid_auto_flow": null,
            "grid_auto_rows": null,
            "grid_column": null,
            "grid_gap": null,
            "grid_row": null,
            "grid_template_areas": null,
            "grid_template_columns": null,
            "grid_template_rows": null,
            "height": null,
            "justify_content": null,
            "justify_items": null,
            "left": null,
            "margin": null,
            "max_height": null,
            "max_width": null,
            "min_height": null,
            "min_width": null,
            "object_fit": null,
            "object_position": null,
            "order": null,
            "overflow": null,
            "overflow_x": null,
            "overflow_y": null,
            "padding": null,
            "right": null,
            "top": null,
            "visibility": null,
            "width": null
          }
        },
        "cc10c0ed37f54d29a7e5cdf5a8087032": {
          "model_module": "@jupyter-widgets/controls",
          "model_name": "ProgressStyleModel",
          "model_module_version": "1.5.0",
          "state": {
            "_model_module": "@jupyter-widgets/controls",
            "_model_module_version": "1.5.0",
            "_model_name": "ProgressStyleModel",
            "_view_count": null,
            "_view_module": "@jupyter-widgets/base",
            "_view_module_version": "1.2.0",
            "_view_name": "StyleView",
            "bar_color": null,
            "description_width": ""
          }
        },
        "61283c28d85b4b34b0f37b141028c731": {
          "model_module": "@jupyter-widgets/base",
          "model_name": "LayoutModel",
          "model_module_version": "1.2.0",
          "state": {
            "_model_module": "@jupyter-widgets/base",
            "_model_module_version": "1.2.0",
            "_model_name": "LayoutModel",
            "_view_count": null,
            "_view_module": "@jupyter-widgets/base",
            "_view_module_version": "1.2.0",
            "_view_name": "LayoutView",
            "align_content": null,
            "align_items": null,
            "align_self": null,
            "border": null,
            "bottom": null,
            "display": null,
            "flex": null,
            "flex_flow": null,
            "grid_area": null,
            "grid_auto_columns": null,
            "grid_auto_flow": null,
            "grid_auto_rows": null,
            "grid_column": null,
            "grid_gap": null,
            "grid_row": null,
            "grid_template_areas": null,
            "grid_template_columns": null,
            "grid_template_rows": null,
            "height": null,
            "justify_content": null,
            "justify_items": null,
            "left": null,
            "margin": null,
            "max_height": null,
            "max_width": null,
            "min_height": null,
            "min_width": null,
            "object_fit": null,
            "object_position": null,
            "order": null,
            "overflow": null,
            "overflow_x": null,
            "overflow_y": null,
            "padding": null,
            "right": null,
            "top": null,
            "visibility": null,
            "width": null
          }
        },
        "dafe345adfc04caea0eaa9872ca094a8": {
          "model_module": "@jupyter-widgets/controls",
          "model_name": "DescriptionStyleModel",
          "model_module_version": "1.5.0",
          "state": {
            "_model_module": "@jupyter-widgets/controls",
            "_model_module_version": "1.5.0",
            "_model_name": "DescriptionStyleModel",
            "_view_count": null,
            "_view_module": "@jupyter-widgets/base",
            "_view_module_version": "1.2.0",
            "_view_name": "StyleView",
            "description_width": ""
          }
        },
        "748587d96b8e4fbfb7f6b355cf14c274": {
          "model_module": "@jupyter-widgets/controls",
          "model_name": "HBoxModel",
          "model_module_version": "1.5.0",
          "state": {
            "_dom_classes": [],
            "_model_module": "@jupyter-widgets/controls",
            "_model_module_version": "1.5.0",
            "_model_name": "HBoxModel",
            "_view_count": null,
            "_view_module": "@jupyter-widgets/controls",
            "_view_module_version": "1.5.0",
            "_view_name": "HBoxView",
            "box_style": "",
            "children": [
              "IPY_MODEL_d72c3f2b7b554e1088c7adb808353d65",
              "IPY_MODEL_3af1f2082a6e436288c52da3a3ca4c90",
              "IPY_MODEL_64cd050b360c4f099aaf4fddd7107af7"
            ],
            "layout": "IPY_MODEL_576989b403c34e81b7743a7a6b1b2091"
          }
        },
        "d72c3f2b7b554e1088c7adb808353d65": {
          "model_module": "@jupyter-widgets/controls",
          "model_name": "HTMLModel",
          "model_module_version": "1.5.0",
          "state": {
            "_dom_classes": [],
            "_model_module": "@jupyter-widgets/controls",
            "_model_module_version": "1.5.0",
            "_model_name": "HTMLModel",
            "_view_count": null,
            "_view_module": "@jupyter-widgets/controls",
            "_view_module_version": "1.5.0",
            "_view_name": "HTMLView",
            "description": "",
            "description_tooltip": null,
            "layout": "IPY_MODEL_061b9bb0e93a42579f39182df5c86deb",
            "placeholder": "​",
            "style": "IPY_MODEL_e441bb119ef14fe1adb59e4baf2d3579",
            "value": "merges.txt: 100%"
          }
        },
        "3af1f2082a6e436288c52da3a3ca4c90": {
          "model_module": "@jupyter-widgets/controls",
          "model_name": "FloatProgressModel",
          "model_module_version": "1.5.0",
          "state": {
            "_dom_classes": [],
            "_model_module": "@jupyter-widgets/controls",
            "_model_module_version": "1.5.0",
            "_model_name": "FloatProgressModel",
            "_view_count": null,
            "_view_module": "@jupyter-widgets/controls",
            "_view_module_version": "1.5.0",
            "_view_name": "ProgressView",
            "bar_style": "success",
            "description": "",
            "description_tooltip": null,
            "layout": "IPY_MODEL_09c1d4af5aa14712acdb79995bf32cc5",
            "max": 456318,
            "min": 0,
            "orientation": "horizontal",
            "style": "IPY_MODEL_acc44239c4fa4bb181e106a0d1a86b13",
            "value": 456318
          }
        },
        "64cd050b360c4f099aaf4fddd7107af7": {
          "model_module": "@jupyter-widgets/controls",
          "model_name": "HTMLModel",
          "model_module_version": "1.5.0",
          "state": {
            "_dom_classes": [],
            "_model_module": "@jupyter-widgets/controls",
            "_model_module_version": "1.5.0",
            "_model_name": "HTMLModel",
            "_view_count": null,
            "_view_module": "@jupyter-widgets/controls",
            "_view_module_version": "1.5.0",
            "_view_name": "HTMLView",
            "description": "",
            "description_tooltip": null,
            "layout": "IPY_MODEL_887c0049a6d84052853c55ab39f246ee",
            "placeholder": "​",
            "style": "IPY_MODEL_3141128cd7ce4147942d48e215a119d9",
            "value": " 456k/456k [00:00&lt;00:00, 2.33MB/s]"
          }
        },
        "576989b403c34e81b7743a7a6b1b2091": {
          "model_module": "@jupyter-widgets/base",
          "model_name": "LayoutModel",
          "model_module_version": "1.2.0",
          "state": {
            "_model_module": "@jupyter-widgets/base",
            "_model_module_version": "1.2.0",
            "_model_name": "LayoutModel",
            "_view_count": null,
            "_view_module": "@jupyter-widgets/base",
            "_view_module_version": "1.2.0",
            "_view_name": "LayoutView",
            "align_content": null,
            "align_items": null,
            "align_self": null,
            "border": null,
            "bottom": null,
            "display": null,
            "flex": null,
            "flex_flow": null,
            "grid_area": null,
            "grid_auto_columns": null,
            "grid_auto_flow": null,
            "grid_auto_rows": null,
            "grid_column": null,
            "grid_gap": null,
            "grid_row": null,
            "grid_template_areas": null,
            "grid_template_columns": null,
            "grid_template_rows": null,
            "height": null,
            "justify_content": null,
            "justify_items": null,
            "left": null,
            "margin": null,
            "max_height": null,
            "max_width": null,
            "min_height": null,
            "min_width": null,
            "object_fit": null,
            "object_position": null,
            "order": null,
            "overflow": null,
            "overflow_x": null,
            "overflow_y": null,
            "padding": null,
            "right": null,
            "top": null,
            "visibility": null,
            "width": null
          }
        },
        "061b9bb0e93a42579f39182df5c86deb": {
          "model_module": "@jupyter-widgets/base",
          "model_name": "LayoutModel",
          "model_module_version": "1.2.0",
          "state": {
            "_model_module": "@jupyter-widgets/base",
            "_model_module_version": "1.2.0",
            "_model_name": "LayoutModel",
            "_view_count": null,
            "_view_module": "@jupyter-widgets/base",
            "_view_module_version": "1.2.0",
            "_view_name": "LayoutView",
            "align_content": null,
            "align_items": null,
            "align_self": null,
            "border": null,
            "bottom": null,
            "display": null,
            "flex": null,
            "flex_flow": null,
            "grid_area": null,
            "grid_auto_columns": null,
            "grid_auto_flow": null,
            "grid_auto_rows": null,
            "grid_column": null,
            "grid_gap": null,
            "grid_row": null,
            "grid_template_areas": null,
            "grid_template_columns": null,
            "grid_template_rows": null,
            "height": null,
            "justify_content": null,
            "justify_items": null,
            "left": null,
            "margin": null,
            "max_height": null,
            "max_width": null,
            "min_height": null,
            "min_width": null,
            "object_fit": null,
            "object_position": null,
            "order": null,
            "overflow": null,
            "overflow_x": null,
            "overflow_y": null,
            "padding": null,
            "right": null,
            "top": null,
            "visibility": null,
            "width": null
          }
        },
        "e441bb119ef14fe1adb59e4baf2d3579": {
          "model_module": "@jupyter-widgets/controls",
          "model_name": "DescriptionStyleModel",
          "model_module_version": "1.5.0",
          "state": {
            "_model_module": "@jupyter-widgets/controls",
            "_model_module_version": "1.5.0",
            "_model_name": "DescriptionStyleModel",
            "_view_count": null,
            "_view_module": "@jupyter-widgets/base",
            "_view_module_version": "1.2.0",
            "_view_name": "StyleView",
            "description_width": ""
          }
        },
        "09c1d4af5aa14712acdb79995bf32cc5": {
          "model_module": "@jupyter-widgets/base",
          "model_name": "LayoutModel",
          "model_module_version": "1.2.0",
          "state": {
            "_model_module": "@jupyter-widgets/base",
            "_model_module_version": "1.2.0",
            "_model_name": "LayoutModel",
            "_view_count": null,
            "_view_module": "@jupyter-widgets/base",
            "_view_module_version": "1.2.0",
            "_view_name": "LayoutView",
            "align_content": null,
            "align_items": null,
            "align_self": null,
            "border": null,
            "bottom": null,
            "display": null,
            "flex": null,
            "flex_flow": null,
            "grid_area": null,
            "grid_auto_columns": null,
            "grid_auto_flow": null,
            "grid_auto_rows": null,
            "grid_column": null,
            "grid_gap": null,
            "grid_row": null,
            "grid_template_areas": null,
            "grid_template_columns": null,
            "grid_template_rows": null,
            "height": null,
            "justify_content": null,
            "justify_items": null,
            "left": null,
            "margin": null,
            "max_height": null,
            "max_width": null,
            "min_height": null,
            "min_width": null,
            "object_fit": null,
            "object_position": null,
            "order": null,
            "overflow": null,
            "overflow_x": null,
            "overflow_y": null,
            "padding": null,
            "right": null,
            "top": null,
            "visibility": null,
            "width": null
          }
        },
        "acc44239c4fa4bb181e106a0d1a86b13": {
          "model_module": "@jupyter-widgets/controls",
          "model_name": "ProgressStyleModel",
          "model_module_version": "1.5.0",
          "state": {
            "_model_module": "@jupyter-widgets/controls",
            "_model_module_version": "1.5.0",
            "_model_name": "ProgressStyleModel",
            "_view_count": null,
            "_view_module": "@jupyter-widgets/base",
            "_view_module_version": "1.2.0",
            "_view_name": "StyleView",
            "bar_color": null,
            "description_width": ""
          }
        },
        "887c0049a6d84052853c55ab39f246ee": {
          "model_module": "@jupyter-widgets/base",
          "model_name": "LayoutModel",
          "model_module_version": "1.2.0",
          "state": {
            "_model_module": "@jupyter-widgets/base",
            "_model_module_version": "1.2.0",
            "_model_name": "LayoutModel",
            "_view_count": null,
            "_view_module": "@jupyter-widgets/base",
            "_view_module_version": "1.2.0",
            "_view_name": "LayoutView",
            "align_content": null,
            "align_items": null,
            "align_self": null,
            "border": null,
            "bottom": null,
            "display": null,
            "flex": null,
            "flex_flow": null,
            "grid_area": null,
            "grid_auto_columns": null,
            "grid_auto_flow": null,
            "grid_auto_rows": null,
            "grid_column": null,
            "grid_gap": null,
            "grid_row": null,
            "grid_template_areas": null,
            "grid_template_columns": null,
            "grid_template_rows": null,
            "height": null,
            "justify_content": null,
            "justify_items": null,
            "left": null,
            "margin": null,
            "max_height": null,
            "max_width": null,
            "min_height": null,
            "min_width": null,
            "object_fit": null,
            "object_position": null,
            "order": null,
            "overflow": null,
            "overflow_x": null,
            "overflow_y": null,
            "padding": null,
            "right": null,
            "top": null,
            "visibility": null,
            "width": null
          }
        },
        "3141128cd7ce4147942d48e215a119d9": {
          "model_module": "@jupyter-widgets/controls",
          "model_name": "DescriptionStyleModel",
          "model_module_version": "1.5.0",
          "state": {
            "_model_module": "@jupyter-widgets/controls",
            "_model_module_version": "1.5.0",
            "_model_name": "DescriptionStyleModel",
            "_view_count": null,
            "_view_module": "@jupyter-widgets/base",
            "_view_module_version": "1.2.0",
            "_view_name": "StyleView",
            "description_width": ""
          }
        },
        "766b7f59eab4403594984a767a5b6ab4": {
          "model_module": "@jupyter-widgets/controls",
          "model_name": "HBoxModel",
          "model_module_version": "1.5.0",
          "state": {
            "_dom_classes": [],
            "_model_module": "@jupyter-widgets/controls",
            "_model_module_version": "1.5.0",
            "_model_name": "HBoxModel",
            "_view_count": null,
            "_view_module": "@jupyter-widgets/controls",
            "_view_module_version": "1.5.0",
            "_view_name": "HBoxView",
            "box_style": "",
            "children": [
              "IPY_MODEL_73348d46fc344bc79c22104aa1d0778d",
              "IPY_MODEL_e6843bcc4a8e4ab1a45d6aa52388d15a",
              "IPY_MODEL_77b4da0fdc394705804edcec0ff566ac"
            ],
            "layout": "IPY_MODEL_93793e1cf4144a86b05cdc9d6fd6d46e"
          }
        },
        "73348d46fc344bc79c22104aa1d0778d": {
          "model_module": "@jupyter-widgets/controls",
          "model_name": "HTMLModel",
          "model_module_version": "1.5.0",
          "state": {
            "_dom_classes": [],
            "_model_module": "@jupyter-widgets/controls",
            "_model_module_version": "1.5.0",
            "_model_name": "HTMLModel",
            "_view_count": null,
            "_view_module": "@jupyter-widgets/controls",
            "_view_module_version": "1.5.0",
            "_view_name": "HTMLView",
            "description": "",
            "description_tooltip": null,
            "layout": "IPY_MODEL_8596d5c17ebc404485223f869bfc1e20",
            "placeholder": "​",
            "style": "IPY_MODEL_e785bd9ffacd491485ada47e4abea260",
            "value": "tokenizer.json: 100%"
          }
        },
        "e6843bcc4a8e4ab1a45d6aa52388d15a": {
          "model_module": "@jupyter-widgets/controls",
          "model_name": "FloatProgressModel",
          "model_module_version": "1.5.0",
          "state": {
            "_dom_classes": [],
            "_model_module": "@jupyter-widgets/controls",
            "_model_module_version": "1.5.0",
            "_model_name": "FloatProgressModel",
            "_view_count": null,
            "_view_module": "@jupyter-widgets/controls",
            "_view_module_version": "1.5.0",
            "_view_name": "ProgressView",
            "bar_style": "success",
            "description": "",
            "description_tooltip": null,
            "layout": "IPY_MODEL_fa1e2d21f2ee41989ff0def85bfa25fa",
            "max": 2107652,
            "min": 0,
            "orientation": "horizontal",
            "style": "IPY_MODEL_93177f60d3b447fc9ce494fad117020b",
            "value": 2107652
          }
        },
        "77b4da0fdc394705804edcec0ff566ac": {
          "model_module": "@jupyter-widgets/controls",
          "model_name": "HTMLModel",
          "model_module_version": "1.5.0",
          "state": {
            "_dom_classes": [],
            "_model_module": "@jupyter-widgets/controls",
            "_model_module_version": "1.5.0",
            "_model_name": "HTMLModel",
            "_view_count": null,
            "_view_module": "@jupyter-widgets/controls",
            "_view_module_version": "1.5.0",
            "_view_name": "HTMLView",
            "description": "",
            "description_tooltip": null,
            "layout": "IPY_MODEL_bc2679021aff45819bad102a802b9105",
            "placeholder": "​",
            "style": "IPY_MODEL_b0fe55aabb8546babd7a6edfc51e9a91",
            "value": " 2.11M/2.11M [00:00&lt;00:00, 19.6MB/s]"
          }
        },
        "93793e1cf4144a86b05cdc9d6fd6d46e": {
          "model_module": "@jupyter-widgets/base",
          "model_name": "LayoutModel",
          "model_module_version": "1.2.0",
          "state": {
            "_model_module": "@jupyter-widgets/base",
            "_model_module_version": "1.2.0",
            "_model_name": "LayoutModel",
            "_view_count": null,
            "_view_module": "@jupyter-widgets/base",
            "_view_module_version": "1.2.0",
            "_view_name": "LayoutView",
            "align_content": null,
            "align_items": null,
            "align_self": null,
            "border": null,
            "bottom": null,
            "display": null,
            "flex": null,
            "flex_flow": null,
            "grid_area": null,
            "grid_auto_columns": null,
            "grid_auto_flow": null,
            "grid_auto_rows": null,
            "grid_column": null,
            "grid_gap": null,
            "grid_row": null,
            "grid_template_areas": null,
            "grid_template_columns": null,
            "grid_template_rows": null,
            "height": null,
            "justify_content": null,
            "justify_items": null,
            "left": null,
            "margin": null,
            "max_height": null,
            "max_width": null,
            "min_height": null,
            "min_width": null,
            "object_fit": null,
            "object_position": null,
            "order": null,
            "overflow": null,
            "overflow_x": null,
            "overflow_y": null,
            "padding": null,
            "right": null,
            "top": null,
            "visibility": null,
            "width": null
          }
        },
        "8596d5c17ebc404485223f869bfc1e20": {
          "model_module": "@jupyter-widgets/base",
          "model_name": "LayoutModel",
          "model_module_version": "1.2.0",
          "state": {
            "_model_module": "@jupyter-widgets/base",
            "_model_module_version": "1.2.0",
            "_model_name": "LayoutModel",
            "_view_count": null,
            "_view_module": "@jupyter-widgets/base",
            "_view_module_version": "1.2.0",
            "_view_name": "LayoutView",
            "align_content": null,
            "align_items": null,
            "align_self": null,
            "border": null,
            "bottom": null,
            "display": null,
            "flex": null,
            "flex_flow": null,
            "grid_area": null,
            "grid_auto_columns": null,
            "grid_auto_flow": null,
            "grid_auto_rows": null,
            "grid_column": null,
            "grid_gap": null,
            "grid_row": null,
            "grid_template_areas": null,
            "grid_template_columns": null,
            "grid_template_rows": null,
            "height": null,
            "justify_content": null,
            "justify_items": null,
            "left": null,
            "margin": null,
            "max_height": null,
            "max_width": null,
            "min_height": null,
            "min_width": null,
            "object_fit": null,
            "object_position": null,
            "order": null,
            "overflow": null,
            "overflow_x": null,
            "overflow_y": null,
            "padding": null,
            "right": null,
            "top": null,
            "visibility": null,
            "width": null
          }
        },
        "e785bd9ffacd491485ada47e4abea260": {
          "model_module": "@jupyter-widgets/controls",
          "model_name": "DescriptionStyleModel",
          "model_module_version": "1.5.0",
          "state": {
            "_model_module": "@jupyter-widgets/controls",
            "_model_module_version": "1.5.0",
            "_model_name": "DescriptionStyleModel",
            "_view_count": null,
            "_view_module": "@jupyter-widgets/base",
            "_view_module_version": "1.2.0",
            "_view_name": "StyleView",
            "description_width": ""
          }
        },
        "fa1e2d21f2ee41989ff0def85bfa25fa": {
          "model_module": "@jupyter-widgets/base",
          "model_name": "LayoutModel",
          "model_module_version": "1.2.0",
          "state": {
            "_model_module": "@jupyter-widgets/base",
            "_model_module_version": "1.2.0",
            "_model_name": "LayoutModel",
            "_view_count": null,
            "_view_module": "@jupyter-widgets/base",
            "_view_module_version": "1.2.0",
            "_view_name": "LayoutView",
            "align_content": null,
            "align_items": null,
            "align_self": null,
            "border": null,
            "bottom": null,
            "display": null,
            "flex": null,
            "flex_flow": null,
            "grid_area": null,
            "grid_auto_columns": null,
            "grid_auto_flow": null,
            "grid_auto_rows": null,
            "grid_column": null,
            "grid_gap": null,
            "grid_row": null,
            "grid_template_areas": null,
            "grid_template_columns": null,
            "grid_template_rows": null,
            "height": null,
            "justify_content": null,
            "justify_items": null,
            "left": null,
            "margin": null,
            "max_height": null,
            "max_width": null,
            "min_height": null,
            "min_width": null,
            "object_fit": null,
            "object_position": null,
            "order": null,
            "overflow": null,
            "overflow_x": null,
            "overflow_y": null,
            "padding": null,
            "right": null,
            "top": null,
            "visibility": null,
            "width": null
          }
        },
        "93177f60d3b447fc9ce494fad117020b": {
          "model_module": "@jupyter-widgets/controls",
          "model_name": "ProgressStyleModel",
          "model_module_version": "1.5.0",
          "state": {
            "_model_module": "@jupyter-widgets/controls",
            "_model_module_version": "1.5.0",
            "_model_name": "ProgressStyleModel",
            "_view_count": null,
            "_view_module": "@jupyter-widgets/base",
            "_view_module_version": "1.2.0",
            "_view_name": "StyleView",
            "bar_color": null,
            "description_width": ""
          }
        },
        "bc2679021aff45819bad102a802b9105": {
          "model_module": "@jupyter-widgets/base",
          "model_name": "LayoutModel",
          "model_module_version": "1.2.0",
          "state": {
            "_model_module": "@jupyter-widgets/base",
            "_model_module_version": "1.2.0",
            "_model_name": "LayoutModel",
            "_view_count": null,
            "_view_module": "@jupyter-widgets/base",
            "_view_module_version": "1.2.0",
            "_view_name": "LayoutView",
            "align_content": null,
            "align_items": null,
            "align_self": null,
            "border": null,
            "bottom": null,
            "display": null,
            "flex": null,
            "flex_flow": null,
            "grid_area": null,
            "grid_auto_columns": null,
            "grid_auto_flow": null,
            "grid_auto_rows": null,
            "grid_column": null,
            "grid_gap": null,
            "grid_row": null,
            "grid_template_areas": null,
            "grid_template_columns": null,
            "grid_template_rows": null,
            "height": null,
            "justify_content": null,
            "justify_items": null,
            "left": null,
            "margin": null,
            "max_height": null,
            "max_width": null,
            "min_height": null,
            "min_width": null,
            "object_fit": null,
            "object_position": null,
            "order": null,
            "overflow": null,
            "overflow_x": null,
            "overflow_y": null,
            "padding": null,
            "right": null,
            "top": null,
            "visibility": null,
            "width": null
          }
        },
        "b0fe55aabb8546babd7a6edfc51e9a91": {
          "model_module": "@jupyter-widgets/controls",
          "model_name": "DescriptionStyleModel",
          "model_module_version": "1.5.0",
          "state": {
            "_model_module": "@jupyter-widgets/controls",
            "_model_module_version": "1.5.0",
            "_model_name": "DescriptionStyleModel",
            "_view_count": null,
            "_view_module": "@jupyter-widgets/base",
            "_view_module_version": "1.2.0",
            "_view_name": "StyleView",
            "description_width": ""
          }
        },
        "115b5295116a4d8686305788d7d0435d": {
          "model_module": "@jupyter-widgets/controls",
          "model_name": "HBoxModel",
          "model_module_version": "1.5.0",
          "state": {
            "_dom_classes": [],
            "_model_module": "@jupyter-widgets/controls",
            "_model_module_version": "1.5.0",
            "_model_name": "HBoxModel",
            "_view_count": null,
            "_view_module": "@jupyter-widgets/controls",
            "_view_module_version": "1.5.0",
            "_view_name": "HBoxView",
            "box_style": "",
            "children": [
              "IPY_MODEL_628b8834868540c2ae8781130132a059",
              "IPY_MODEL_419bdda7fec54a468892ebdf58346d5a",
              "IPY_MODEL_ccf77661171e439abb8f4f07bed9cdd5"
            ],
            "layout": "IPY_MODEL_7233edc18c784834a78d36daa09be3f3"
          }
        },
        "628b8834868540c2ae8781130132a059": {
          "model_module": "@jupyter-widgets/controls",
          "model_name": "HTMLModel",
          "model_module_version": "1.5.0",
          "state": {
            "_dom_classes": [],
            "_model_module": "@jupyter-widgets/controls",
            "_model_module_version": "1.5.0",
            "_model_name": "HTMLModel",
            "_view_count": null,
            "_view_module": "@jupyter-widgets/controls",
            "_view_module_version": "1.5.0",
            "_view_name": "HTMLView",
            "description": "",
            "description_tooltip": null,
            "layout": "IPY_MODEL_a8705f037cb54b4ca64b8eb312bdb0d7",
            "placeholder": "​",
            "style": "IPY_MODEL_ce85c36f5d6c4e29ab025fa7f7e6e255",
            "value": "special_tokens_map.json: 100%"
          }
        },
        "419bdda7fec54a468892ebdf58346d5a": {
          "model_module": "@jupyter-widgets/controls",
          "model_name": "FloatProgressModel",
          "model_module_version": "1.5.0",
          "state": {
            "_dom_classes": [],
            "_model_module": "@jupyter-widgets/controls",
            "_model_module_version": "1.5.0",
            "_model_name": "FloatProgressModel",
            "_view_count": null,
            "_view_module": "@jupyter-widgets/controls",
            "_view_module_version": "1.5.0",
            "_view_name": "ProgressView",
            "bar_style": "success",
            "description": "",
            "description_tooltip": null,
            "layout": "IPY_MODEL_f307576eccbc4d8aa09631af06a5862b",
            "max": 357,
            "min": 0,
            "orientation": "horizontal",
            "style": "IPY_MODEL_73c0649b3fb84fd3b66fdaef1ff3df56",
            "value": 357
          }
        },
        "ccf77661171e439abb8f4f07bed9cdd5": {
          "model_module": "@jupyter-widgets/controls",
          "model_name": "HTMLModel",
          "model_module_version": "1.5.0",
          "state": {
            "_dom_classes": [],
            "_model_module": "@jupyter-widgets/controls",
            "_model_module_version": "1.5.0",
            "_model_name": "HTMLModel",
            "_view_count": null,
            "_view_module": "@jupyter-widgets/controls",
            "_view_module_version": "1.5.0",
            "_view_name": "HTMLView",
            "description": "",
            "description_tooltip": null,
            "layout": "IPY_MODEL_36f191d3f314460ba04297c2d37e1fc9",
            "placeholder": "​",
            "style": "IPY_MODEL_bc58924e15f94f30896955fcbbd063b7",
            "value": " 357/357 [00:00&lt;00:00, 9.12kB/s]"
          }
        },
        "7233edc18c784834a78d36daa09be3f3": {
          "model_module": "@jupyter-widgets/base",
          "model_name": "LayoutModel",
          "model_module_version": "1.2.0",
          "state": {
            "_model_module": "@jupyter-widgets/base",
            "_model_module_version": "1.2.0",
            "_model_name": "LayoutModel",
            "_view_count": null,
            "_view_module": "@jupyter-widgets/base",
            "_view_module_version": "1.2.0",
            "_view_name": "LayoutView",
            "align_content": null,
            "align_items": null,
            "align_self": null,
            "border": null,
            "bottom": null,
            "display": null,
            "flex": null,
            "flex_flow": null,
            "grid_area": null,
            "grid_auto_columns": null,
            "grid_auto_flow": null,
            "grid_auto_rows": null,
            "grid_column": null,
            "grid_gap": null,
            "grid_row": null,
            "grid_template_areas": null,
            "grid_template_columns": null,
            "grid_template_rows": null,
            "height": null,
            "justify_content": null,
            "justify_items": null,
            "left": null,
            "margin": null,
            "max_height": null,
            "max_width": null,
            "min_height": null,
            "min_width": null,
            "object_fit": null,
            "object_position": null,
            "order": null,
            "overflow": null,
            "overflow_x": null,
            "overflow_y": null,
            "padding": null,
            "right": null,
            "top": null,
            "visibility": null,
            "width": null
          }
        },
        "a8705f037cb54b4ca64b8eb312bdb0d7": {
          "model_module": "@jupyter-widgets/base",
          "model_name": "LayoutModel",
          "model_module_version": "1.2.0",
          "state": {
            "_model_module": "@jupyter-widgets/base",
            "_model_module_version": "1.2.0",
            "_model_name": "LayoutModel",
            "_view_count": null,
            "_view_module": "@jupyter-widgets/base",
            "_view_module_version": "1.2.0",
            "_view_name": "LayoutView",
            "align_content": null,
            "align_items": null,
            "align_self": null,
            "border": null,
            "bottom": null,
            "display": null,
            "flex": null,
            "flex_flow": null,
            "grid_area": null,
            "grid_auto_columns": null,
            "grid_auto_flow": null,
            "grid_auto_rows": null,
            "grid_column": null,
            "grid_gap": null,
            "grid_row": null,
            "grid_template_areas": null,
            "grid_template_columns": null,
            "grid_template_rows": null,
            "height": null,
            "justify_content": null,
            "justify_items": null,
            "left": null,
            "margin": null,
            "max_height": null,
            "max_width": null,
            "min_height": null,
            "min_width": null,
            "object_fit": null,
            "object_position": null,
            "order": null,
            "overflow": null,
            "overflow_x": null,
            "overflow_y": null,
            "padding": null,
            "right": null,
            "top": null,
            "visibility": null,
            "width": null
          }
        },
        "ce85c36f5d6c4e29ab025fa7f7e6e255": {
          "model_module": "@jupyter-widgets/controls",
          "model_name": "DescriptionStyleModel",
          "model_module_version": "1.5.0",
          "state": {
            "_model_module": "@jupyter-widgets/controls",
            "_model_module_version": "1.5.0",
            "_model_name": "DescriptionStyleModel",
            "_view_count": null,
            "_view_module": "@jupyter-widgets/base",
            "_view_module_version": "1.2.0",
            "_view_name": "StyleView",
            "description_width": ""
          }
        },
        "f307576eccbc4d8aa09631af06a5862b": {
          "model_module": "@jupyter-widgets/base",
          "model_name": "LayoutModel",
          "model_module_version": "1.2.0",
          "state": {
            "_model_module": "@jupyter-widgets/base",
            "_model_module_version": "1.2.0",
            "_model_name": "LayoutModel",
            "_view_count": null,
            "_view_module": "@jupyter-widgets/base",
            "_view_module_version": "1.2.0",
            "_view_name": "LayoutView",
            "align_content": null,
            "align_items": null,
            "align_self": null,
            "border": null,
            "bottom": null,
            "display": null,
            "flex": null,
            "flex_flow": null,
            "grid_area": null,
            "grid_auto_columns": null,
            "grid_auto_flow": null,
            "grid_auto_rows": null,
            "grid_column": null,
            "grid_gap": null,
            "grid_row": null,
            "grid_template_areas": null,
            "grid_template_columns": null,
            "grid_template_rows": null,
            "height": null,
            "justify_content": null,
            "justify_items": null,
            "left": null,
            "margin": null,
            "max_height": null,
            "max_width": null,
            "min_height": null,
            "min_width": null,
            "object_fit": null,
            "object_position": null,
            "order": null,
            "overflow": null,
            "overflow_x": null,
            "overflow_y": null,
            "padding": null,
            "right": null,
            "top": null,
            "visibility": null,
            "width": null
          }
        },
        "73c0649b3fb84fd3b66fdaef1ff3df56": {
          "model_module": "@jupyter-widgets/controls",
          "model_name": "ProgressStyleModel",
          "model_module_version": "1.5.0",
          "state": {
            "_model_module": "@jupyter-widgets/controls",
            "_model_module_version": "1.5.0",
            "_model_name": "ProgressStyleModel",
            "_view_count": null,
            "_view_module": "@jupyter-widgets/base",
            "_view_module_version": "1.2.0",
            "_view_name": "StyleView",
            "bar_color": null,
            "description_width": ""
          }
        },
        "36f191d3f314460ba04297c2d37e1fc9": {
          "model_module": "@jupyter-widgets/base",
          "model_name": "LayoutModel",
          "model_module_version": "1.2.0",
          "state": {
            "_model_module": "@jupyter-widgets/base",
            "_model_module_version": "1.2.0",
            "_model_name": "LayoutModel",
            "_view_count": null,
            "_view_module": "@jupyter-widgets/base",
            "_view_module_version": "1.2.0",
            "_view_name": "LayoutView",
            "align_content": null,
            "align_items": null,
            "align_self": null,
            "border": null,
            "bottom": null,
            "display": null,
            "flex": null,
            "flex_flow": null,
            "grid_area": null,
            "grid_auto_columns": null,
            "grid_auto_flow": null,
            "grid_auto_rows": null,
            "grid_column": null,
            "grid_gap": null,
            "grid_row": null,
            "grid_template_areas": null,
            "grid_template_columns": null,
            "grid_template_rows": null,
            "height": null,
            "justify_content": null,
            "justify_items": null,
            "left": null,
            "margin": null,
            "max_height": null,
            "max_width": null,
            "min_height": null,
            "min_width": null,
            "object_fit": null,
            "object_position": null,
            "order": null,
            "overflow": null,
            "overflow_x": null,
            "overflow_y": null,
            "padding": null,
            "right": null,
            "top": null,
            "visibility": null,
            "width": null
          }
        },
        "bc58924e15f94f30896955fcbbd063b7": {
          "model_module": "@jupyter-widgets/controls",
          "model_name": "DescriptionStyleModel",
          "model_module_version": "1.5.0",
          "state": {
            "_model_module": "@jupyter-widgets/controls",
            "_model_module_version": "1.5.0",
            "_model_name": "DescriptionStyleModel",
            "_view_count": null,
            "_view_module": "@jupyter-widgets/base",
            "_view_module_version": "1.2.0",
            "_view_name": "StyleView",
            "description_width": ""
          }
        },
        "5d8af9547c994fe698eb071669f41e9b": {
          "model_module": "@jupyter-widgets/controls",
          "model_name": "HBoxModel",
          "model_module_version": "1.5.0",
          "state": {
            "_dom_classes": [],
            "_model_module": "@jupyter-widgets/controls",
            "_model_module_version": "1.5.0",
            "_model_name": "HBoxModel",
            "_view_count": null,
            "_view_module": "@jupyter-widgets/controls",
            "_view_module_version": "1.5.0",
            "_view_name": "HBoxView",
            "box_style": "",
            "children": [
              "IPY_MODEL_0ce2d36d4bcc4779aa75721a26782114",
              "IPY_MODEL_5d492baeabbb4888967ec64d31653fc7",
              "IPY_MODEL_2b554e7b51a947978ca6c2ccfbdacadb"
            ],
            "layout": "IPY_MODEL_5cc90e9d31144014b3ebb958343f131c"
          }
        },
        "0ce2d36d4bcc4779aa75721a26782114": {
          "model_module": "@jupyter-widgets/controls",
          "model_name": "HTMLModel",
          "model_module_version": "1.5.0",
          "state": {
            "_dom_classes": [],
            "_model_module": "@jupyter-widgets/controls",
            "_model_module_version": "1.5.0",
            "_model_name": "HTMLModel",
            "_view_count": null,
            "_view_module": "@jupyter-widgets/controls",
            "_view_module_version": "1.5.0",
            "_view_name": "HTMLView",
            "description": "",
            "description_tooltip": null,
            "layout": "IPY_MODEL_d86377255b7b4b8db551cd40238a75cc",
            "placeholder": "​",
            "style": "IPY_MODEL_c33c70e6424c4f4b910a1e32d98d8d5e",
            "value": "100%"
          }
        },
        "5d492baeabbb4888967ec64d31653fc7": {
          "model_module": "@jupyter-widgets/controls",
          "model_name": "FloatProgressModel",
          "model_module_version": "1.5.0",
          "state": {
            "_dom_classes": [],
            "_model_module": "@jupyter-widgets/controls",
            "_model_module_version": "1.5.0",
            "_model_name": "FloatProgressModel",
            "_view_count": null,
            "_view_module": "@jupyter-widgets/controls",
            "_view_module_version": "1.5.0",
            "_view_name": "ProgressView",
            "bar_style": "success",
            "description": "",
            "description_tooltip": null,
            "layout": "IPY_MODEL_5ce3442243bf40b7b08f1f8f1d3ac92b",
            "max": 823,
            "min": 0,
            "orientation": "horizontal",
            "style": "IPY_MODEL_36b70273abb742f9b4a5b54acec75071",
            "value": 823
          }
        },
        "2b554e7b51a947978ca6c2ccfbdacadb": {
          "model_module": "@jupyter-widgets/controls",
          "model_name": "HTMLModel",
          "model_module_version": "1.5.0",
          "state": {
            "_dom_classes": [],
            "_model_module": "@jupyter-widgets/controls",
            "_model_module_version": "1.5.0",
            "_model_name": "HTMLModel",
            "_view_count": null,
            "_view_module": "@jupyter-widgets/controls",
            "_view_module_version": "1.5.0",
            "_view_name": "HTMLView",
            "description": "",
            "description_tooltip": null,
            "layout": "IPY_MODEL_f17eb9ac0a01476bbc83a8752ea74807",
            "placeholder": "​",
            "style": "IPY_MODEL_1ce13172635e4020b2bac90423a737c5",
            "value": " 823/823 [03:51&lt;00:00,  3.15it/s]"
          }
        },
        "5cc90e9d31144014b3ebb958343f131c": {
          "model_module": "@jupyter-widgets/base",
          "model_name": "LayoutModel",
          "model_module_version": "1.2.0",
          "state": {
            "_model_module": "@jupyter-widgets/base",
            "_model_module_version": "1.2.0",
            "_model_name": "LayoutModel",
            "_view_count": null,
            "_view_module": "@jupyter-widgets/base",
            "_view_module_version": "1.2.0",
            "_view_name": "LayoutView",
            "align_content": null,
            "align_items": null,
            "align_self": null,
            "border": null,
            "bottom": null,
            "display": null,
            "flex": null,
            "flex_flow": null,
            "grid_area": null,
            "grid_auto_columns": null,
            "grid_auto_flow": null,
            "grid_auto_rows": null,
            "grid_column": null,
            "grid_gap": null,
            "grid_row": null,
            "grid_template_areas": null,
            "grid_template_columns": null,
            "grid_template_rows": null,
            "height": null,
            "justify_content": null,
            "justify_items": null,
            "left": null,
            "margin": null,
            "max_height": null,
            "max_width": null,
            "min_height": null,
            "min_width": null,
            "object_fit": null,
            "object_position": null,
            "order": null,
            "overflow": null,
            "overflow_x": null,
            "overflow_y": null,
            "padding": null,
            "right": null,
            "top": null,
            "visibility": null,
            "width": null
          }
        },
        "d86377255b7b4b8db551cd40238a75cc": {
          "model_module": "@jupyter-widgets/base",
          "model_name": "LayoutModel",
          "model_module_version": "1.2.0",
          "state": {
            "_model_module": "@jupyter-widgets/base",
            "_model_module_version": "1.2.0",
            "_model_name": "LayoutModel",
            "_view_count": null,
            "_view_module": "@jupyter-widgets/base",
            "_view_module_version": "1.2.0",
            "_view_name": "LayoutView",
            "align_content": null,
            "align_items": null,
            "align_self": null,
            "border": null,
            "bottom": null,
            "display": null,
            "flex": null,
            "flex_flow": null,
            "grid_area": null,
            "grid_auto_columns": null,
            "grid_auto_flow": null,
            "grid_auto_rows": null,
            "grid_column": null,
            "grid_gap": null,
            "grid_row": null,
            "grid_template_areas": null,
            "grid_template_columns": null,
            "grid_template_rows": null,
            "height": null,
            "justify_content": null,
            "justify_items": null,
            "left": null,
            "margin": null,
            "max_height": null,
            "max_width": null,
            "min_height": null,
            "min_width": null,
            "object_fit": null,
            "object_position": null,
            "order": null,
            "overflow": null,
            "overflow_x": null,
            "overflow_y": null,
            "padding": null,
            "right": null,
            "top": null,
            "visibility": null,
            "width": null
          }
        },
        "c33c70e6424c4f4b910a1e32d98d8d5e": {
          "model_module": "@jupyter-widgets/controls",
          "model_name": "DescriptionStyleModel",
          "model_module_version": "1.5.0",
          "state": {
            "_model_module": "@jupyter-widgets/controls",
            "_model_module_version": "1.5.0",
            "_model_name": "DescriptionStyleModel",
            "_view_count": null,
            "_view_module": "@jupyter-widgets/base",
            "_view_module_version": "1.2.0",
            "_view_name": "StyleView",
            "description_width": ""
          }
        },
        "5ce3442243bf40b7b08f1f8f1d3ac92b": {
          "model_module": "@jupyter-widgets/base",
          "model_name": "LayoutModel",
          "model_module_version": "1.2.0",
          "state": {
            "_model_module": "@jupyter-widgets/base",
            "_model_module_version": "1.2.0",
            "_model_name": "LayoutModel",
            "_view_count": null,
            "_view_module": "@jupyter-widgets/base",
            "_view_module_version": "1.2.0",
            "_view_name": "LayoutView",
            "align_content": null,
            "align_items": null,
            "align_self": null,
            "border": null,
            "bottom": null,
            "display": null,
            "flex": null,
            "flex_flow": null,
            "grid_area": null,
            "grid_auto_columns": null,
            "grid_auto_flow": null,
            "grid_auto_rows": null,
            "grid_column": null,
            "grid_gap": null,
            "grid_row": null,
            "grid_template_areas": null,
            "grid_template_columns": null,
            "grid_template_rows": null,
            "height": null,
            "justify_content": null,
            "justify_items": null,
            "left": null,
            "margin": null,
            "max_height": null,
            "max_width": null,
            "min_height": null,
            "min_width": null,
            "object_fit": null,
            "object_position": null,
            "order": null,
            "overflow": null,
            "overflow_x": null,
            "overflow_y": null,
            "padding": null,
            "right": null,
            "top": null,
            "visibility": null,
            "width": null
          }
        },
        "36b70273abb742f9b4a5b54acec75071": {
          "model_module": "@jupyter-widgets/controls",
          "model_name": "ProgressStyleModel",
          "model_module_version": "1.5.0",
          "state": {
            "_model_module": "@jupyter-widgets/controls",
            "_model_module_version": "1.5.0",
            "_model_name": "ProgressStyleModel",
            "_view_count": null,
            "_view_module": "@jupyter-widgets/base",
            "_view_module_version": "1.2.0",
            "_view_name": "StyleView",
            "bar_color": null,
            "description_width": ""
          }
        },
        "f17eb9ac0a01476bbc83a8752ea74807": {
          "model_module": "@jupyter-widgets/base",
          "model_name": "LayoutModel",
          "model_module_version": "1.2.0",
          "state": {
            "_model_module": "@jupyter-widgets/base",
            "_model_module_version": "1.2.0",
            "_model_name": "LayoutModel",
            "_view_count": null,
            "_view_module": "@jupyter-widgets/base",
            "_view_module_version": "1.2.0",
            "_view_name": "LayoutView",
            "align_content": null,
            "align_items": null,
            "align_self": null,
            "border": null,
            "bottom": null,
            "display": null,
            "flex": null,
            "flex_flow": null,
            "grid_area": null,
            "grid_auto_columns": null,
            "grid_auto_flow": null,
            "grid_auto_rows": null,
            "grid_column": null,
            "grid_gap": null,
            "grid_row": null,
            "grid_template_areas": null,
            "grid_template_columns": null,
            "grid_template_rows": null,
            "height": null,
            "justify_content": null,
            "justify_items": null,
            "left": null,
            "margin": null,
            "max_height": null,
            "max_width": null,
            "min_height": null,
            "min_width": null,
            "object_fit": null,
            "object_position": null,
            "order": null,
            "overflow": null,
            "overflow_x": null,
            "overflow_y": null,
            "padding": null,
            "right": null,
            "top": null,
            "visibility": null,
            "width": null
          }
        },
        "1ce13172635e4020b2bac90423a737c5": {
          "model_module": "@jupyter-widgets/controls",
          "model_name": "DescriptionStyleModel",
          "model_module_version": "1.5.0",
          "state": {
            "_model_module": "@jupyter-widgets/controls",
            "_model_module_version": "1.5.0",
            "_model_name": "DescriptionStyleModel",
            "_view_count": null,
            "_view_module": "@jupyter-widgets/base",
            "_view_module_version": "1.2.0",
            "_view_name": "StyleView",
            "description_width": ""
          }
        },
        "c9534b1e175247d1a5f545e638ae641a": {
          "model_module": "@jupyter-widgets/controls",
          "model_name": "HBoxModel",
          "model_module_version": "1.5.0",
          "state": {
            "_dom_classes": [],
            "_model_module": "@jupyter-widgets/controls",
            "_model_module_version": "1.5.0",
            "_model_name": "HBoxModel",
            "_view_count": null,
            "_view_module": "@jupyter-widgets/controls",
            "_view_module_version": "1.5.0",
            "_view_name": "HBoxView",
            "box_style": "",
            "children": [
              "IPY_MODEL_126387d043b2420ca35d7abf2379cc4c",
              "IPY_MODEL_7c67aa7052244677b0cd68566653e47c",
              "IPY_MODEL_33635c934f884dc9bebdabf234627113"
            ],
            "layout": "IPY_MODEL_d4c4b12bbc084de8804d941648df67ac"
          }
        },
        "126387d043b2420ca35d7abf2379cc4c": {
          "model_module": "@jupyter-widgets/controls",
          "model_name": "HTMLModel",
          "model_module_version": "1.5.0",
          "state": {
            "_dom_classes": [],
            "_model_module": "@jupyter-widgets/controls",
            "_model_module_version": "1.5.0",
            "_model_name": "HTMLModel",
            "_view_count": null,
            "_view_module": "@jupyter-widgets/controls",
            "_view_module_version": "1.5.0",
            "_view_name": "HTMLView",
            "description": "",
            "description_tooltip": null,
            "layout": "IPY_MODEL_f793c7385f874f7ba36208d43381bd1d",
            "placeholder": "​",
            "style": "IPY_MODEL_9e3fc5f9ef1e43e18352456464bf3a85",
            "value": "100%"
          }
        },
        "7c67aa7052244677b0cd68566653e47c": {
          "model_module": "@jupyter-widgets/controls",
          "model_name": "FloatProgressModel",
          "model_module_version": "1.5.0",
          "state": {
            "_dom_classes": [],
            "_model_module": "@jupyter-widgets/controls",
            "_model_module_version": "1.5.0",
            "_model_name": "FloatProgressModel",
            "_view_count": null,
            "_view_module": "@jupyter-widgets/controls",
            "_view_module_version": "1.5.0",
            "_view_name": "ProgressView",
            "bar_style": "success",
            "description": "",
            "description_tooltip": null,
            "layout": "IPY_MODEL_d3196b85994f41de99031ece3f5e048c",
            "max": 823,
            "min": 0,
            "orientation": "horizontal",
            "style": "IPY_MODEL_c793a6120d814387b1a0a4173884d44f",
            "value": 823
          }
        },
        "33635c934f884dc9bebdabf234627113": {
          "model_module": "@jupyter-widgets/controls",
          "model_name": "HTMLModel",
          "model_module_version": "1.5.0",
          "state": {
            "_dom_classes": [],
            "_model_module": "@jupyter-widgets/controls",
            "_model_module_version": "1.5.0",
            "_model_name": "HTMLModel",
            "_view_count": null,
            "_view_module": "@jupyter-widgets/controls",
            "_view_module_version": "1.5.0",
            "_view_name": "HTMLView",
            "description": "",
            "description_tooltip": null,
            "layout": "IPY_MODEL_dfa76711064b4b099a000c642f7c8079",
            "placeholder": "​",
            "style": "IPY_MODEL_6ca308599fcd4ce0961a28f44bb96d57",
            "value": " 823/823 [03:50&lt;00:00,  3.22it/s]"
          }
        },
        "d4c4b12bbc084de8804d941648df67ac": {
          "model_module": "@jupyter-widgets/base",
          "model_name": "LayoutModel",
          "model_module_version": "1.2.0",
          "state": {
            "_model_module": "@jupyter-widgets/base",
            "_model_module_version": "1.2.0",
            "_model_name": "LayoutModel",
            "_view_count": null,
            "_view_module": "@jupyter-widgets/base",
            "_view_module_version": "1.2.0",
            "_view_name": "LayoutView",
            "align_content": null,
            "align_items": null,
            "align_self": null,
            "border": null,
            "bottom": null,
            "display": null,
            "flex": null,
            "flex_flow": null,
            "grid_area": null,
            "grid_auto_columns": null,
            "grid_auto_flow": null,
            "grid_auto_rows": null,
            "grid_column": null,
            "grid_gap": null,
            "grid_row": null,
            "grid_template_areas": null,
            "grid_template_columns": null,
            "grid_template_rows": null,
            "height": null,
            "justify_content": null,
            "justify_items": null,
            "left": null,
            "margin": null,
            "max_height": null,
            "max_width": null,
            "min_height": null,
            "min_width": null,
            "object_fit": null,
            "object_position": null,
            "order": null,
            "overflow": null,
            "overflow_x": null,
            "overflow_y": null,
            "padding": null,
            "right": null,
            "top": null,
            "visibility": null,
            "width": null
          }
        },
        "f793c7385f874f7ba36208d43381bd1d": {
          "model_module": "@jupyter-widgets/base",
          "model_name": "LayoutModel",
          "model_module_version": "1.2.0",
          "state": {
            "_model_module": "@jupyter-widgets/base",
            "_model_module_version": "1.2.0",
            "_model_name": "LayoutModel",
            "_view_count": null,
            "_view_module": "@jupyter-widgets/base",
            "_view_module_version": "1.2.0",
            "_view_name": "LayoutView",
            "align_content": null,
            "align_items": null,
            "align_self": null,
            "border": null,
            "bottom": null,
            "display": null,
            "flex": null,
            "flex_flow": null,
            "grid_area": null,
            "grid_auto_columns": null,
            "grid_auto_flow": null,
            "grid_auto_rows": null,
            "grid_column": null,
            "grid_gap": null,
            "grid_row": null,
            "grid_template_areas": null,
            "grid_template_columns": null,
            "grid_template_rows": null,
            "height": null,
            "justify_content": null,
            "justify_items": null,
            "left": null,
            "margin": null,
            "max_height": null,
            "max_width": null,
            "min_height": null,
            "min_width": null,
            "object_fit": null,
            "object_position": null,
            "order": null,
            "overflow": null,
            "overflow_x": null,
            "overflow_y": null,
            "padding": null,
            "right": null,
            "top": null,
            "visibility": null,
            "width": null
          }
        },
        "9e3fc5f9ef1e43e18352456464bf3a85": {
          "model_module": "@jupyter-widgets/controls",
          "model_name": "DescriptionStyleModel",
          "model_module_version": "1.5.0",
          "state": {
            "_model_module": "@jupyter-widgets/controls",
            "_model_module_version": "1.5.0",
            "_model_name": "DescriptionStyleModel",
            "_view_count": null,
            "_view_module": "@jupyter-widgets/base",
            "_view_module_version": "1.2.0",
            "_view_name": "StyleView",
            "description_width": ""
          }
        },
        "d3196b85994f41de99031ece3f5e048c": {
          "model_module": "@jupyter-widgets/base",
          "model_name": "LayoutModel",
          "model_module_version": "1.2.0",
          "state": {
            "_model_module": "@jupyter-widgets/base",
            "_model_module_version": "1.2.0",
            "_model_name": "LayoutModel",
            "_view_count": null,
            "_view_module": "@jupyter-widgets/base",
            "_view_module_version": "1.2.0",
            "_view_name": "LayoutView",
            "align_content": null,
            "align_items": null,
            "align_self": null,
            "border": null,
            "bottom": null,
            "display": null,
            "flex": null,
            "flex_flow": null,
            "grid_area": null,
            "grid_auto_columns": null,
            "grid_auto_flow": null,
            "grid_auto_rows": null,
            "grid_column": null,
            "grid_gap": null,
            "grid_row": null,
            "grid_template_areas": null,
            "grid_template_columns": null,
            "grid_template_rows": null,
            "height": null,
            "justify_content": null,
            "justify_items": null,
            "left": null,
            "margin": null,
            "max_height": null,
            "max_width": null,
            "min_height": null,
            "min_width": null,
            "object_fit": null,
            "object_position": null,
            "order": null,
            "overflow": null,
            "overflow_x": null,
            "overflow_y": null,
            "padding": null,
            "right": null,
            "top": null,
            "visibility": null,
            "width": null
          }
        },
        "c793a6120d814387b1a0a4173884d44f": {
          "model_module": "@jupyter-widgets/controls",
          "model_name": "ProgressStyleModel",
          "model_module_version": "1.5.0",
          "state": {
            "_model_module": "@jupyter-widgets/controls",
            "_model_module_version": "1.5.0",
            "_model_name": "ProgressStyleModel",
            "_view_count": null,
            "_view_module": "@jupyter-widgets/base",
            "_view_module_version": "1.2.0",
            "_view_name": "StyleView",
            "bar_color": null,
            "description_width": ""
          }
        },
        "dfa76711064b4b099a000c642f7c8079": {
          "model_module": "@jupyter-widgets/base",
          "model_name": "LayoutModel",
          "model_module_version": "1.2.0",
          "state": {
            "_model_module": "@jupyter-widgets/base",
            "_model_module_version": "1.2.0",
            "_model_name": "LayoutModel",
            "_view_count": null,
            "_view_module": "@jupyter-widgets/base",
            "_view_module_version": "1.2.0",
            "_view_name": "LayoutView",
            "align_content": null,
            "align_items": null,
            "align_self": null,
            "border": null,
            "bottom": null,
            "display": null,
            "flex": null,
            "flex_flow": null,
            "grid_area": null,
            "grid_auto_columns": null,
            "grid_auto_flow": null,
            "grid_auto_rows": null,
            "grid_column": null,
            "grid_gap": null,
            "grid_row": null,
            "grid_template_areas": null,
            "grid_template_columns": null,
            "grid_template_rows": null,
            "height": null,
            "justify_content": null,
            "justify_items": null,
            "left": null,
            "margin": null,
            "max_height": null,
            "max_width": null,
            "min_height": null,
            "min_width": null,
            "object_fit": null,
            "object_position": null,
            "order": null,
            "overflow": null,
            "overflow_x": null,
            "overflow_y": null,
            "padding": null,
            "right": null,
            "top": null,
            "visibility": null,
            "width": null
          }
        },
        "6ca308599fcd4ce0961a28f44bb96d57": {
          "model_module": "@jupyter-widgets/controls",
          "model_name": "DescriptionStyleModel",
          "model_module_version": "1.5.0",
          "state": {
            "_model_module": "@jupyter-widgets/controls",
            "_model_module_version": "1.5.0",
            "_model_name": "DescriptionStyleModel",
            "_view_count": null,
            "_view_module": "@jupyter-widgets/base",
            "_view_module_version": "1.2.0",
            "_view_name": "StyleView",
            "description_width": ""
          }
        },
        "8577e2fb5ae5488ea6ce54e14c33545b": {
          "model_module": "@jupyter-widgets/controls",
          "model_name": "HBoxModel",
          "model_module_version": "1.5.0",
          "state": {
            "_dom_classes": [],
            "_model_module": "@jupyter-widgets/controls",
            "_model_module_version": "1.5.0",
            "_model_name": "HBoxModel",
            "_view_count": null,
            "_view_module": "@jupyter-widgets/controls",
            "_view_module_version": "1.5.0",
            "_view_name": "HBoxView",
            "box_style": "",
            "children": [
              "IPY_MODEL_7b3bc86432a04b32af1cb4fd10ad907e",
              "IPY_MODEL_688337bff5d14932bc01672a267a11ec",
              "IPY_MODEL_cb9f346fe28441f3a222149623b5e47a"
            ],
            "layout": "IPY_MODEL_99fd5242311248c190f47689129b97c1"
          }
        },
        "7b3bc86432a04b32af1cb4fd10ad907e": {
          "model_module": "@jupyter-widgets/controls",
          "model_name": "HTMLModel",
          "model_module_version": "1.5.0",
          "state": {
            "_dom_classes": [],
            "_model_module": "@jupyter-widgets/controls",
            "_model_module_version": "1.5.0",
            "_model_name": "HTMLModel",
            "_view_count": null,
            "_view_module": "@jupyter-widgets/controls",
            "_view_module_version": "1.5.0",
            "_view_name": "HTMLView",
            "description": "",
            "description_tooltip": null,
            "layout": "IPY_MODEL_8e30e2f1cb6b4d77b469a414fc008ea9",
            "placeholder": "​",
            "style": "IPY_MODEL_63388310a703483da8ea9c59a4144e30",
            "value": "100%"
          }
        },
        "688337bff5d14932bc01672a267a11ec": {
          "model_module": "@jupyter-widgets/controls",
          "model_name": "FloatProgressModel",
          "model_module_version": "1.5.0",
          "state": {
            "_dom_classes": [],
            "_model_module": "@jupyter-widgets/controls",
            "_model_module_version": "1.5.0",
            "_model_name": "FloatProgressModel",
            "_view_count": null,
            "_view_module": "@jupyter-widgets/controls",
            "_view_module_version": "1.5.0",
            "_view_name": "ProgressView",
            "bar_style": "success",
            "description": "",
            "description_tooltip": null,
            "layout": "IPY_MODEL_6c31c484f42e462087fb67c1adb2acb1",
            "max": 823,
            "min": 0,
            "orientation": "horizontal",
            "style": "IPY_MODEL_e33edb531920431b86fbfd985df35aeb",
            "value": 823
          }
        },
        "cb9f346fe28441f3a222149623b5e47a": {
          "model_module": "@jupyter-widgets/controls",
          "model_name": "HTMLModel",
          "model_module_version": "1.5.0",
          "state": {
            "_dom_classes": [],
            "_model_module": "@jupyter-widgets/controls",
            "_model_module_version": "1.5.0",
            "_model_name": "HTMLModel",
            "_view_count": null,
            "_view_module": "@jupyter-widgets/controls",
            "_view_module_version": "1.5.0",
            "_view_name": "HTMLView",
            "description": "",
            "description_tooltip": null,
            "layout": "IPY_MODEL_519bf173d1ff4f7ba88afb23d9e46981",
            "placeholder": "​",
            "style": "IPY_MODEL_b5d8cedaf83f4c0e8df28acd950f82fc",
            "value": " 823/823 [03:52&lt;00:00,  3.18it/s]"
          }
        },
        "99fd5242311248c190f47689129b97c1": {
          "model_module": "@jupyter-widgets/base",
          "model_name": "LayoutModel",
          "model_module_version": "1.2.0",
          "state": {
            "_model_module": "@jupyter-widgets/base",
            "_model_module_version": "1.2.0",
            "_model_name": "LayoutModel",
            "_view_count": null,
            "_view_module": "@jupyter-widgets/base",
            "_view_module_version": "1.2.0",
            "_view_name": "LayoutView",
            "align_content": null,
            "align_items": null,
            "align_self": null,
            "border": null,
            "bottom": null,
            "display": null,
            "flex": null,
            "flex_flow": null,
            "grid_area": null,
            "grid_auto_columns": null,
            "grid_auto_flow": null,
            "grid_auto_rows": null,
            "grid_column": null,
            "grid_gap": null,
            "grid_row": null,
            "grid_template_areas": null,
            "grid_template_columns": null,
            "grid_template_rows": null,
            "height": null,
            "justify_content": null,
            "justify_items": null,
            "left": null,
            "margin": null,
            "max_height": null,
            "max_width": null,
            "min_height": null,
            "min_width": null,
            "object_fit": null,
            "object_position": null,
            "order": null,
            "overflow": null,
            "overflow_x": null,
            "overflow_y": null,
            "padding": null,
            "right": null,
            "top": null,
            "visibility": null,
            "width": null
          }
        },
        "8e30e2f1cb6b4d77b469a414fc008ea9": {
          "model_module": "@jupyter-widgets/base",
          "model_name": "LayoutModel",
          "model_module_version": "1.2.0",
          "state": {
            "_model_module": "@jupyter-widgets/base",
            "_model_module_version": "1.2.0",
            "_model_name": "LayoutModel",
            "_view_count": null,
            "_view_module": "@jupyter-widgets/base",
            "_view_module_version": "1.2.0",
            "_view_name": "LayoutView",
            "align_content": null,
            "align_items": null,
            "align_self": null,
            "border": null,
            "bottom": null,
            "display": null,
            "flex": null,
            "flex_flow": null,
            "grid_area": null,
            "grid_auto_columns": null,
            "grid_auto_flow": null,
            "grid_auto_rows": null,
            "grid_column": null,
            "grid_gap": null,
            "grid_row": null,
            "grid_template_areas": null,
            "grid_template_columns": null,
            "grid_template_rows": null,
            "height": null,
            "justify_content": null,
            "justify_items": null,
            "left": null,
            "margin": null,
            "max_height": null,
            "max_width": null,
            "min_height": null,
            "min_width": null,
            "object_fit": null,
            "object_position": null,
            "order": null,
            "overflow": null,
            "overflow_x": null,
            "overflow_y": null,
            "padding": null,
            "right": null,
            "top": null,
            "visibility": null,
            "width": null
          }
        },
        "63388310a703483da8ea9c59a4144e30": {
          "model_module": "@jupyter-widgets/controls",
          "model_name": "DescriptionStyleModel",
          "model_module_version": "1.5.0",
          "state": {
            "_model_module": "@jupyter-widgets/controls",
            "_model_module_version": "1.5.0",
            "_model_name": "DescriptionStyleModel",
            "_view_count": null,
            "_view_module": "@jupyter-widgets/base",
            "_view_module_version": "1.2.0",
            "_view_name": "StyleView",
            "description_width": ""
          }
        },
        "6c31c484f42e462087fb67c1adb2acb1": {
          "model_module": "@jupyter-widgets/base",
          "model_name": "LayoutModel",
          "model_module_version": "1.2.0",
          "state": {
            "_model_module": "@jupyter-widgets/base",
            "_model_module_version": "1.2.0",
            "_model_name": "LayoutModel",
            "_view_count": null,
            "_view_module": "@jupyter-widgets/base",
            "_view_module_version": "1.2.0",
            "_view_name": "LayoutView",
            "align_content": null,
            "align_items": null,
            "align_self": null,
            "border": null,
            "bottom": null,
            "display": null,
            "flex": null,
            "flex_flow": null,
            "grid_area": null,
            "grid_auto_columns": null,
            "grid_auto_flow": null,
            "grid_auto_rows": null,
            "grid_column": null,
            "grid_gap": null,
            "grid_row": null,
            "grid_template_areas": null,
            "grid_template_columns": null,
            "grid_template_rows": null,
            "height": null,
            "justify_content": null,
            "justify_items": null,
            "left": null,
            "margin": null,
            "max_height": null,
            "max_width": null,
            "min_height": null,
            "min_width": null,
            "object_fit": null,
            "object_position": null,
            "order": null,
            "overflow": null,
            "overflow_x": null,
            "overflow_y": null,
            "padding": null,
            "right": null,
            "top": null,
            "visibility": null,
            "width": null
          }
        },
        "e33edb531920431b86fbfd985df35aeb": {
          "model_module": "@jupyter-widgets/controls",
          "model_name": "ProgressStyleModel",
          "model_module_version": "1.5.0",
          "state": {
            "_model_module": "@jupyter-widgets/controls",
            "_model_module_version": "1.5.0",
            "_model_name": "ProgressStyleModel",
            "_view_count": null,
            "_view_module": "@jupyter-widgets/base",
            "_view_module_version": "1.2.0",
            "_view_name": "StyleView",
            "bar_color": null,
            "description_width": ""
          }
        },
        "519bf173d1ff4f7ba88afb23d9e46981": {
          "model_module": "@jupyter-widgets/base",
          "model_name": "LayoutModel",
          "model_module_version": "1.2.0",
          "state": {
            "_model_module": "@jupyter-widgets/base",
            "_model_module_version": "1.2.0",
            "_model_name": "LayoutModel",
            "_view_count": null,
            "_view_module": "@jupyter-widgets/base",
            "_view_module_version": "1.2.0",
            "_view_name": "LayoutView",
            "align_content": null,
            "align_items": null,
            "align_self": null,
            "border": null,
            "bottom": null,
            "display": null,
            "flex": null,
            "flex_flow": null,
            "grid_area": null,
            "grid_auto_columns": null,
            "grid_auto_flow": null,
            "grid_auto_rows": null,
            "grid_column": null,
            "grid_gap": null,
            "grid_row": null,
            "grid_template_areas": null,
            "grid_template_columns": null,
            "grid_template_rows": null,
            "height": null,
            "justify_content": null,
            "justify_items": null,
            "left": null,
            "margin": null,
            "max_height": null,
            "max_width": null,
            "min_height": null,
            "min_width": null,
            "object_fit": null,
            "object_position": null,
            "order": null,
            "overflow": null,
            "overflow_x": null,
            "overflow_y": null,
            "padding": null,
            "right": null,
            "top": null,
            "visibility": null,
            "width": null
          }
        },
        "b5d8cedaf83f4c0e8df28acd950f82fc": {
          "model_module": "@jupyter-widgets/controls",
          "model_name": "DescriptionStyleModel",
          "model_module_version": "1.5.0",
          "state": {
            "_model_module": "@jupyter-widgets/controls",
            "_model_module_version": "1.5.0",
            "_model_name": "DescriptionStyleModel",
            "_view_count": null,
            "_view_module": "@jupyter-widgets/base",
            "_view_module_version": "1.2.0",
            "_view_name": "StyleView",
            "description_width": ""
          }
        }
      }
    }
  },
  "nbformat": 4,
  "nbformat_minor": 0
}